{
 "cells": [
  {
   "cell_type": "code",
   "execution_count": 1,
   "id": "b3486b04",
   "metadata": {
    "_cell_guid": "b1076dfc-b9ad-4769-8c92-a6c4dae69d19",
    "_uuid": "8f2839f25d086af736a60e9eeb907d3b93b6e0e5",
    "execution": {
     "iopub.execute_input": "2024-12-05T09:43:33.475081Z",
     "iopub.status.busy": "2024-12-05T09:43:33.474781Z",
     "iopub.status.idle": "2024-12-05T09:43:34.181148Z",
     "shell.execute_reply": "2024-12-05T09:43:34.180455Z"
    },
    "papermill": {
     "duration": 0.719284,
     "end_time": "2024-12-05T09:43:34.183150",
     "exception": false,
     "start_time": "2024-12-05T09:43:33.463866",
     "status": "completed"
    },
    "tags": []
   },
   "outputs": [],
   "source": [
    "# This Python 3 environment comes with many helpful analytics libraries installed\n",
    "# It is defined by the kaggle/python Docker image: https://github.com/kaggle/docker-python\n",
    "# For example, here's several helpful packages to load\n",
    "\n",
    "import numpy as np # linear algebra\n",
    "import pandas as pd # data processing, CSV file I/O (e.g. pd.read_csv)\n",
    "\n",
    "# Input data files are available in the read-only \"../input/\" directory\n",
    "# For example, running this (by clicking run or pressing Shift+Enter) will list all files under the input directory\n",
    "\n",
    "import os\n",
    "for dirname, _, filenames in os.walk('/kaggle/input'):\n",
    "    for filename in filenames:\n",
    "        print(os.path.join(dirname, filename))\n",
    "\n",
    "# You can write up to 20GB to the current directory (/kaggle/working/) that gets preserved as output when you create a version using \"Save & Run All\" \n",
    "# You can also write temporary files to /kaggle/temp/, but they won't be saved outside of the current session"
   ]
  },
  {
   "cell_type": "markdown",
   "id": "9ea0e446",
   "metadata": {
    "papermill": {
     "duration": 0.008261,
     "end_time": "2024-12-05T09:43:34.200083",
     "exception": false,
     "start_time": "2024-12-05T09:43:34.191822",
     "status": "completed"
    },
    "tags": []
   },
   "source": [
    "# Tensors\n",
    "***Definition**:* A tensor is a specialized multi-dimensional array designed for mathematical and computational efficiency.\n",
    "\n",
    "Dimension: The number of directions in which a tensor spans.\n",
    "\n",
    "These are the types of tensors based on dimensions:\n",
    "- Scalar (0-dimensional tensor): Represents a single value often used for simple values or constants. Example: 7, 8.5, 3.14\n",
    "- Vector (1-dimensional tensor): Represents a sequence or collection of values. Example: [0, 2, 5], word embeddings vector\n",
    "- Matrix (2-dimensional tensor): Represents tabular or grid-like data (collection of vectors). Example [[0, 3, 2],[6, 7, 5]], grayscale image (each cell represents pixel intensity from 0 to 255)\n",
    "- 3D tensors (3-dimensional tensor): Often used for stacking data. Example: Coloured images (RGB images) (width * height * channels)\n",
    "- 4D tensors (4-dimensional tensors): Batches of RGB images. Example: (#images * width * height * channels)\n",
    "- 5D tensors (5-dimensional tensors): Video data. Dataset of video clips where each clip is made of certain number of frames and each frame is an RGB image."
   ]
  },
  {
   "cell_type": "markdown",
   "id": "91684c9f",
   "metadata": {
    "papermill": {
     "duration": 0.007574,
     "end_time": "2024-12-05T09:43:34.215439",
     "exception": false,
     "start_time": "2024-12-05T09:43:34.207865",
     "status": "completed"
    },
    "tags": []
   },
   "source": [
    "## Why are tensors useful?\n",
    "- **Mathematical Operations**: Tensors enable easy and efficient mathematical computations such as addition, dot product and so on.\n",
    "- **Representation of Real world data**: We can easily and intuitively represent real world data using tensors.\n",
    "- **Efficient computations**: Tensors are constructed in such a way that we can use hardware such as GPUs and TPUs to perform highly intensive computations in an efficient manner. This becomes crucial in training deep learning models."
   ]
  },
  {
   "cell_type": "markdown",
   "id": "88689e73",
   "metadata": {
    "papermill": {
     "duration": 0.007421,
     "end_time": "2024-12-05T09:43:34.230796",
     "exception": false,
     "start_time": "2024-12-05T09:43:34.223375",
     "status": "completed"
    },
    "tags": []
   },
   "source": [
    "## Installation and set up"
   ]
  },
  {
   "cell_type": "code",
   "execution_count": 2,
   "id": "d0fdd75a",
   "metadata": {
    "execution": {
     "iopub.execute_input": "2024-12-05T09:43:34.247649Z",
     "iopub.status.busy": "2024-12-05T09:43:34.247250Z",
     "iopub.status.idle": "2024-12-05T09:43:43.547739Z",
     "shell.execute_reply": "2024-12-05T09:43:43.546893Z"
    },
    "papermill": {
     "duration": 9.311322,
     "end_time": "2024-12-05T09:43:43.549863",
     "exception": false,
     "start_time": "2024-12-05T09:43:34.238541",
     "status": "completed"
    },
    "tags": []
   },
   "outputs": [
    {
     "name": "stdout",
     "output_type": "stream",
     "text": [
      "Requirement already satisfied: torch in /opt/conda/lib/python3.10/site-packages (2.4.0)\r\n",
      "Requirement already satisfied: torchvision in /opt/conda/lib/python3.10/site-packages (0.19.0)\r\n",
      "Requirement already satisfied: filelock in /opt/conda/lib/python3.10/site-packages (from torch) (3.15.1)\r\n",
      "Requirement already satisfied: typing-extensions>=4.8.0 in /opt/conda/lib/python3.10/site-packages (from torch) (4.12.2)\r\n",
      "Requirement already satisfied: sympy in /opt/conda/lib/python3.10/site-packages (from torch) (1.13.3)\r\n",
      "Requirement already satisfied: networkx in /opt/conda/lib/python3.10/site-packages (from torch) (3.3)\r\n",
      "Requirement already satisfied: jinja2 in /opt/conda/lib/python3.10/site-packages (from torch) (3.1.4)\r\n",
      "Requirement already satisfied: fsspec in /opt/conda/lib/python3.10/site-packages (from torch) (2024.6.0)\r\n",
      "Requirement already satisfied: numpy in /opt/conda/lib/python3.10/site-packages (from torchvision) (1.26.4)\r\n",
      "Requirement already satisfied: pillow!=8.3.*,>=5.3.0 in /opt/conda/lib/python3.10/site-packages (from torchvision) (10.3.0)\r\n",
      "Requirement already satisfied: MarkupSafe>=2.0 in /opt/conda/lib/python3.10/site-packages (from jinja2->torch) (2.1.5)\r\n",
      "Requirement already satisfied: mpmath<1.4,>=1.1.0 in /opt/conda/lib/python3.10/site-packages (from sympy->torch) (1.3.0)\r\n"
     ]
    }
   ],
   "source": [
    "!pip3 install torch torchvision"
   ]
  },
  {
   "cell_type": "code",
   "execution_count": 3,
   "id": "e8f2b7de",
   "metadata": {
    "execution": {
     "iopub.execute_input": "2024-12-05T09:43:43.567141Z",
     "iopub.status.busy": "2024-12-05T09:43:43.566884Z",
     "iopub.status.idle": "2024-12-05T09:43:46.725375Z",
     "shell.execute_reply": "2024-12-05T09:43:46.724461Z"
    },
    "papermill": {
     "duration": 3.16919,
     "end_time": "2024-12-05T09:43:46.727292",
     "exception": false,
     "start_time": "2024-12-05T09:43:43.558102",
     "status": "completed"
    },
    "tags": []
   },
   "outputs": [
    {
     "name": "stdout",
     "output_type": "stream",
     "text": [
      "2.4.0\n"
     ]
    }
   ],
   "source": [
    "import torch\n",
    "print(torch.__version__)"
   ]
  },
  {
   "cell_type": "code",
   "execution_count": 4,
   "id": "02b4a639",
   "metadata": {
    "execution": {
     "iopub.execute_input": "2024-12-05T09:43:46.744897Z",
     "iopub.status.busy": "2024-12-05T09:43:46.744156Z",
     "iopub.status.idle": "2024-12-05T09:43:46.855648Z",
     "shell.execute_reply": "2024-12-05T09:43:46.854740Z"
    },
    "papermill": {
     "duration": 0.121776,
     "end_time": "2024-12-05T09:43:46.857384",
     "exception": false,
     "start_time": "2024-12-05T09:43:46.735608",
     "status": "completed"
    },
    "tags": []
   },
   "outputs": [
    {
     "name": "stdout",
     "output_type": "stream",
     "text": [
      "GPU is available.\n",
      "Using GPU: Tesla T4\n"
     ]
    }
   ],
   "source": [
    "if torch.cuda.is_available():\n",
    "    print(\"GPU is available.\")\n",
    "    print(f\"Using GPU: {torch.cuda.get_device_name(0)}\")\n",
    "else:\n",
    "    print(\"GPU is not available, using CPU instead.\")"
   ]
  },
  {
   "cell_type": "markdown",
   "id": "4f875a77",
   "metadata": {
    "papermill": {
     "duration": 0.007926,
     "end_time": "2024-12-05T09:43:46.873725",
     "exception": false,
     "start_time": "2024-12-05T09:43:46.865799",
     "status": "completed"
    },
    "tags": []
   },
   "source": [
    "## Creating a tensor"
   ]
  },
  {
   "cell_type": "code",
   "execution_count": 5,
   "id": "3d51cca3",
   "metadata": {
    "execution": {
     "iopub.execute_input": "2024-12-05T09:43:46.890661Z",
     "iopub.status.busy": "2024-12-05T09:43:46.890355Z",
     "iopub.status.idle": "2024-12-05T09:43:46.966875Z",
     "shell.execute_reply": "2024-12-05T09:43:46.965969Z"
    },
    "papermill": {
     "duration": 0.086826,
     "end_time": "2024-12-05T09:43:46.968551",
     "exception": false,
     "start_time": "2024-12-05T09:43:46.881725",
     "status": "completed"
    },
    "tags": []
   },
   "outputs": [
    {
     "name": "stdout",
     "output_type": "stream",
     "text": [
      "tensor([[0., 0., 0.],\n",
      "        [0., 0., 0.]])\n"
     ]
    }
   ],
   "source": [
    "# using empty\n",
    "# empty() function allocates memory space according to size specified and just returns whatever data is already stored in that memory space.\n",
    "a = torch.empty((2, 3))\n",
    "print(a)"
   ]
  },
  {
   "cell_type": "code",
   "execution_count": 6,
   "id": "9230f0e9",
   "metadata": {
    "execution": {
     "iopub.execute_input": "2024-12-05T09:43:46.985949Z",
     "iopub.status.busy": "2024-12-05T09:43:46.985701Z",
     "iopub.status.idle": "2024-12-05T09:43:46.991682Z",
     "shell.execute_reply": "2024-12-05T09:43:46.990962Z"
    },
    "papermill": {
     "duration": 0.016287,
     "end_time": "2024-12-05T09:43:46.993210",
     "exception": false,
     "start_time": "2024-12-05T09:43:46.976923",
     "status": "completed"
    },
    "tags": []
   },
   "outputs": [
    {
     "data": {
      "text/plain": [
       "torch.Tensor"
      ]
     },
     "execution_count": 6,
     "metadata": {},
     "output_type": "execute_result"
    }
   ],
   "source": [
    "# check type\n",
    "type(a) # returns torch.Tensor"
   ]
  },
  {
   "cell_type": "code",
   "execution_count": 7,
   "id": "821f18ac",
   "metadata": {
    "execution": {
     "iopub.execute_input": "2024-12-05T09:43:47.010552Z",
     "iopub.status.busy": "2024-12-05T09:43:47.010271Z",
     "iopub.status.idle": "2024-12-05T09:43:47.031959Z",
     "shell.execute_reply": "2024-12-05T09:43:47.031166Z"
    },
    "papermill": {
     "duration": 0.032124,
     "end_time": "2024-12-05T09:43:47.033511",
     "exception": false,
     "start_time": "2024-12-05T09:43:47.001387",
     "status": "completed"
    },
    "tags": []
   },
   "outputs": [
    {
     "name": "stdout",
     "output_type": "stream",
     "text": [
      "zero_tensor: tensor([[0., 0., 0., 0.],\n",
      "        [0., 0., 0., 0.],\n",
      "        [0., 0., 0., 0.]])\n",
      "one_tensor: tensor([[[1., 1., 1., 1.],\n",
      "         [1., 1., 1., 1.],\n",
      "         [1., 1., 1., 1.],\n",
      "         [1., 1., 1., 1.],\n",
      "         [1., 1., 1., 1.]],\n",
      "\n",
      "        [[1., 1., 1., 1.],\n",
      "         [1., 1., 1., 1.],\n",
      "         [1., 1., 1., 1.],\n",
      "         [1., 1., 1., 1.],\n",
      "         [1., 1., 1., 1.]]])\n"
     ]
    }
   ],
   "source": [
    "# using zeroes\n",
    "zero_tensor = torch.zeros((3, 4))\n",
    "print(f\"zero_tensor: {zero_tensor}\")\n",
    "\n",
    "# using ones\n",
    "one_tensor = torch.ones((2, 5, 4))\n",
    "print(f\"one_tensor: {one_tensor}\")"
   ]
  },
  {
   "cell_type": "code",
   "execution_count": 8,
   "id": "64f01321",
   "metadata": {
    "execution": {
     "iopub.execute_input": "2024-12-05T09:43:47.050809Z",
     "iopub.status.busy": "2024-12-05T09:43:47.050565Z",
     "iopub.status.idle": "2024-12-05T09:43:47.059737Z",
     "shell.execute_reply": "2024-12-05T09:43:47.058986Z"
    },
    "papermill": {
     "duration": 0.019644,
     "end_time": "2024-12-05T09:43:47.061254",
     "exception": false,
     "start_time": "2024-12-05T09:43:47.041610",
     "status": "completed"
    },
    "tags": []
   },
   "outputs": [
    {
     "name": "stdout",
     "output_type": "stream",
     "text": [
      "tensor([[0.7353, 0.2866, 0.2491, 0.9187, 0.3981],\n",
      "        [0.5035, 0.0384, 0.1635, 0.0869, 0.8526],\n",
      "        [0.7768, 0.7328, 0.7027, 0.8809, 0.4050]])\n",
      "tensor([[0.1117, 0.8158, 0.2626, 0.4839, 0.6765],\n",
      "        [0.7539, 0.2627, 0.0428, 0.2080, 0.1180],\n",
      "        [0.1217, 0.7356, 0.7118, 0.7876, 0.4183]])\n"
     ]
    }
   ],
   "source": [
    "# using rand\n",
    "rand_tensor = torch.rand((3, 5))\n",
    "print(rand_tensor)\n",
    "\n",
    "# However, using rand() would allocate values to the tensor at random. To get some sort of deterministic reproduceability, we can use `seed` with rand()\n",
    "torch.manual_seed(100)\n",
    "manual_seed_rand_tensor = torch.rand((3, 5)) # this would create the same random tensor with the manual seed every time it is executed.\n",
    "print(manual_seed_rand_tensor)"
   ]
  },
  {
   "cell_type": "code",
   "execution_count": 9,
   "id": "a4f74fbf",
   "metadata": {
    "execution": {
     "iopub.execute_input": "2024-12-05T09:43:47.079011Z",
     "iopub.status.busy": "2024-12-05T09:43:47.078526Z",
     "iopub.status.idle": "2024-12-05T09:43:47.084200Z",
     "shell.execute_reply": "2024-12-05T09:43:47.083361Z"
    },
    "papermill": {
     "duration": 0.016145,
     "end_time": "2024-12-05T09:43:47.085772",
     "exception": false,
     "start_time": "2024-12-05T09:43:47.069627",
     "status": "completed"
    },
    "tags": []
   },
   "outputs": [
    {
     "data": {
      "text/plain": [
       "tensor([1.3000, 2.6600, 4.7000])"
      ]
     },
     "execution_count": 9,
     "metadata": {},
     "output_type": "execute_result"
    }
   ],
   "source": [
    "# using tensor\n",
    "torch.tensor([1.3, 2.66, 4.7])"
   ]
  },
  {
   "cell_type": "code",
   "execution_count": 10,
   "id": "922abd22",
   "metadata": {
    "execution": {
     "iopub.execute_input": "2024-12-05T09:43:47.103756Z",
     "iopub.status.busy": "2024-12-05T09:43:47.103049Z",
     "iopub.status.idle": "2024-12-05T09:43:47.115479Z",
     "shell.execute_reply": "2024-12-05T09:43:47.114510Z"
    },
    "papermill": {
     "duration": 0.022921,
     "end_time": "2024-12-05T09:43:47.117095",
     "exception": false,
     "start_time": "2024-12-05T09:43:47.094174",
     "status": "completed"
    },
    "tags": []
   },
   "outputs": [
    {
     "name": "stdout",
     "output_type": "stream",
     "text": [
      "using arange -> tensor([0, 3, 6, 9])\n",
      "using linspace -> tensor([ 0.0000,  0.9091,  1.8182,  2.7273,  3.6364,  4.5455,  5.4545,  6.3636,\n",
      "         7.2727,  8.1818,  9.0909, 10.0000])\n",
      "using identity matrix -> tensor([[1., 0., 0., 0., 0.],\n",
      "        [0., 1., 0., 0., 0.],\n",
      "        [0., 0., 1., 0., 0.],\n",
      "        [0., 0., 0., 1., 0.],\n",
      "        [0., 0., 0., 0., 1.]])\n",
      "using full -> tensor([[9, 9, 9],\n",
      "        [9, 9, 9],\n",
      "        [9, 9, 9],\n",
      "        [9, 9, 9]])\n"
     ]
    }
   ],
   "source": [
    "# other ways\n",
    "\n",
    "print(f\"using arange -> {torch.arange(0, 10, 3)}\")\n",
    "\n",
    "print(f\"using linspace -> {torch.linspace(0, 10, 12)}\")\n",
    "\n",
    "print(f\"using identity matrix -> {torch.eye(5)}\")\n",
    "\n",
    "print(f\"using full -> {torch.full((4, 3), 9)}\")"
   ]
  },
  {
   "cell_type": "markdown",
   "id": "d42d2ca8",
   "metadata": {
    "papermill": {
     "duration": 0.008049,
     "end_time": "2024-12-05T09:43:47.133499",
     "exception": false,
     "start_time": "2024-12-05T09:43:47.125450",
     "status": "completed"
    },
    "tags": []
   },
   "source": [
    "## Tensor shapes"
   ]
  },
  {
   "cell_type": "code",
   "execution_count": 11,
   "id": "74da3ebd",
   "metadata": {
    "execution": {
     "iopub.execute_input": "2024-12-05T09:43:47.151565Z",
     "iopub.status.busy": "2024-12-05T09:43:47.150845Z",
     "iopub.status.idle": "2024-12-05T09:43:47.155150Z",
     "shell.execute_reply": "2024-12-05T09:43:47.154460Z"
    },
    "papermill": {
     "duration": 0.014989,
     "end_time": "2024-12-05T09:43:47.156706",
     "exception": false,
     "start_time": "2024-12-05T09:43:47.141717",
     "status": "completed"
    },
    "tags": []
   },
   "outputs": [
    {
     "name": "stdout",
     "output_type": "stream",
     "text": [
      "Shape of x: torch.Size([2, 3])\n"
     ]
    }
   ],
   "source": [
    "x = torch.tensor([[2, 3, 4.5], [3.4, 20, 2]])\n",
    "print(f\"Shape of x: {x.shape}\")"
   ]
  },
  {
   "cell_type": "code",
   "execution_count": 12,
   "id": "8d63538c",
   "metadata": {
    "execution": {
     "iopub.execute_input": "2024-12-05T09:43:47.174900Z",
     "iopub.status.busy": "2024-12-05T09:43:47.174295Z",
     "iopub.status.idle": "2024-12-05T09:43:47.179948Z",
     "shell.execute_reply": "2024-12-05T09:43:47.179171Z"
    },
    "papermill": {
     "duration": 0.016209,
     "end_time": "2024-12-05T09:43:47.181391",
     "exception": false,
     "start_time": "2024-12-05T09:43:47.165182",
     "status": "completed"
    },
    "tags": []
   },
   "outputs": [
    {
     "data": {
      "text/plain": [
       "tensor([[-2.7592e+10,  3.2699e-41, -2.7662e+10],\n",
       "        [ 3.2699e-41,  1.1210e-43,  0.0000e+00]])"
      ]
     },
     "execution_count": 12,
     "metadata": {},
     "output_type": "execute_result"
    }
   ],
   "source": [
    "torch.empty_like(x) # creates an empty tensor with same shape as x"
   ]
  },
  {
   "cell_type": "code",
   "execution_count": 13,
   "id": "2a406ac4",
   "metadata": {
    "execution": {
     "iopub.execute_input": "2024-12-05T09:43:47.199086Z",
     "iopub.status.busy": "2024-12-05T09:43:47.198874Z",
     "iopub.status.idle": "2024-12-05T09:43:47.204295Z",
     "shell.execute_reply": "2024-12-05T09:43:47.203560Z"
    },
    "papermill": {
     "duration": 0.016245,
     "end_time": "2024-12-05T09:43:47.205936",
     "exception": false,
     "start_time": "2024-12-05T09:43:47.189691",
     "status": "completed"
    },
    "tags": []
   },
   "outputs": [
    {
     "data": {
      "text/plain": [
       "tensor([[0., 0., 0.],\n",
       "        [0., 0., 0.]])"
      ]
     },
     "execution_count": 13,
     "metadata": {},
     "output_type": "execute_result"
    }
   ],
   "source": [
    "torch.zeros_like(x) # creates a zeros tensor with same shape as x"
   ]
  },
  {
   "cell_type": "code",
   "execution_count": 14,
   "id": "db1b28dd",
   "metadata": {
    "execution": {
     "iopub.execute_input": "2024-12-05T09:43:47.223856Z",
     "iopub.status.busy": "2024-12-05T09:43:47.223640Z",
     "iopub.status.idle": "2024-12-05T09:43:47.230587Z",
     "shell.execute_reply": "2024-12-05T09:43:47.229898Z"
    },
    "papermill": {
     "duration": 0.017659,
     "end_time": "2024-12-05T09:43:47.232123",
     "exception": false,
     "start_time": "2024-12-05T09:43:47.214464",
     "status": "completed"
    },
    "tags": []
   },
   "outputs": [
    {
     "data": {
      "text/plain": [
       "tensor([[1., 1., 1.],\n",
       "        [1., 1., 1.]])"
      ]
     },
     "execution_count": 14,
     "metadata": {},
     "output_type": "execute_result"
    }
   ],
   "source": [
    "torch.ones_like(x) # creates a ones tensor with same shape as x"
   ]
  },
  {
   "cell_type": "code",
   "execution_count": 15,
   "id": "533c6094",
   "metadata": {
    "execution": {
     "iopub.execute_input": "2024-12-05T09:43:47.250024Z",
     "iopub.status.busy": "2024-12-05T09:43:47.249812Z",
     "iopub.status.idle": "2024-12-05T09:43:47.256511Z",
     "shell.execute_reply": "2024-12-05T09:43:47.255836Z"
    },
    "papermill": {
     "duration": 0.017461,
     "end_time": "2024-12-05T09:43:47.258092",
     "exception": false,
     "start_time": "2024-12-05T09:43:47.240631",
     "status": "completed"
    },
    "tags": []
   },
   "outputs": [
    {
     "data": {
      "text/plain": [
       "tensor([[0.9014, 0.9969, 0.7565],\n",
       "        [0.2239, 0.3023, 0.1784]])"
      ]
     },
     "execution_count": 15,
     "metadata": {},
     "output_type": "execute_result"
    }
   ],
   "source": [
    "torch.rand_like(x) # creates a rand tensor with same shape as x"
   ]
  },
  {
   "cell_type": "markdown",
   "id": "0472b5ca",
   "metadata": {
    "papermill": {
     "duration": 0.008287,
     "end_time": "2024-12-05T09:43:47.274963",
     "exception": false,
     "start_time": "2024-12-05T09:43:47.266676",
     "status": "completed"
    },
    "tags": []
   },
   "source": [
    "## Tensor data types"
   ]
  },
  {
   "cell_type": "code",
   "execution_count": 16,
   "id": "3a09b1c4",
   "metadata": {
    "execution": {
     "iopub.execute_input": "2024-12-05T09:43:47.292813Z",
     "iopub.status.busy": "2024-12-05T09:43:47.292583Z",
     "iopub.status.idle": "2024-12-05T09:43:47.296660Z",
     "shell.execute_reply": "2024-12-05T09:43:47.295836Z"
    },
    "papermill": {
     "duration": 0.014949,
     "end_time": "2024-12-05T09:43:47.298282",
     "exception": false,
     "start_time": "2024-12-05T09:43:47.283333",
     "status": "completed"
    },
    "tags": []
   },
   "outputs": [
    {
     "name": "stdout",
     "output_type": "stream",
     "text": [
      "Data type of elements in tensor: torch.float32\n"
     ]
    }
   ],
   "source": [
    "# use dtype to print the data type of tensor\n",
    "print(f\"Data type of elements in tensor: {x.dtype}\")"
   ]
  },
  {
   "cell_type": "code",
   "execution_count": 17,
   "id": "6d86d76a",
   "metadata": {
    "execution": {
     "iopub.execute_input": "2024-12-05T09:43:47.316808Z",
     "iopub.status.busy": "2024-12-05T09:43:47.316132Z",
     "iopub.status.idle": "2024-12-05T09:43:47.321610Z",
     "shell.execute_reply": "2024-12-05T09:43:47.320847Z"
    },
    "papermill": {
     "duration": 0.01617,
     "end_time": "2024-12-05T09:43:47.323141",
     "exception": false,
     "start_time": "2024-12-05T09:43:47.306971",
     "status": "completed"
    },
    "tags": []
   },
   "outputs": [
    {
     "data": {
      "text/plain": [
       "tensor([1, 2, 3], dtype=torch.int32)"
      ]
     },
     "execution_count": 17,
     "metadata": {},
     "output_type": "execute_result"
    }
   ],
   "source": [
    "# create a tensor by explicitly specifying the data type\n",
    "torch.tensor([1.0, 2.0, 3.0], dtype=torch.int32)"
   ]
  },
  {
   "cell_type": "code",
   "execution_count": 18,
   "id": "8a7207e9",
   "metadata": {
    "execution": {
     "iopub.execute_input": "2024-12-05T09:43:47.341354Z",
     "iopub.status.busy": "2024-12-05T09:43:47.341118Z",
     "iopub.status.idle": "2024-12-05T09:43:47.346551Z",
     "shell.execute_reply": "2024-12-05T09:43:47.345847Z"
    },
    "papermill": {
     "duration": 0.01616,
     "end_time": "2024-12-05T09:43:47.348060",
     "exception": false,
     "start_time": "2024-12-05T09:43:47.331900",
     "status": "completed"
    },
    "tags": []
   },
   "outputs": [
    {
     "data": {
      "text/plain": [
       "tensor([[ 2.0000,  3.0000,  4.5000],\n",
       "        [ 3.4000, 20.0000,  2.0000]])"
      ]
     },
     "execution_count": 18,
     "metadata": {},
     "output_type": "execute_result"
    }
   ],
   "source": [
    "# change the data type of existing tensor by using to() function\n",
    "x.to(torch.float32)"
   ]
  },
  {
   "cell_type": "markdown",
   "id": "f32d8bfd",
   "metadata": {
    "papermill": {
     "duration": 0.008652,
     "end_time": "2024-12-05T09:43:47.366742",
     "exception": false,
     "start_time": "2024-12-05T09:43:47.358090",
     "status": "completed"
    },
    "tags": []
   },
   "source": [
    "| **Data Type**             | **Dtype**         | **Description**                                                                                                                                                                |\n",
    "|---------------------------|-------------------|--------------------------------------------------------------------------------------------------------------------------------------------------------------------------------|\n",
    "| **32-bit Floating Point** | `torch.float32`   | Standard floating-point type used for most deep learning tasks. Provides a balance between precision and memory usage.                                                         |\n",
    "| **64-bit Floating Point** | `torch.float64`   | Double-precision floating point. Useful for high-precision numerical tasks but uses more memory.                                                                               |\n",
    "| **16-bit Floating Point** | `torch.float16`   | Half-precision floating point. Commonly used in mixed-precision training to reduce memory and computational overhead on modern GPUs.                                            |\n",
    "| **BFloat16**              | `torch.bfloat16`  | Brain floating-point format with reduced precision compared to `float16`. Used in mixed-precision training, especially on TPUs.                                                |\n",
    "| **8-bit Floating Point**  | `torch.float8`    | Ultra-low-precision floating point. Used for experimental applications and extreme memory-constrained environments (less common).                                               |\n",
    "| **8-bit Integer**         | `torch.int8`      | 8-bit signed integer. Used for quantized models to save memory and computation in inference.                                                                                   |\n",
    "| **16-bit Integer**        | `torch.int16`     | 16-bit signed integer. Useful for special numerical tasks requiring intermediate precision.                                                                                    |\n",
    "| **32-bit Integer**        | `torch.int32`     | Standard signed integer type. Commonly used for indexing and general-purpose numerical tasks.                                                                                  |\n",
    "| **64-bit Integer**        | `torch.int64`     | Long integer type. Often used for large indexing arrays or for tasks involving large numbers.                                                                                  |\n",
    "| **8-bit Unsigned Integer**| `torch.uint8`     | 8-bit unsigned integer. Commonly used for image data (e.g., pixel values between 0 and 255).                                                                                    |\n",
    "| **Boolean**               | `torch.bool`      | Boolean type, stores `True` or `False` values. Often used for masks in logical operations.                                                                                      |\n",
    "| **Complex 64**            | `torch.complex64` | Complex number type with 32-bit real and 32-bit imaginary parts. Used for scientific and signal processing tasks.                                                               |\n",
    "| **Complex 128**           | `torch.complex128`| Complex number type with 64-bit real and 64-bit imaginary parts. Offers higher precision but uses more memory.                                                                 |\n",
    "| **Quantized Integer**     | `torch.qint8`     | Quantized signed 8-bit integer. Used in quantized models for efficient inference.                                                                                              |\n",
    "| **Quantized Unsigned Integer** | `torch.quint8` | Quantized unsigned 8-bit integer. Often used for quantized tensors in image-related tasks.                                                                                     |\n"
   ]
  },
  {
   "cell_type": "markdown",
   "id": "3708a80f",
   "metadata": {
    "papermill": {
     "duration": 0.008543,
     "end_time": "2024-12-05T09:43:47.383865",
     "exception": false,
     "start_time": "2024-12-05T09:43:47.375322",
     "status": "completed"
    },
    "tags": []
   },
   "source": [
    "## Mathematical Operations"
   ]
  },
  {
   "cell_type": "code",
   "execution_count": 19,
   "id": "645ce718",
   "metadata": {
    "execution": {
     "iopub.execute_input": "2024-12-05T09:43:47.402466Z",
     "iopub.status.busy": "2024-12-05T09:43:47.401979Z",
     "iopub.status.idle": "2024-12-05T09:43:47.406740Z",
     "shell.execute_reply": "2024-12-05T09:43:47.405930Z"
    },
    "papermill": {
     "duration": 0.015789,
     "end_time": "2024-12-05T09:43:47.408255",
     "exception": false,
     "start_time": "2024-12-05T09:43:47.392466",
     "status": "completed"
    },
    "tags": []
   },
   "outputs": [
    {
     "name": "stdout",
     "output_type": "stream",
     "text": [
      "x = tensor([[0.8238, 0.5557, 0.9770],\n",
      "        [0.4440, 0.9478, 0.7445]])\n"
     ]
    }
   ],
   "source": [
    "x = torch.rand((2, 3))\n",
    "print(f\"x = {x}\")"
   ]
  },
  {
   "cell_type": "code",
   "execution_count": 20,
   "id": "9126ae7f",
   "metadata": {
    "execution": {
     "iopub.execute_input": "2024-12-05T09:43:47.427397Z",
     "iopub.status.busy": "2024-12-05T09:43:47.426684Z",
     "iopub.status.idle": "2024-12-05T09:43:47.445507Z",
     "shell.execute_reply": "2024-12-05T09:43:47.444534Z"
    },
    "papermill": {
     "duration": 0.030008,
     "end_time": "2024-12-05T09:43:47.447107",
     "exception": false,
     "start_time": "2024-12-05T09:43:47.417099",
     "status": "completed"
    },
    "tags": []
   },
   "outputs": [
    {
     "name": "stdout",
     "output_type": "stream",
     "text": [
      "add 2 -> tensor([[2.8238, 2.5557, 2.9770],\n",
      "        [2.4440, 2.9478, 2.7445]])\n",
      "sub 2 -> tensor([[-1.1762, -1.4443, -1.0230],\n",
      "        [-1.5560, -1.0522, -1.2555]])\n",
      "add 2 -> tensor([[1.6477, 1.1115, 1.9540],\n",
      "        [0.8880, 1.8957, 1.4890]])\n",
      "add 2 -> tensor([[0.4119, 0.2779, 0.4885],\n",
      "        [0.2220, 0.4739, 0.3722]])\n",
      "add 2 -> tensor([[41., 27., 48.],\n",
      "        [22., 47., 37.]])\n",
      "mod 3 -> tensor([[2., 0., 0.],\n",
      "        [1., 2., 1.]])\n",
      "power 4 -> tensor([[0.4607, 0.0954, 0.9112],\n",
      "        [0.0389, 0.8071, 0.3072]])\n"
     ]
    }
   ],
   "source": [
    "# addition\n",
    "print(f\"add 2 -> {x + 2}\")\n",
    "\n",
    "# subtraction\n",
    "print(f\"sub 2 -> {x - 2}\")\n",
    "\n",
    "# multiplication\n",
    "print(f\"add 2 -> {x * 2}\")\n",
    "\n",
    "# division\n",
    "print(f\"add 2 -> {x / 2}\")\n",
    "\n",
    "# integer division\n",
    "print(f\"add 2 -> {(x * 100) // 2}\")\n",
    "\n",
    "# modulus\n",
    "print(f\"mod 3 -> {((x * 100) // 2) % 3}\")\n",
    "\n",
    "# power\n",
    "print(f\"power 4 -> {x ** 4}\")"
   ]
  },
  {
   "cell_type": "markdown",
   "id": "6a0b782a",
   "metadata": {
    "papermill": {
     "duration": 0.008574,
     "end_time": "2024-12-05T09:43:47.465152",
     "exception": false,
     "start_time": "2024-12-05T09:43:47.456578",
     "status": "completed"
    },
    "tags": []
   },
   "source": [
    "## Elementwise operations"
   ]
  },
  {
   "cell_type": "code",
   "execution_count": 21,
   "id": "574d0977",
   "metadata": {
    "execution": {
     "iopub.execute_input": "2024-12-05T09:43:47.483571Z",
     "iopub.status.busy": "2024-12-05T09:43:47.483313Z",
     "iopub.status.idle": "2024-12-05T09:43:47.490151Z",
     "shell.execute_reply": "2024-12-05T09:43:47.489275Z"
    },
    "papermill": {
     "duration": 0.017761,
     "end_time": "2024-12-05T09:43:47.491679",
     "exception": false,
     "start_time": "2024-12-05T09:43:47.473918",
     "status": "completed"
    },
    "tags": []
   },
   "outputs": [
    {
     "name": "stdout",
     "output_type": "stream",
     "text": [
      "a + b -> tensor([[1.3794, 0.7588, 0.7362, 1.1753],\n",
      "        [0.5902, 1.1091, 0.9496, 0.0616],\n",
      "        [0.7332, 1.8586, 1.3053, 0.6079]])\n",
      "a - b -> tensor([[-0.4010, -0.2737,  0.6645, -0.1199],\n",
      "        [-0.0958,  0.4726, -0.1026, -0.0278],\n",
      "        [-0.2915,  0.0485,  0.1075, -0.2821]])\n",
      "a * b -> tensor([[4.3549e-01, 1.2523e-01, 2.5131e-02, 3.4175e-01],\n",
      "        [8.4790e-02, 2.5169e-01, 2.2279e-01, 7.5470e-04],\n",
      "        [1.1317e-01, 8.6302e-01, 4.2303e-01, 7.2481e-02]])\n",
      "a / b -> tensor([[ 0.5495,  0.4698, 19.5165,  0.8148],\n",
      "        [ 0.7206,  2.4852,  0.8050,  0.3784],\n",
      "        [ 0.4311,  1.0535,  1.1796,  0.3660]])\n"
     ]
    }
   ],
   "source": [
    "a, b = torch.rand((3, 4)), torch.rand((3, 4))\n",
    "\n",
    "# addition\n",
    "print(f\"a + b -> {a + b}\")\n",
    "\n",
    "# subtraction\n",
    "print(f\"a - b -> {a - b}\")\n",
    "\n",
    "# multiplication\n",
    "print(f\"a * b -> {a * b}\")\n",
    "\n",
    "# division\n",
    "print(f\"a / b -> {a / b}\")"
   ]
  },
  {
   "cell_type": "code",
   "execution_count": 22,
   "id": "aaeb9bee",
   "metadata": {
    "execution": {
     "iopub.execute_input": "2024-12-05T09:43:47.510812Z",
     "iopub.status.busy": "2024-12-05T09:43:47.510321Z",
     "iopub.status.idle": "2024-12-05T09:43:47.514073Z",
     "shell.execute_reply": "2024-12-05T09:43:47.513290Z"
    },
    "papermill": {
     "duration": 0.014884,
     "end_time": "2024-12-05T09:43:47.515550",
     "exception": false,
     "start_time": "2024-12-05T09:43:47.500666",
     "status": "completed"
    },
    "tags": []
   },
   "outputs": [],
   "source": [
    "c = torch.tensor([[1, 2.3, -2.45], [-4.66, -9.02, -11]])"
   ]
  },
  {
   "cell_type": "code",
   "execution_count": 23,
   "id": "1a4389a0",
   "metadata": {
    "execution": {
     "iopub.execute_input": "2024-12-05T09:43:47.534702Z",
     "iopub.status.busy": "2024-12-05T09:43:47.533961Z",
     "iopub.status.idle": "2024-12-05T09:43:47.543587Z",
     "shell.execute_reply": "2024-12-05T09:43:47.542780Z"
    },
    "papermill": {
     "duration": 0.020797,
     "end_time": "2024-12-05T09:43:47.545159",
     "exception": false,
     "start_time": "2024-12-05T09:43:47.524362",
     "status": "completed"
    },
    "tags": []
   },
   "outputs": [
    {
     "name": "stdout",
     "output_type": "stream",
     "text": [
      "Absolute value of c: tensor([[ 1.0000,  2.3000,  2.4500],\n",
      "        [ 4.6600,  9.0200, 11.0000]])\n",
      "Negative c: tensor([[-1.0000, -2.3000,  2.4500],\n",
      "        [ 4.6600,  9.0200, 11.0000]])\n",
      "Round c: tensor([[  1.,   2.,  -2.],\n",
      "        [ -5.,  -9., -11.]])\n",
      "Ceil c: tensor([[  1.,   3.,  -2.],\n",
      "        [ -4.,  -9., -11.]])\n",
      "Floor c: tensor([[  1.,   2.,  -3.],\n",
      "        [ -5., -10., -11.]])\n",
      "Clamp min=2 max=5: tensor([[2.0000, 2.3000, 2.4500],\n",
      "        [4.6600, 5.0000, 5.0000]])\n"
     ]
    }
   ],
   "source": [
    "# absolute value of tensor\n",
    "print(f\"Absolute value of c: {torch.abs(c)}\")\n",
    "\n",
    "# negative value of every element\n",
    "print(f\"Negative c: {torch.neg(c)}\")\n",
    "\n",
    "# Round\n",
    "print(f\"Round c: {torch.round(c)}\")\n",
    "\n",
    "# Ceil\n",
    "print(f\"Ceil c: {torch.ceil(c)}\")\n",
    "\n",
    "# Floor\n",
    "print(f\"Floor c: {torch.floor(c)}\")\n",
    "\n",
    "# Clamp\n",
    "# All values <= min become min and all values >=max become max\n",
    "print(f\"Clamp min=2 max=5: {torch.clamp(torch.abs(c), min=2, max=5)}\")"
   ]
  },
  {
   "cell_type": "markdown",
   "id": "fe91e3e0",
   "metadata": {
    "papermill": {
     "duration": 0.008922,
     "end_time": "2024-12-05T09:43:47.562999",
     "exception": false,
     "start_time": "2024-12-05T09:43:47.554077",
     "status": "completed"
    },
    "tags": []
   },
   "source": [
    "## Reduction operations"
   ]
  },
  {
   "cell_type": "code",
   "execution_count": 24,
   "id": "c5dd01cc",
   "metadata": {
    "execution": {
     "iopub.execute_input": "2024-12-05T09:43:47.582523Z",
     "iopub.status.busy": "2024-12-05T09:43:47.582023Z",
     "iopub.status.idle": "2024-12-05T09:43:47.587910Z",
     "shell.execute_reply": "2024-12-05T09:43:47.587243Z"
    },
    "papermill": {
     "duration": 0.017361,
     "end_time": "2024-12-05T09:43:47.589465",
     "exception": false,
     "start_time": "2024-12-05T09:43:47.572104",
     "status": "completed"
    },
    "tags": []
   },
   "outputs": [
    {
     "data": {
      "text/plain": [
       "tensor([[9., 2., 6., 7.],\n",
       "        [7., 8., 3., 6.],\n",
       "        [1., 5., 5., 0.]])"
      ]
     },
     "execution_count": 24,
     "metadata": {},
     "output_type": "execute_result"
    }
   ],
   "source": [
    "e = torch.randint(size = (3, 4), low = 0, high = 10, dtype = torch.float32)\n",
    "e"
   ]
  },
  {
   "cell_type": "code",
   "execution_count": 25,
   "id": "605312ee",
   "metadata": {
    "execution": {
     "iopub.execute_input": "2024-12-05T09:43:47.608650Z",
     "iopub.status.busy": "2024-12-05T09:43:47.608344Z",
     "iopub.status.idle": "2024-12-05T09:43:47.614633Z",
     "shell.execute_reply": "2024-12-05T09:43:47.613821Z"
    },
    "papermill": {
     "duration": 0.017567,
     "end_time": "2024-12-05T09:43:47.616136",
     "exception": false,
     "start_time": "2024-12-05T09:43:47.598569",
     "status": "completed"
    },
    "tags": []
   },
   "outputs": [
    {
     "name": "stdout",
     "output_type": "stream",
     "text": [
      "Sum of all elements: 59.0\n",
      "Sum along columns: tensor([17., 15., 14., 13.])\n",
      "Sum along rows: tensor([24., 24., 11.])\n"
     ]
    }
   ],
   "source": [
    "# sum\n",
    "print(f\"Sum of all elements: {torch.sum(e)}\")\n",
    "\n",
    "# sum along columns\n",
    "print(f\"Sum along columns: {torch.sum(e, dim = 0)}\")\n",
    "\n",
    "# sum along rows\n",
    "print(f\"Sum along rows: {torch.sum(e, dim = 1)}\")"
   ]
  },
  {
   "cell_type": "code",
   "execution_count": 26,
   "id": "8d1d52f4",
   "metadata": {
    "execution": {
     "iopub.execute_input": "2024-12-05T09:43:47.635472Z",
     "iopub.status.busy": "2024-12-05T09:43:47.635202Z",
     "iopub.status.idle": "2024-12-05T09:43:47.648356Z",
     "shell.execute_reply": "2024-12-05T09:43:47.647595Z"
    },
    "papermill": {
     "duration": 0.024889,
     "end_time": "2024-12-05T09:43:47.650187",
     "exception": false,
     "start_time": "2024-12-05T09:43:47.625298",
     "status": "completed"
    },
    "tags": []
   },
   "outputs": [
    {
     "name": "stdout",
     "output_type": "stream",
     "text": [
      "Mean of all elements: 4.916666507720947\n",
      "Mean along columns: tensor([5.6667, 5.0000, 4.6667, 4.3333])\n",
      "Median of all elements: 5.0\n",
      "Max of elements along columns: torch.return_types.max(\n",
      "values=tensor([9., 8., 6., 7.]),\n",
      "indices=tensor([0, 1, 0, 0]))\n",
      "Min of elements along rows: torch.return_types.min(\n",
      "values=tensor([2., 3., 0.]),\n",
      "indices=tensor([1, 2, 3]))\n",
      "Product of all elements: 0.0\n",
      "Standard deviation: 2.8431203365325928\n",
      "Variance: 8.083333015441895\n",
      "Argmax: 0\n",
      "Argmin: 11\n"
     ]
    }
   ],
   "source": [
    "# mean\n",
    "print(f\"Mean of all elements: {torch.mean(e)}\")\n",
    "\n",
    "# mean along columns\n",
    "print(f\"Mean along columns: {torch.mean(e, dim=0)}\")\n",
    "\n",
    "# median\n",
    "print(f\"Median of all elements: {torch.median(e)}\")\n",
    "\n",
    "# max and min\n",
    "print(f\"Max of elements along columns: {torch.max(e, dim = 0)}\")\n",
    "print(f\"Min of elements along rows: {torch.min(e, dim = 1)}\")\n",
    "\n",
    "# product\n",
    "print(f\"Product of all elements: {torch.prod(e)}\")\n",
    "\n",
    "# standard deviation\n",
    "print(f\"Standard deviation: {torch.std(e)}\")\n",
    "\n",
    "# variance\n",
    "print(f\"Variance: {torch.var(e)}\")\n",
    "\n",
    "# argmax: position of the biggest element in e (when flattened)\n",
    "# argmin: position of the smallest element in e (when flattened)\n",
    "print(f\"Argmax: {torch.argmax(e)}\")\n",
    "print(f\"Argmin: {torch.argmin(e)}\")"
   ]
  },
  {
   "cell_type": "markdown",
   "id": "090f780a",
   "metadata": {
    "papermill": {
     "duration": 0.010452,
     "end_time": "2024-12-05T09:43:47.674132",
     "exception": false,
     "start_time": "2024-12-05T09:43:47.663680",
     "status": "completed"
    },
    "tags": []
   },
   "source": [
    "## Matrix operations"
   ]
  },
  {
   "cell_type": "code",
   "execution_count": 27,
   "id": "83dbdf61",
   "metadata": {
    "execution": {
     "iopub.execute_input": "2024-12-05T09:43:47.694182Z",
     "iopub.status.busy": "2024-12-05T09:43:47.693474Z",
     "iopub.status.idle": "2024-12-05T09:43:47.698014Z",
     "shell.execute_reply": "2024-12-05T09:43:47.697320Z"
    },
    "papermill": {
     "duration": 0.01609,
     "end_time": "2024-12-05T09:43:47.699397",
     "exception": false,
     "start_time": "2024-12-05T09:43:47.683307",
     "status": "completed"
    },
    "tags": []
   },
   "outputs": [],
   "source": [
    "a = torch.randint(size = (2, 4), low = 2, high = 7, dtype=torch.float32)\n",
    "b = torch.randint(size = (4, 5), low = 3, high = 9, dtype=torch.float32)"
   ]
  },
  {
   "cell_type": "code",
   "execution_count": 28,
   "id": "65bd907f",
   "metadata": {
    "execution": {
     "iopub.execute_input": "2024-12-05T09:43:47.718922Z",
     "iopub.status.busy": "2024-12-05T09:43:47.718652Z",
     "iopub.status.idle": "2024-12-05T09:43:47.762607Z",
     "shell.execute_reply": "2024-12-05T09:43:47.761684Z"
    },
    "papermill": {
     "duration": 0.055579,
     "end_time": "2024-12-05T09:43:47.764286",
     "exception": false,
     "start_time": "2024-12-05T09:43:47.708707",
     "status": "completed"
    },
    "tags": []
   },
   "outputs": [
    {
     "name": "stdout",
     "output_type": "stream",
     "text": [
      "a matmul b: tensor([[100.,  63., 128., 113., 137.],\n",
      "        [ 71.,  42.,  83.,  68.,  97.]])\n"
     ]
    }
   ],
   "source": [
    "# matrix mulitplication\n",
    "print(f\"a matmul b: {torch.matmul(a, b)}\")"
   ]
  },
  {
   "cell_type": "code",
   "execution_count": 29,
   "id": "55ee106b",
   "metadata": {
    "execution": {
     "iopub.execute_input": "2024-12-05T09:43:47.785185Z",
     "iopub.status.busy": "2024-12-05T09:43:47.784547Z",
     "iopub.status.idle": "2024-12-05T09:43:47.790102Z",
     "shell.execute_reply": "2024-12-05T09:43:47.789083Z"
    },
    "papermill": {
     "duration": 0.017816,
     "end_time": "2024-12-05T09:43:47.791713",
     "exception": false,
     "start_time": "2024-12-05T09:43:47.773897",
     "status": "completed"
    },
    "tags": []
   },
   "outputs": [
    {
     "name": "stdout",
     "output_type": "stream",
     "text": [
      "c dot d: 11\n"
     ]
    }
   ],
   "source": [
    "c, d = torch.tensor([1, 2]), torch.tensor([3, 4])\n",
    "# dot product\n",
    "print(f\"c dot d: {torch.dot(c, d)}\")"
   ]
  },
  {
   "cell_type": "code",
   "execution_count": 30,
   "id": "00ac8df7",
   "metadata": {
    "execution": {
     "iopub.execute_input": "2024-12-05T09:43:47.812145Z",
     "iopub.status.busy": "2024-12-05T09:43:47.811844Z",
     "iopub.status.idle": "2024-12-05T09:43:47.817338Z",
     "shell.execute_reply": "2024-12-05T09:43:47.816582Z"
    },
    "papermill": {
     "duration": 0.017655,
     "end_time": "2024-12-05T09:43:47.818924",
     "exception": false,
     "start_time": "2024-12-05T09:43:47.801269",
     "status": "completed"
    },
    "tags": []
   },
   "outputs": [
    {
     "name": "stdout",
     "output_type": "stream",
     "text": [
      "transpose of a: tensor([[6., 5., 5., 5.],\n",
      "        [5., 5., 2., 2.]])\n"
     ]
    }
   ],
   "source": [
    "# transpose\n",
    "print(f\"transpose of a: {torch.transpose(a, 0, 0)}\")"
   ]
  },
  {
   "cell_type": "code",
   "execution_count": 31,
   "id": "abc1c276",
   "metadata": {
    "execution": {
     "iopub.execute_input": "2024-12-05T09:43:47.839453Z",
     "iopub.status.busy": "2024-12-05T09:43:47.839140Z",
     "iopub.status.idle": "2024-12-05T09:43:47.870510Z",
     "shell.execute_reply": "2024-12-05T09:43:47.869642Z"
    },
    "papermill": {
     "duration": 0.043724,
     "end_time": "2024-12-05T09:43:47.872211",
     "exception": false,
     "start_time": "2024-12-05T09:43:47.828487",
     "status": "completed"
    },
    "tags": []
   },
   "outputs": [
    {
     "name": "stdout",
     "output_type": "stream",
     "text": [
      "Determinant of sq: -818.0003662109375\n",
      "Inverse of sq: tensor([[-0.0049, -0.0746, -0.1834,  0.3337],\n",
      "        [-0.1051,  0.1467,  0.5575, -0.5746],\n",
      "        [ 0.2738, -0.3240, -0.7311,  0.8105],\n",
      "        [-0.0367,  0.1907,  0.1247, -0.2469]])\n"
     ]
    }
   ],
   "source": [
    "sq = torch.randint(size = (4, 4), low = 3, high = 12, dtype = torch.float32)\n",
    "# determinant\n",
    "print(f\"Determinant of sq: {torch.det(sq)}\")\n",
    "\n",
    "# inverse\n",
    "print(f\"Inverse of sq: {torch.inverse(sq)}\")"
   ]
  },
  {
   "cell_type": "markdown",
   "id": "3a856b1b",
   "metadata": {
    "papermill": {
     "duration": 0.009183,
     "end_time": "2024-12-05T09:43:47.891010",
     "exception": false,
     "start_time": "2024-12-05T09:43:47.881827",
     "status": "completed"
    },
    "tags": []
   },
   "source": [
    "## Comparison operations"
   ]
  },
  {
   "cell_type": "code",
   "execution_count": 32,
   "id": "a896a635",
   "metadata": {
    "execution": {
     "iopub.execute_input": "2024-12-05T09:43:47.911207Z",
     "iopub.status.busy": "2024-12-05T09:43:47.910558Z",
     "iopub.status.idle": "2024-12-05T09:43:47.917041Z",
     "shell.execute_reply": "2024-12-05T09:43:47.916148Z"
    },
    "papermill": {
     "duration": 0.018302,
     "end_time": "2024-12-05T09:43:47.918617",
     "exception": false,
     "start_time": "2024-12-05T09:43:47.900315",
     "status": "completed"
    },
    "tags": []
   },
   "outputs": [
    {
     "name": "stdout",
     "output_type": "stream",
     "text": [
      "i > j: tensor([[False, False, False],\n",
      "        [False, False, False],\n",
      "        [False,  True,  True]])\n",
      "i < j: tensor([[False, False, False],\n",
      "        [False, False, False],\n",
      "        [False,  True,  True]])\n",
      "i == j: tensor([[False, False, False],\n",
      "        [False, False, False],\n",
      "        [False,  True,  True]])\n",
      "i != j: tensor([[False, False, False],\n",
      "        [False, False, False],\n",
      "        [False,  True,  True]])\n"
     ]
    }
   ],
   "source": [
    "i = torch.randint(size = (3, 3), low = 0, high = 10)\n",
    "j = torch.randint(size = (3, 3), low = 0, high = 10)\n",
    "\n",
    "print(f\"i > j: {i > j}\")\n",
    "print(f\"i < j: {i > j}\")\n",
    "print(f\"i == j: {i > j}\")\n",
    "print(f\"i != j: {i > j}\")"
   ]
  },
  {
   "cell_type": "markdown",
   "id": "d24fb4d6",
   "metadata": {
    "papermill": {
     "duration": 0.009625,
     "end_time": "2024-12-05T09:43:47.937696",
     "exception": false,
     "start_time": "2024-12-05T09:43:47.928071",
     "status": "completed"
    },
    "tags": []
   },
   "source": [
    "## Special functions"
   ]
  },
  {
   "cell_type": "code",
   "execution_count": 33,
   "id": "02f80d92",
   "metadata": {
    "execution": {
     "iopub.execute_input": "2024-12-05T09:43:47.958353Z",
     "iopub.status.busy": "2024-12-05T09:43:47.957871Z",
     "iopub.status.idle": "2024-12-05T09:43:47.963844Z",
     "shell.execute_reply": "2024-12-05T09:43:47.963039Z"
    },
    "papermill": {
     "duration": 0.018005,
     "end_time": "2024-12-05T09:43:47.965390",
     "exception": false,
     "start_time": "2024-12-05T09:43:47.947385",
     "status": "completed"
    },
    "tags": []
   },
   "outputs": [
    {
     "data": {
      "text/plain": [
       "tensor([[ 9.,  2.,  7.],\n",
       "        [ 0., -8.,  4.]])"
      ]
     },
     "execution_count": 33,
     "metadata": {},
     "output_type": "execute_result"
    }
   ],
   "source": [
    "k = torch.randint(size = (2, 3), low = -10, high = 10, dtype = torch.float32)\n",
    "k"
   ]
  },
  {
   "cell_type": "code",
   "execution_count": 34,
   "id": "4bf37eac",
   "metadata": {
    "execution": {
     "iopub.execute_input": "2024-12-05T09:43:47.985767Z",
     "iopub.status.busy": "2024-12-05T09:43:47.985523Z",
     "iopub.status.idle": "2024-12-05T09:43:48.003082Z",
     "shell.execute_reply": "2024-12-05T09:43:48.001939Z"
    },
    "papermill": {
     "duration": 0.030126,
     "end_time": "2024-12-05T09:43:48.005166",
     "exception": false,
     "start_time": "2024-12-05T09:43:47.975040",
     "status": "completed"
    },
    "tags": []
   },
   "outputs": [
    {
     "name": "stdout",
     "output_type": "stream",
     "text": [
      "log: tensor([[2.1972, 0.6931, 1.9459],\n",
      "        [  -inf,    nan, 1.3863]])\n",
      "log: tensor([[8.1031e+03, 7.3891e+00, 1.0966e+03],\n",
      "        [1.0000e+00, 3.3546e-04, 5.4598e+01]])\n",
      "sqrt: tensor([[3.0000, 1.4142, 2.6458],\n",
      "        [0.0000,    nan, 2.0000]])\n",
      "sigmoid: tensor([[9.9988e-01, 8.8080e-01, 9.9909e-01],\n",
      "        [5.0000e-01, 3.3535e-04, 9.8201e-01]])\n",
      "softmax: tensor([[9.9988e-01, 9.9995e-01, 9.5257e-01],\n",
      "        [1.2339e-04, 4.5398e-05, 4.7426e-02]])\n",
      "relu: tensor([[9., 2., 7.],\n",
      "        [0., 0., 4.]])\n"
     ]
    }
   ],
   "source": [
    "# log\n",
    "print(f\"log: {torch.log(k)}\")\n",
    "\n",
    "# exp\n",
    "print(f\"log: {torch.exp(k)}\")\n",
    "\n",
    "# sqrt\n",
    "print(f\"sqrt: {torch.sqrt(k)}\")\n",
    "\n",
    "# sigmoid\n",
    "print(f\"sigmoid: {torch.sigmoid(k)}\")\n",
    "\n",
    "# softmax\n",
    "print(f\"softmax: {torch.softmax(k, dim = 0)}\")\n",
    "\n",
    "# relu\n",
    "print(f\"relu: {torch.relu(k)}\")"
   ]
  },
  {
   "cell_type": "markdown",
   "id": "15fc2177",
   "metadata": {
    "papermill": {
     "duration": 0.009405,
     "end_time": "2024-12-05T09:43:48.025256",
     "exception": false,
     "start_time": "2024-12-05T09:43:48.015851",
     "status": "completed"
    },
    "tags": []
   },
   "source": [
    "## Inplace operations"
   ]
  },
  {
   "cell_type": "code",
   "execution_count": 35,
   "id": "c60fba2b",
   "metadata": {
    "execution": {
     "iopub.execute_input": "2024-12-05T09:43:48.045249Z",
     "iopub.status.busy": "2024-12-05T09:43:48.044990Z",
     "iopub.status.idle": "2024-12-05T09:43:48.052093Z",
     "shell.execute_reply": "2024-12-05T09:43:48.051302Z"
    },
    "papermill": {
     "duration": 0.019214,
     "end_time": "2024-12-05T09:43:48.053957",
     "exception": false,
     "start_time": "2024-12-05T09:43:48.034743",
     "status": "completed"
    },
    "tags": []
   },
   "outputs": [
    {
     "data": {
      "text/plain": [
       "tensor([[0.9331, 0.5003, 1.4965],\n",
       "        [1.1200, 1.9371, 1.0893]])"
      ]
     },
     "execution_count": 35,
     "metadata": {},
     "output_type": "execute_result"
    }
   ],
   "source": [
    "# for larger datasets we do not want to create a new tensor everytime we perform some operations\n",
    "# we can perform inplace operations as well\n",
    "m = torch.rand((2, 3))\n",
    "n = torch.rand((2, 3))\n",
    "\n",
    "m.add_(n)"
   ]
  },
  {
   "cell_type": "code",
   "execution_count": 36,
   "id": "9cbdab67",
   "metadata": {
    "execution": {
     "iopub.execute_input": "2024-12-05T09:43:48.079306Z",
     "iopub.status.busy": "2024-12-05T09:43:48.078649Z",
     "iopub.status.idle": "2024-12-05T09:43:48.084302Z",
     "shell.execute_reply": "2024-12-05T09:43:48.083627Z"
    },
    "papermill": {
     "duration": 0.017861,
     "end_time": "2024-12-05T09:43:48.085989",
     "exception": false,
     "start_time": "2024-12-05T09:43:48.068128",
     "status": "completed"
    },
    "tags": []
   },
   "outputs": [
    {
     "data": {
      "text/plain": [
       "tensor([[0.9331, 0.5003, 1.4965],\n",
       "        [1.1200, 1.9371, 1.0893]])"
      ]
     },
     "execution_count": 36,
     "metadata": {},
     "output_type": "execute_result"
    }
   ],
   "source": [
    "m"
   ]
  },
  {
   "cell_type": "code",
   "execution_count": 37,
   "id": "62c9cb1d",
   "metadata": {
    "execution": {
     "iopub.execute_input": "2024-12-05T09:43:48.106705Z",
     "iopub.status.busy": "2024-12-05T09:43:48.106079Z",
     "iopub.status.idle": "2024-12-05T09:43:48.111859Z",
     "shell.execute_reply": "2024-12-05T09:43:48.111070Z"
    },
    "papermill": {
     "duration": 0.0178,
     "end_time": "2024-12-05T09:43:48.113470",
     "exception": false,
     "start_time": "2024-12-05T09:43:48.095670",
     "status": "completed"
    },
    "tags": []
   },
   "outputs": [
    {
     "data": {
      "text/plain": [
       "tensor([[0.9331, 0.5003, 1.4965],\n",
       "        [1.1200, 1.9371, 1.0893]])"
      ]
     },
     "execution_count": 37,
     "metadata": {},
     "output_type": "execute_result"
    }
   ],
   "source": [
    "m.relu_()"
   ]
  },
  {
   "cell_type": "code",
   "execution_count": 38,
   "id": "980e0700",
   "metadata": {
    "execution": {
     "iopub.execute_input": "2024-12-05T09:43:48.134630Z",
     "iopub.status.busy": "2024-12-05T09:43:48.134043Z",
     "iopub.status.idle": "2024-12-05T09:43:48.139799Z",
     "shell.execute_reply": "2024-12-05T09:43:48.139013Z"
    },
    "papermill": {
     "duration": 0.018108,
     "end_time": "2024-12-05T09:43:48.141396",
     "exception": false,
     "start_time": "2024-12-05T09:43:48.123288",
     "status": "completed"
    },
    "tags": []
   },
   "outputs": [
    {
     "data": {
      "text/plain": [
       "tensor([[0.9331, 0.5003, 1.4965],\n",
       "        [1.1200, 1.9371, 1.0893]])"
      ]
     },
     "execution_count": 38,
     "metadata": {},
     "output_type": "execute_result"
    }
   ],
   "source": [
    "m"
   ]
  },
  {
   "cell_type": "markdown",
   "id": "217649f8",
   "metadata": {
    "papermill": {
     "duration": 0.009717,
     "end_time": "2024-12-05T09:43:48.161072",
     "exception": false,
     "start_time": "2024-12-05T09:43:48.151355",
     "status": "completed"
    },
    "tags": []
   },
   "source": [
    "## Copying a tensor"
   ]
  },
  {
   "cell_type": "code",
   "execution_count": 39,
   "id": "67521033",
   "metadata": {
    "execution": {
     "iopub.execute_input": "2024-12-05T09:43:48.182134Z",
     "iopub.status.busy": "2024-12-05T09:43:48.181901Z",
     "iopub.status.idle": "2024-12-05T09:43:48.187958Z",
     "shell.execute_reply": "2024-12-05T09:43:48.187096Z"
    },
    "papermill": {
     "duration": 0.01861,
     "end_time": "2024-12-05T09:43:48.189677",
     "exception": false,
     "start_time": "2024-12-05T09:43:48.171067",
     "status": "completed"
    },
    "tags": []
   },
   "outputs": [
    {
     "name": "stdout",
     "output_type": "stream",
     "text": [
      "tensor(True)\n",
      "tensor(False)\n"
     ]
    }
   ],
   "source": [
    "a = torch.rand((3, 4))\n",
    "b = a\n",
    "a[0][0] = 0.34\n",
    "print(a[0][0] == b[0][0])\n",
    "\n",
    "b = a.clone()\n",
    "\n",
    "a[0][0] = 0.12\n",
    "print(a[0][0] == b[0][0])"
   ]
  },
  {
   "cell_type": "markdown",
   "id": "2022ffcd",
   "metadata": {
    "papermill": {
     "duration": 0.009662,
     "end_time": "2024-12-05T09:43:48.212488",
     "exception": false,
     "start_time": "2024-12-05T09:43:48.202826",
     "status": "completed"
    },
    "tags": []
   },
   "source": [
    "## Tensor operations on GPU"
   ]
  },
  {
   "cell_type": "code",
   "execution_count": 40,
   "id": "a47ca832",
   "metadata": {
    "execution": {
     "iopub.execute_input": "2024-12-05T09:43:48.232949Z",
     "iopub.status.busy": "2024-12-05T09:43:48.232730Z",
     "iopub.status.idle": "2024-12-05T09:43:48.237451Z",
     "shell.execute_reply": "2024-12-05T09:43:48.236751Z"
    },
    "papermill": {
     "duration": 0.01671,
     "end_time": "2024-12-05T09:43:48.238978",
     "exception": false,
     "start_time": "2024-12-05T09:43:48.222268",
     "status": "completed"
    },
    "tags": []
   },
   "outputs": [
    {
     "data": {
      "text/plain": [
       "device(type='cuda')"
      ]
     },
     "execution_count": 40,
     "metadata": {},
     "output_type": "execute_result"
    }
   ],
   "source": [
    "device = torch.device('cuda')\n",
    "device"
   ]
  },
  {
   "cell_type": "code",
   "execution_count": 41,
   "id": "6ef8c7ec",
   "metadata": {
    "execution": {
     "iopub.execute_input": "2024-12-05T09:43:48.261234Z",
     "iopub.status.busy": "2024-12-05T09:43:48.260585Z",
     "iopub.status.idle": "2024-12-05T09:43:48.683308Z",
     "shell.execute_reply": "2024-12-05T09:43:48.682469Z"
    },
    "papermill": {
     "duration": 0.436311,
     "end_time": "2024-12-05T09:43:48.685210",
     "exception": false,
     "start_time": "2024-12-05T09:43:48.248899",
     "status": "completed"
    },
    "tags": []
   },
   "outputs": [
    {
     "data": {
      "text/plain": [
       "tensor([[0.3563, 0.0303, 0.7088, 0.2009, 0.0224],\n",
       "        [0.9896, 0.3737, 0.0823, 0.2851, 0.4433],\n",
       "        [0.2989, 0.4175, 0.2687, 0.0927, 0.2317]], device='cuda:0')"
      ]
     },
     "execution_count": 41,
     "metadata": {},
     "output_type": "execute_result"
    }
   ],
   "source": [
    "gpu_tensor = torch.rand((3, 5), device=device)\n",
    "gpu_tensor"
   ]
  },
  {
   "cell_type": "code",
   "execution_count": 42,
   "id": "f0e0dfd1",
   "metadata": {
    "execution": {
     "iopub.execute_input": "2024-12-05T09:43:48.710315Z",
     "iopub.status.busy": "2024-12-05T09:43:48.709716Z",
     "iopub.status.idle": "2024-12-05T09:43:48.713390Z",
     "shell.execute_reply": "2024-12-05T09:43:48.712764Z"
    },
    "papermill": {
     "duration": 0.019139,
     "end_time": "2024-12-05T09:43:48.714994",
     "exception": false,
     "start_time": "2024-12-05T09:43:48.695855",
     "status": "completed"
    },
    "tags": []
   },
   "outputs": [],
   "source": [
    "# moving tensor to gpu\n",
    "gpu_x = x.to(device)"
   ]
  },
  {
   "cell_type": "code",
   "execution_count": 43,
   "id": "36cf4148",
   "metadata": {
    "execution": {
     "iopub.execute_input": "2024-12-05T09:43:48.736026Z",
     "iopub.status.busy": "2024-12-05T09:43:48.735543Z",
     "iopub.status.idle": "2024-12-05T09:43:58.471115Z",
     "shell.execute_reply": "2024-12-05T09:43:58.470116Z"
    },
    "papermill": {
     "duration": 9.748086,
     "end_time": "2024-12-05T09:43:58.472949",
     "exception": false,
     "start_time": "2024-12-05T09:43:48.724863",
     "status": "completed"
    },
    "tags": []
   },
   "outputs": [
    {
     "name": "stdout",
     "output_type": "stream",
     "text": [
      "CPU matrix multiplication time: 7.335745096206665\n",
      "GPU matrix multiplication time: 0.6826832294464111\n"
     ]
    }
   ],
   "source": [
    "import time\n",
    "\n",
    "size = 10000\n",
    "\n",
    "a_cpu, b_cpu = torch.rand((size, size)), torch.rand((size, size))\n",
    "start_time_cpu = time.time()\n",
    "result_cpu = torch.matmul(a_cpu, b_cpu)\n",
    "end_time_cpu = time.time()\n",
    "\n",
    "print(f\"CPU matrix multiplication time: {end_time_cpu - start_time_cpu}\")\n",
    "\n",
    "a_gpu, b_gpu = torch.rand((size, size), device=device), torch.rand((size, size), device=device)\n",
    "start_time_gpu = time.time()\n",
    "result_gpu = torch.matmul(a_gpu, b_gpu)\n",
    "torch.cuda.synchronize()\n",
    "end_time_gpu = time.time()\n",
    "\n",
    "print(f\"GPU matrix multiplication time: {end_time_gpu - start_time_gpu}\")"
   ]
  },
  {
   "cell_type": "code",
   "execution_count": null,
   "id": "ac32df07",
   "metadata": {
    "papermill": {
     "duration": 0.010647,
     "end_time": "2024-12-05T09:43:58.494659",
     "exception": false,
     "start_time": "2024-12-05T09:43:58.484012",
     "status": "completed"
    },
    "tags": []
   },
   "outputs": [],
   "source": []
  }
 ],
 "metadata": {
  "kaggle": {
   "accelerator": "nvidiaTeslaT4",
   "dataSources": [],
   "dockerImageVersionId": 30805,
   "isGpuEnabled": true,
   "isInternetEnabled": true,
   "language": "python",
   "sourceType": "notebook"
  },
  "kernelspec": {
   "display_name": "Python 3",
   "language": "python",
   "name": "python3"
  },
  "language_info": {
   "codemirror_mode": {
    "name": "ipython",
    "version": 3
   },
   "file_extension": ".py",
   "mimetype": "text/x-python",
   "name": "python",
   "nbconvert_exporter": "python",
   "pygments_lexer": "ipython3",
   "version": "3.10.14"
  },
  "papermill": {
   "default_parameters": {},
   "duration": 28.673333,
   "end_time": "2024-12-05T09:43:59.725607",
   "environment_variables": {},
   "exception": null,
   "input_path": "__notebook__.ipynb",
   "output_path": "__notebook__.ipynb",
   "parameters": {},
   "start_time": "2024-12-05T09:43:31.052274",
   "version": "2.6.0"
  }
 },
 "nbformat": 4,
 "nbformat_minor": 5
}
