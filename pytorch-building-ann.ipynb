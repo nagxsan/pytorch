{
 "cells": [
  {
   "cell_type": "code",
   "execution_count": 1,
   "id": "f7ff17f1",
   "metadata": {
    "_cell_guid": "b1076dfc-b9ad-4769-8c92-a6c4dae69d19",
    "_uuid": "8f2839f25d086af736a60e9eeb907d3b93b6e0e5",
    "execution": {
     "iopub.execute_input": "2025-01-31T13:01:05.977608Z",
     "iopub.status.busy": "2025-01-31T13:01:05.977107Z",
     "iopub.status.idle": "2025-01-31T13:01:06.997725Z",
     "shell.execute_reply": "2025-01-31T13:01:06.996281Z"
    },
    "papermill": {
     "duration": 1.032391,
     "end_time": "2025-01-31T13:01:07.000042",
     "exception": false,
     "start_time": "2025-01-31T13:01:05.967651",
     "status": "completed"
    },
    "tags": []
   },
   "outputs": [
    {
     "name": "stdout",
     "output_type": "stream",
     "text": [
      "/kaggle/input/fashion-mnist-small/fashion-mnist-small.csv\n",
      "/kaggle/input/fashionmnist/t10k-labels-idx1-ubyte\n",
      "/kaggle/input/fashionmnist/t10k-images-idx3-ubyte\n",
      "/kaggle/input/fashionmnist/fashion-mnist_test.csv\n",
      "/kaggle/input/fashionmnist/fashion-mnist_train.csv\n",
      "/kaggle/input/fashionmnist/train-labels-idx1-ubyte\n",
      "/kaggle/input/fashionmnist/train-images-idx3-ubyte\n"
     ]
    }
   ],
   "source": [
    "# This Python 3 environment comes with many helpful analytics libraries installed\n",
    "# It is defined by the kaggle/python Docker image: https://github.com/kaggle/docker-python\n",
    "# For example, here's several helpful packages to load\n",
    "\n",
    "import numpy as np # linear algebra\n",
    "import pandas as pd # data processing, CSV file I/O (e.g. pd.read_csv)\n",
    "\n",
    "# Input data files are available in the read-only \"../input/\" directory\n",
    "# For example, running this (by clicking run or pressing Shift+Enter) will list all files under the input directory\n",
    "\n",
    "import os\n",
    "for dirname, _, filenames in os.walk('/kaggle/input'):\n",
    "    for filename in filenames:\n",
    "        print(os.path.join(dirname, filename))\n",
    "\n",
    "# You can write up to 20GB to the current directory (/kaggle/working/) that gets preserved as output when you create a version using \"Save & Run All\" \n",
    "# You can also write temporary files to /kaggle/temp/, but they won't be saved outside of the current session"
   ]
  },
  {
   "cell_type": "code",
   "execution_count": 2,
   "id": "c9808581",
   "metadata": {
    "execution": {
     "iopub.execute_input": "2025-01-31T13:01:07.013570Z",
     "iopub.status.busy": "2025-01-31T13:01:07.013096Z",
     "iopub.status.idle": "2025-01-31T13:01:08.686540Z",
     "shell.execute_reply": "2025-01-31T13:01:08.685177Z"
    },
    "papermill": {
     "duration": 1.682754,
     "end_time": "2025-01-31T13:01:08.688961",
     "exception": false,
     "start_time": "2025-01-31T13:01:07.006207",
     "status": "completed"
    },
    "tags": []
   },
   "outputs": [],
   "source": [
    "from sklearn.model_selection import train_test_split\n",
    "import matplotlib.pyplot as plt"
   ]
  },
  {
   "cell_type": "code",
   "execution_count": 3,
   "id": "252f1e74",
   "metadata": {
    "execution": {
     "iopub.execute_input": "2025-01-31T13:01:08.703223Z",
     "iopub.status.busy": "2025-01-31T13:01:08.702513Z",
     "iopub.status.idle": "2025-01-31T13:01:13.121210Z",
     "shell.execute_reply": "2025-01-31T13:01:13.120161Z"
    },
    "papermill": {
     "duration": 4.428197,
     "end_time": "2025-01-31T13:01:13.123480",
     "exception": false,
     "start_time": "2025-01-31T13:01:08.695283",
     "status": "completed"
    },
    "tags": []
   },
   "outputs": [],
   "source": [
    "import torch\n",
    "from torch.utils.data import Dataset, DataLoader\n",
    "import torch.nn as nn\n",
    "import torch.optim as optim"
   ]
  },
  {
   "cell_type": "code",
   "execution_count": 4,
   "id": "98c97044",
   "metadata": {
    "execution": {
     "iopub.execute_input": "2025-01-31T13:01:13.136516Z",
     "iopub.status.busy": "2025-01-31T13:01:13.136017Z",
     "iopub.status.idle": "2025-01-31T13:01:13.148841Z",
     "shell.execute_reply": "2025-01-31T13:01:13.147729Z"
    },
    "papermill": {
     "duration": 0.021394,
     "end_time": "2025-01-31T13:01:13.150794",
     "exception": false,
     "start_time": "2025-01-31T13:01:13.129400",
     "status": "completed"
    },
    "tags": []
   },
   "outputs": [
    {
     "data": {
      "text/plain": [
       "<torch._C.Generator at 0x79ae031dca70>"
      ]
     },
     "execution_count": 4,
     "metadata": {},
     "output_type": "execute_result"
    }
   ],
   "source": [
    "torch.manual_seed(42)"
   ]
  },
  {
   "cell_type": "markdown",
   "id": "f61290f1",
   "metadata": {
    "papermill": {
     "duration": 0.005455,
     "end_time": "2025-01-31T13:01:13.162434",
     "exception": false,
     "start_time": "2025-01-31T13:01:13.156979",
     "status": "completed"
    },
    "tags": []
   },
   "source": [
    "# EDA"
   ]
  },
  {
   "cell_type": "code",
   "execution_count": 5,
   "id": "428eb7e9",
   "metadata": {
    "execution": {
     "iopub.execute_input": "2025-01-31T13:01:13.175179Z",
     "iopub.status.busy": "2025-01-31T13:01:13.174832Z",
     "iopub.status.idle": "2025-01-31T13:01:13.867794Z",
     "shell.execute_reply": "2025-01-31T13:01:13.866523Z"
    },
    "papermill": {
     "duration": 0.701818,
     "end_time": "2025-01-31T13:01:13.870037",
     "exception": false,
     "start_time": "2025-01-31T13:01:13.168219",
     "status": "completed"
    },
    "tags": []
   },
   "outputs": [
    {
     "data": {
      "text/html": [
       "<div>\n",
       "<style scoped>\n",
       "    .dataframe tbody tr th:only-of-type {\n",
       "        vertical-align: middle;\n",
       "    }\n",
       "\n",
       "    .dataframe tbody tr th {\n",
       "        vertical-align: top;\n",
       "    }\n",
       "\n",
       "    .dataframe thead th {\n",
       "        text-align: right;\n",
       "    }\n",
       "</style>\n",
       "<table border=\"1\" class=\"dataframe\">\n",
       "  <thead>\n",
       "    <tr style=\"text-align: right;\">\n",
       "      <th></th>\n",
       "      <th>label</th>\n",
       "      <th>pixel1</th>\n",
       "      <th>pixel2</th>\n",
       "      <th>pixel3</th>\n",
       "      <th>pixel4</th>\n",
       "      <th>pixel5</th>\n",
       "      <th>pixel6</th>\n",
       "      <th>pixel7</th>\n",
       "      <th>pixel8</th>\n",
       "      <th>pixel9</th>\n",
       "      <th>...</th>\n",
       "      <th>pixel775</th>\n",
       "      <th>pixel776</th>\n",
       "      <th>pixel777</th>\n",
       "      <th>pixel778</th>\n",
       "      <th>pixel779</th>\n",
       "      <th>pixel780</th>\n",
       "      <th>pixel781</th>\n",
       "      <th>pixel782</th>\n",
       "      <th>pixel783</th>\n",
       "      <th>pixel784</th>\n",
       "    </tr>\n",
       "  </thead>\n",
       "  <tbody>\n",
       "    <tr>\n",
       "      <th>0</th>\n",
       "      <td>9</td>\n",
       "      <td>0</td>\n",
       "      <td>0</td>\n",
       "      <td>0</td>\n",
       "      <td>0</td>\n",
       "      <td>0</td>\n",
       "      <td>0</td>\n",
       "      <td>0</td>\n",
       "      <td>0</td>\n",
       "      <td>0</td>\n",
       "      <td>...</td>\n",
       "      <td>0</td>\n",
       "      <td>7</td>\n",
       "      <td>0</td>\n",
       "      <td>50</td>\n",
       "      <td>205</td>\n",
       "      <td>196</td>\n",
       "      <td>213</td>\n",
       "      <td>165</td>\n",
       "      <td>0</td>\n",
       "      <td>0</td>\n",
       "    </tr>\n",
       "    <tr>\n",
       "      <th>1</th>\n",
       "      <td>7</td>\n",
       "      <td>0</td>\n",
       "      <td>0</td>\n",
       "      <td>0</td>\n",
       "      <td>0</td>\n",
       "      <td>0</td>\n",
       "      <td>0</td>\n",
       "      <td>0</td>\n",
       "      <td>0</td>\n",
       "      <td>0</td>\n",
       "      <td>...</td>\n",
       "      <td>0</td>\n",
       "      <td>0</td>\n",
       "      <td>0</td>\n",
       "      <td>0</td>\n",
       "      <td>0</td>\n",
       "      <td>0</td>\n",
       "      <td>0</td>\n",
       "      <td>0</td>\n",
       "      <td>0</td>\n",
       "      <td>0</td>\n",
       "    </tr>\n",
       "    <tr>\n",
       "      <th>2</th>\n",
       "      <td>0</td>\n",
       "      <td>0</td>\n",
       "      <td>0</td>\n",
       "      <td>0</td>\n",
       "      <td>0</td>\n",
       "      <td>0</td>\n",
       "      <td>1</td>\n",
       "      <td>0</td>\n",
       "      <td>0</td>\n",
       "      <td>0</td>\n",
       "      <td>...</td>\n",
       "      <td>142</td>\n",
       "      <td>142</td>\n",
       "      <td>142</td>\n",
       "      <td>21</td>\n",
       "      <td>0</td>\n",
       "      <td>3</td>\n",
       "      <td>0</td>\n",
       "      <td>0</td>\n",
       "      <td>0</td>\n",
       "      <td>0</td>\n",
       "    </tr>\n",
       "    <tr>\n",
       "      <th>3</th>\n",
       "      <td>8</td>\n",
       "      <td>0</td>\n",
       "      <td>0</td>\n",
       "      <td>0</td>\n",
       "      <td>0</td>\n",
       "      <td>0</td>\n",
       "      <td>0</td>\n",
       "      <td>0</td>\n",
       "      <td>0</td>\n",
       "      <td>0</td>\n",
       "      <td>...</td>\n",
       "      <td>0</td>\n",
       "      <td>0</td>\n",
       "      <td>0</td>\n",
       "      <td>0</td>\n",
       "      <td>0</td>\n",
       "      <td>0</td>\n",
       "      <td>0</td>\n",
       "      <td>0</td>\n",
       "      <td>0</td>\n",
       "      <td>0</td>\n",
       "    </tr>\n",
       "    <tr>\n",
       "      <th>4</th>\n",
       "      <td>8</td>\n",
       "      <td>0</td>\n",
       "      <td>0</td>\n",
       "      <td>0</td>\n",
       "      <td>0</td>\n",
       "      <td>0</td>\n",
       "      <td>0</td>\n",
       "      <td>0</td>\n",
       "      <td>0</td>\n",
       "      <td>0</td>\n",
       "      <td>...</td>\n",
       "      <td>213</td>\n",
       "      <td>203</td>\n",
       "      <td>174</td>\n",
       "      <td>151</td>\n",
       "      <td>188</td>\n",
       "      <td>10</td>\n",
       "      <td>0</td>\n",
       "      <td>0</td>\n",
       "      <td>0</td>\n",
       "      <td>0</td>\n",
       "    </tr>\n",
       "  </tbody>\n",
       "</table>\n",
       "<p>5 rows × 785 columns</p>\n",
       "</div>"
      ],
      "text/plain": [
       "   label  pixel1  pixel2  pixel3  pixel4  pixel5  pixel6  pixel7  pixel8  \\\n",
       "0      9       0       0       0       0       0       0       0       0   \n",
       "1      7       0       0       0       0       0       0       0       0   \n",
       "2      0       0       0       0       0       0       1       0       0   \n",
       "3      8       0       0       0       0       0       0       0       0   \n",
       "4      8       0       0       0       0       0       0       0       0   \n",
       "\n",
       "   pixel9  ...  pixel775  pixel776  pixel777  pixel778  pixel779  pixel780  \\\n",
       "0       0  ...         0         7         0        50       205       196   \n",
       "1       0  ...         0         0         0         0         0         0   \n",
       "2       0  ...       142       142       142        21         0         3   \n",
       "3       0  ...         0         0         0         0         0         0   \n",
       "4       0  ...       213       203       174       151       188        10   \n",
       "\n",
       "   pixel781  pixel782  pixel783  pixel784  \n",
       "0       213       165         0         0  \n",
       "1         0         0         0         0  \n",
       "2         0         0         0         0  \n",
       "3         0         0         0         0  \n",
       "4         0         0         0         0  \n",
       "\n",
       "[5 rows x 785 columns]"
      ]
     },
     "execution_count": 5,
     "metadata": {},
     "output_type": "execute_result"
    }
   ],
   "source": [
    "df = pd.read_csv('/kaggle/input/fashion-mnist-small/fashion-mnist-small.csv')\n",
    "df.head()"
   ]
  },
  {
   "cell_type": "code",
   "execution_count": 6,
   "id": "3c9e7cf6",
   "metadata": {
    "execution": {
     "iopub.execute_input": "2025-01-31T13:01:13.894572Z",
     "iopub.status.busy": "2025-01-31T13:01:13.894180Z",
     "iopub.status.idle": "2025-01-31T13:01:15.054246Z",
     "shell.execute_reply": "2025-01-31T13:01:15.052834Z"
    },
    "papermill": {
     "duration": 1.174358,
     "end_time": "2025-01-31T13:01:15.056349",
     "exception": false,
     "start_time": "2025-01-31T13:01:13.881991",
     "status": "completed"
    },
    "tags": []
   },
   "outputs": [
    {
     "data": {
      "image/png": "[encoded data removed]",
      "text/plain": [
       "<Figure size 1000x1000 with 16 Axes>"
      ]
     },
     "metadata": {},
     "output_type": "display_data"
    }
   ],
   "source": [
    "fig, axes = plt.subplots(4, 4, figsize=(10, 10))\n",
    "fig.suptitle(\"First 16 images\", fontsize=16)\n",
    "\n",
    "for i, ax in enumerate(axes.flat):\n",
    "    img = df.iloc[i, 1:].values.reshape(28, 28)\n",
    "    ax.imshow(img)\n",
    "    ax.axis('off')\n",
    "    ax.set_title(f\"Label: {df.iloc[i, 0]}\")\n",
    "\n",
    "plt.show()"
   ]
  },
  {
   "cell_type": "code",
   "execution_count": 7,
   "id": "71f9acd9",
   "metadata": {
    "execution": {
     "iopub.execute_input": "2025-01-31T13:01:15.073044Z",
     "iopub.status.busy": "2025-01-31T13:01:15.072674Z",
     "iopub.status.idle": "2025-01-31T13:01:15.176844Z",
     "shell.execute_reply": "2025-01-31T13:01:15.175767Z"
    },
    "papermill": {
     "duration": 0.114808,
     "end_time": "2025-01-31T13:01:15.178893",
     "exception": false,
     "start_time": "2025-01-31T13:01:15.064085",
     "status": "completed"
    },
    "tags": []
   },
   "outputs": [],
   "source": [
    "X = df.iloc[:, 1:].values\n",
    "y = df.iloc[:, 0].values\n",
    "\n",
    "X = X / 255\n",
    "\n",
    "X_train, X_test, y_train, y_test = train_test_split(X, y, test_size=0.2, random_state=42)"
   ]
  },
  {
   "cell_type": "code",
   "execution_count": 8,
   "id": "59a7ebd5",
   "metadata": {
    "execution": {
     "iopub.execute_input": "2025-01-31T13:01:15.195847Z",
     "iopub.status.busy": "2025-01-31T13:01:15.195418Z",
     "iopub.status.idle": "2025-01-31T13:01:15.208030Z",
     "shell.execute_reply": "2025-01-31T13:01:15.206799Z"
    },
    "papermill": {
     "duration": 0.022659,
     "end_time": "2025-01-31T13:01:15.209774",
     "exception": false,
     "start_time": "2025-01-31T13:01:15.187115",
     "status": "completed"
    },
    "tags": []
   },
   "outputs": [
    {
     "data": {
      "text/plain": [
       "array([0.        , 0.        , 0.        , 0.        , 0.        ,\n",
       "       0.        , 0.        , 0.        , 0.        , 0.        ,\n",
       "       0.        , 0.        , 0.        , 0.        , 0.        ,\n",
       "       0.        , 0.        , 0.        , 0.        , 0.        ,\n",
       "       0.        , 0.        , 0.        , 0.        , 0.        ,\n",
       "       0.        , 0.        , 0.        , 0.        , 0.        ,\n",
       "       0.        , 0.        , 0.        , 0.        , 0.        ,\n",
       "       0.        , 0.        , 0.        , 0.        , 0.        ,\n",
       "       0.        , 0.        , 0.        , 0.        , 0.        ,\n",
       "       0.        , 0.        , 0.        , 0.        , 0.        ,\n",
       "       0.        , 0.        , 0.        , 0.        , 0.        ,\n",
       "       0.        , 0.        , 0.        , 0.        , 0.        ,\n",
       "       0.        , 0.        , 0.        , 0.        , 0.        ,\n",
       "       0.        , 0.        , 0.        , 0.        , 0.        ,\n",
       "       0.        , 0.        , 0.        , 0.        , 0.        ,\n",
       "       0.        , 0.        , 0.        , 0.        , 0.        ,\n",
       "       0.        , 0.        , 0.        , 0.        , 0.        ,\n",
       "       0.        , 0.        , 0.        , 0.        , 0.        ,\n",
       "       0.        , 0.        , 0.        , 0.        , 0.        ,\n",
       "       0.        , 0.        , 0.        , 0.        , 0.        ,\n",
       "       0.        , 0.        , 0.        , 0.        , 0.        ,\n",
       "       0.        , 0.        , 0.        , 0.        , 0.        ,\n",
       "       0.        , 0.        , 0.        , 0.        , 0.        ,\n",
       "       0.        , 0.        , 0.        , 0.        , 0.        ,\n",
       "       0.        , 0.        , 0.        , 0.        , 0.        ,\n",
       "       0.        , 0.        , 0.        , 0.        , 0.        ,\n",
       "       0.        , 0.        , 0.        , 0.        , 0.        ,\n",
       "       0.        , 0.        , 0.        , 0.        , 0.        ,\n",
       "       0.        , 0.        , 0.        , 0.        , 0.        ,\n",
       "       0.        , 0.        , 0.        , 0.        , 0.        ,\n",
       "       0.        , 0.        , 0.        , 0.        , 0.        ,\n",
       "       0.        , 0.        , 0.        , 0.        , 0.        ,\n",
       "       0.        , 0.        , 0.        , 0.        , 0.        ,\n",
       "       0.        , 0.        , 0.        , 0.        , 0.        ,\n",
       "       0.        , 0.        , 0.        , 0.        , 0.        ,\n",
       "       0.        , 0.        , 0.        , 0.        , 0.        ,\n",
       "       0.        , 0.        , 0.        , 0.        , 0.        ,\n",
       "       0.        , 0.        , 0.        , 0.        , 0.        ,\n",
       "       0.        , 0.        , 0.        , 0.        , 0.        ,\n",
       "       0.        , 0.        , 0.        , 0.        , 0.        ,\n",
       "       0.        , 0.        , 0.        , 0.        , 0.        ,\n",
       "       0.        , 0.        , 0.        , 0.        , 0.        ,\n",
       "       0.        , 0.        , 0.        , 0.        , 0.        ,\n",
       "       0.        , 0.        , 0.        , 0.        , 0.        ,\n",
       "       0.        , 0.        , 0.        , 0.        , 0.        ,\n",
       "       0.        , 0.        , 0.        , 0.        , 0.        ,\n",
       "       0.        , 0.        , 0.        , 0.        , 0.        ,\n",
       "       0.        , 0.        , 0.        , 0.        , 0.        ,\n",
       "       0.        , 0.        , 0.        , 0.        , 0.        ,\n",
       "       0.        , 0.        , 0.        , 0.        , 0.        ,\n",
       "       0.        , 0.        , 0.        , 0.        , 0.        ,\n",
       "       0.        , 0.        , 0.        , 0.        , 0.        ,\n",
       "       0.        , 0.        , 0.        , 0.        , 0.        ,\n",
       "       0.        , 0.0627451 , 0.21960784, 0.20392157, 0.07843137,\n",
       "       0.15686275, 0.21960784, 0.        , 0.        , 0.03137255,\n",
       "       0.        , 0.        , 0.        , 0.        , 0.        ,\n",
       "       0.        , 0.        , 0.        , 0.        , 0.        ,\n",
       "       0.        , 0.        , 0.        , 0.01568627, 0.        ,\n",
       "       0.        , 0.        , 0.01568627, 0.0627451 , 0.33333333,\n",
       "       0.52156863, 0.41176471, 0.26666667, 0.26666667, 0.4745098 ,\n",
       "       0.        , 0.        , 0.01568627, 0.01568627, 0.01568627,\n",
       "       0.        , 0.        , 0.        , 0.        , 0.        ,\n",
       "       0.        , 0.        , 0.        , 0.        , 0.        ,\n",
       "       0.        , 0.        , 0.        , 0.04705882, 0.20392157,\n",
       "       0.31372549, 0.36470588, 0.03137255, 0.0627451 , 0.21960784,\n",
       "       0.10980392, 0.34901961, 1.        , 0.        , 0.        ,\n",
       "       0.        , 0.        , 0.        , 0.        , 0.68235294,\n",
       "       0.10980392, 0.        , 0.01568627, 0.        , 0.        ,\n",
       "       0.        , 0.        , 0.        , 0.        , 0.1254902 ,\n",
       "       0.26666667, 0.31372549, 0.25098039, 0.10980392, 0.0627451 ,\n",
       "       0.15686275, 0.10980392, 0.04705882, 0.10980392, 0.        ,\n",
       "       0.42745098, 0.68235294, 0.23529412, 0.03137255, 0.        ,\n",
       "       0.01568627, 0.42745098, 0.68235294, 0.10980392, 0.        ,\n",
       "       0.        , 0.        , 0.        , 0.        , 0.        ,\n",
       "       0.18823529, 0.26666667, 0.18823529, 0.0627451 , 0.10980392,\n",
       "       0.09411765, 0.03137255, 0.04705882, 0.        , 0.        ,\n",
       "       0.        , 0.15686275, 0.80784314, 0.09411765, 0.        ,\n",
       "       0.1254902 , 0.66666667, 0.68235294, 0.61568627, 0.68235294,\n",
       "       0.68235294, 0.20392157, 0.01568627, 0.15686275, 0.18823529,\n",
       "       0.20392157, 0.17254902, 0.38039216, 0.1254902 , 0.        ,\n",
       "       0.10980392, 0.1254902 , 0.0627451 , 0.01568627, 0.01568627,\n",
       "       0.        , 0.03137255, 0.36470588, 0.61568627, 0.58431373,\n",
       "       0.76078431, 0.85490196, 0.4745098 , 0.18823529, 0.77647059,\n",
       "       0.66666667, 0.4745098 , 0.63137255, 0.63137255, 0.41176471,\n",
       "       0.29803922, 0.41176471, 0.1254902 , 0.        , 0.14117647,\n",
       "       0.56862745, 0.        , 0.26666667, 0.1254902 , 0.        ,\n",
       "       0.04705882, 0.14117647, 0.17254902, 0.33333333, 0.52156863,\n",
       "       0.77647059, 0.91764706, 0.83921569, 0.71372549, 0.80784314,\n",
       "       0.85490196, 0.68235294, 0.88627451, 0.68235294, 0.39607843,\n",
       "       0.55294118, 0.68235294, 0.45882353, 0.25098039, 0.25098039,\n",
       "       0.38039216, 0.29803922, 0.38039216, 0.55294118, 0.25098039,\n",
       "       0.44313725, 0.23529412, 0.15686275, 0.01568627, 0.14117647,\n",
       "       0.38039216, 0.83921569, 0.71372549, 0.69803922, 0.61568627,\n",
       "       0.45882353, 0.44313725, 0.56862745, 0.72941176, 0.64705882,\n",
       "       0.77647059, 0.77647059, 0.5372549 , 0.58431373, 0.66666667,\n",
       "       0.45882353, 0.45882353, 0.44313725, 0.33333333, 0.26666667,\n",
       "       0.28235294, 0.31372549, 0.34901961, 0.38039216, 0.33333333,\n",
       "       0.39607843, 0.33333333, 0.29803922, 0.31372549, 0.29803922,\n",
       "       0.28235294, 0.28235294, 0.25098039, 0.20392157, 0.21960784,\n",
       "       0.25098039, 0.26666667, 0.34901961, 0.36470588, 0.33333333,\n",
       "       0.29803922, 0.29803922, 0.36470588, 0.41176471, 0.10980392,\n",
       "       0.26666667, 0.45882353, 0.55294118, 0.44313725, 0.42745098,\n",
       "       0.38039216, 0.36470588, 0.31372549, 0.39607843, 0.4745098 ,\n",
       "       0.44313725, 0.42745098, 0.36470588, 0.38039216, 0.39607843,\n",
       "       0.42745098, 0.41176471, 0.38039216, 0.39607843, 0.38039216,\n",
       "       0.36470588, 0.34901961, 0.38039216, 0.41176471, 0.39607843,\n",
       "       0.38039216, 0.41176471, 0.        , 0.        , 0.        ,\n",
       "       0.1254902 , 0.31372549, 0.29803922, 0.38039216, 0.39607843,\n",
       "       0.44313725, 0.42745098, 0.38039216, 0.31372549, 0.36470588,\n",
       "       0.41176471, 0.36470588, 0.34901961, 0.33333333, 0.34901961,\n",
       "       0.36470588, 0.38039216, 0.38039216, 0.38039216, 0.39607843,\n",
       "       0.42745098, 0.45882353, 0.39607843, 0.41176471, 0.38039216,\n",
       "       0.        , 0.        , 0.        , 0.        , 0.        ,\n",
       "       0.        , 0.        , 0.        , 0.        , 0.        ,\n",
       "       0.        , 0.        , 0.        , 0.        , 0.        ,\n",
       "       0.        , 0.        , 0.        , 0.        , 0.        ,\n",
       "       0.        , 0.        , 0.        , 0.        , 0.        ,\n",
       "       0.        , 0.        , 0.        , 0.        , 0.        ,\n",
       "       0.        , 0.        , 0.        , 0.        , 0.        ,\n",
       "       0.        , 0.        , 0.        , 0.        , 0.        ,\n",
       "       0.        , 0.        , 0.        , 0.        , 0.        ,\n",
       "       0.        , 0.        , 0.        , 0.        , 0.        ,\n",
       "       0.        , 0.        , 0.        , 0.        , 0.        ,\n",
       "       0.        , 0.        , 0.        , 0.        , 0.        ,\n",
       "       0.        , 0.        , 0.        , 0.        , 0.        ,\n",
       "       0.        , 0.        , 0.        , 0.        , 0.        ,\n",
       "       0.        , 0.        , 0.        , 0.        , 0.        ,\n",
       "       0.        , 0.        , 0.        , 0.        , 0.        ,\n",
       "       0.        , 0.        , 0.        , 0.        , 0.        ,\n",
       "       0.        , 0.        , 0.        , 0.        , 0.        ,\n",
       "       0.        , 0.        , 0.        , 0.        , 0.        ,\n",
       "       0.        , 0.        , 0.        , 0.        , 0.        ,\n",
       "       0.        , 0.        , 0.        , 0.        , 0.        ,\n",
       "       0.        , 0.        , 0.        , 0.        , 0.        ,\n",
       "       0.        , 0.        , 0.        , 0.        , 0.        ,\n",
       "       0.        , 0.        , 0.        , 0.        , 0.        ,\n",
       "       0.        , 0.        , 0.        , 0.        , 0.        ,\n",
       "       0.        , 0.        , 0.        , 0.        , 0.        ,\n",
       "       0.        , 0.        , 0.        , 0.        , 0.        ,\n",
       "       0.        , 0.        , 0.        , 0.        , 0.        ,\n",
       "       0.        , 0.        , 0.        , 0.        , 0.        ,\n",
       "       0.        , 0.        , 0.        , 0.        , 0.        ,\n",
       "       0.        , 0.        , 0.        , 0.        , 0.        ,\n",
       "       0.        , 0.        , 0.        , 0.        , 0.        ,\n",
       "       0.        , 0.        , 0.        , 0.        , 0.        ,\n",
       "       0.        , 0.        , 0.        , 0.        , 0.        ,\n",
       "       0.        , 0.        , 0.        , 0.        , 0.        ,\n",
       "       0.        , 0.        , 0.        , 0.        , 0.        ,\n",
       "       0.        , 0.        , 0.        , 0.        , 0.        ,\n",
       "       0.        , 0.        , 0.        , 0.        , 0.        ,\n",
       "       0.        , 0.        , 0.        , 0.        , 0.        ,\n",
       "       0.        , 0.        , 0.        , 0.        , 0.        ,\n",
       "       0.        , 0.        , 0.        , 0.        , 0.        ,\n",
       "       0.        , 0.        , 0.        , 0.        , 0.        ,\n",
       "       0.        , 0.        , 0.        , 0.        , 0.        ,\n",
       "       0.        , 0.        , 0.        , 0.        , 0.        ,\n",
       "       0.        , 0.        , 0.        , 0.        ])"
      ]
     },
     "execution_count": 8,
     "metadata": {},
     "output_type": "execute_result"
    }
   ],
   "source": [
    "X_train[0]"
   ]
  },
  {
   "cell_type": "markdown",
   "id": "25413fd7",
   "metadata": {
    "papermill": {
     "duration": 0.007412,
     "end_time": "2025-01-31T13:01:15.225025",
     "exception": false,
     "start_time": "2025-01-31T13:01:15.217613",
     "status": "completed"
    },
    "tags": []
   },
   "source": [
    "# Create custom dataset and dataloader instances"
   ]
  },
  {
   "cell_type": "code",
   "execution_count": 9,
   "id": "0b8e4f73",
   "metadata": {
    "execution": {
     "iopub.execute_input": "2025-01-31T13:01:15.241851Z",
     "iopub.status.busy": "2025-01-31T13:01:15.241427Z",
     "iopub.status.idle": "2025-01-31T13:01:15.247944Z",
     "shell.execute_reply": "2025-01-31T13:01:15.246705Z"
    },
    "papermill": {
     "duration": 0.016938,
     "end_time": "2025-01-31T13:01:15.249647",
     "exception": false,
     "start_time": "2025-01-31T13:01:15.232709",
     "status": "completed"
    },
    "tags": []
   },
   "outputs": [],
   "source": [
    "class CustomDataset(Dataset):\n",
    "    \n",
    "    def __init__(self, features, labels):\n",
    "        super().__init__()\n",
    "        self.features = torch.tensor(features, dtype=torch.float32)\n",
    "        self.labels = torch.tensor(labels, dtype=torch.long)\n",
    "    \n",
    "    def __len__(self):\n",
    "        return self.features.shape[0]\n",
    "    \n",
    "    def __getitem__(self, index):\n",
    "        return (self.features[index], self.labels[index])"
   ]
  },
  {
   "cell_type": "markdown",
   "id": "4c44d236",
   "metadata": {
    "papermill": {
     "duration": 0.007327,
     "end_time": "2025-01-31T13:01:15.264998",
     "exception": false,
     "start_time": "2025-01-31T13:01:15.257671",
     "status": "completed"
    },
    "tags": []
   },
   "source": [
    "# Create train_dataset and test_dataset objects"
   ]
  },
  {
   "cell_type": "code",
   "execution_count": 10,
   "id": "9042ddc0",
   "metadata": {
    "execution": {
     "iopub.execute_input": "2025-01-31T13:01:15.282185Z",
     "iopub.status.busy": "2025-01-31T13:01:15.281824Z",
     "iopub.status.idle": "2025-01-31T13:01:15.330881Z",
     "shell.execute_reply": "2025-01-31T13:01:15.329738Z"
    },
    "papermill": {
     "duration": 0.060403,
     "end_time": "2025-01-31T13:01:15.332972",
     "exception": false,
     "start_time": "2025-01-31T13:01:15.272569",
     "status": "completed"
    },
    "tags": []
   },
   "outputs": [],
   "source": [
    "train_dataset = CustomDataset(X_train, y_train)"
   ]
  },
  {
   "cell_type": "code",
   "execution_count": 11,
   "id": "c6f00483",
   "metadata": {
    "execution": {
     "iopub.execute_input": "2025-01-31T13:01:15.350182Z",
     "iopub.status.busy": "2025-01-31T13:01:15.349802Z",
     "iopub.status.idle": "2025-01-31T13:01:15.355534Z",
     "shell.execute_reply": "2025-01-31T13:01:15.354700Z"
    },
    "papermill": {
     "duration": 0.016064,
     "end_time": "2025-01-31T13:01:15.357073",
     "exception": false,
     "start_time": "2025-01-31T13:01:15.341009",
     "status": "completed"
    },
    "tags": []
   },
   "outputs": [
    {
     "data": {
      "text/plain": [
       "4800"
      ]
     },
     "execution_count": 11,
     "metadata": {},
     "output_type": "execute_result"
    }
   ],
   "source": [
    "len(train_dataset)"
   ]
  },
  {
   "cell_type": "code",
   "execution_count": 12,
   "id": "55257e05",
   "metadata": {
    "execution": {
     "iopub.execute_input": "2025-01-31T13:01:15.374463Z",
     "iopub.status.busy": "2025-01-31T13:01:15.374118Z",
     "iopub.status.idle": "2025-01-31T13:01:15.452931Z",
     "shell.execute_reply": "2025-01-31T13:01:15.451734Z"
    },
    "papermill": {
     "duration": 0.089895,
     "end_time": "2025-01-31T13:01:15.454772",
     "exception": false,
     "start_time": "2025-01-31T13:01:15.364877",
     "status": "completed"
    },
    "tags": []
   },
   "outputs": [
    {
     "data": {
      "text/plain": [
       "(tensor([0.0000, 0.0000, 0.0000, 0.0000, 0.0000, 0.0000, 0.0000, 0.0000, 0.0000,\n",
       "         0.0000, 0.0000, 0.0000, 0.0000, 0.0000, 0.0000, 0.0000, 0.0000, 0.0000,\n",
       "         0.0000, 0.0000, 0.0000, 0.0000, 0.0000, 0.0000, 0.0000, 0.0000, 0.0000,\n",
       "         0.0000, 0.0000, 0.0000, 0.0000, 0.0000, 0.0000, 0.0000, 0.0000, 0.0000,\n",
       "         0.0000, 0.0000, 0.0000, 0.0000, 0.0000, 0.0000, 0.0000, 0.0000, 0.0000,\n",
       "         0.0000, 0.0000, 0.0000, 0.0000, 0.0000, 0.0000, 0.0000, 0.0000, 0.0000,\n",
       "         0.0000, 0.0000, 0.0000, 0.0000, 0.0000, 0.0000, 0.0000, 0.0000, 0.0000,\n",
       "         0.0000, 0.0000, 0.0000, 0.0000, 0.0000, 0.0000, 0.0000, 0.0000, 0.0000,\n",
       "         0.0000, 0.0000, 0.0000, 0.0000, 0.0000, 0.0000, 0.0000, 0.0000, 0.0000,\n",
       "         0.0000, 0.0000, 0.0000, 0.0000, 0.0000, 0.0000, 0.0000, 0.0000, 0.0000,\n",
       "         0.0000, 0.0000, 0.0000, 0.0000, 0.0000, 0.0000, 0.0000, 0.0000, 0.0000,\n",
       "         0.0000, 0.0000, 0.0000, 0.0000, 0.0000, 0.0000, 0.0000, 0.0000, 0.0000,\n",
       "         0.0000, 0.0000, 0.0000, 0.0000, 0.0000, 0.0000, 0.0000, 0.0000, 0.0000,\n",
       "         0.0000, 0.0000, 0.0000, 0.0000, 0.0000, 0.0000, 0.0000, 0.0000, 0.0000,\n",
       "         0.0000, 0.0000, 0.0000, 0.0000, 0.0000, 0.0000, 0.0000, 0.0000, 0.0000,\n",
       "         0.0000, 0.0000, 0.0000, 0.0000, 0.0000, 0.0000, 0.0000, 0.0000, 0.0000,\n",
       "         0.0000, 0.0000, 0.0000, 0.0000, 0.0000, 0.0000, 0.0000, 0.0000, 0.0000,\n",
       "         0.0000, 0.0000, 0.0000, 0.0000, 0.0000, 0.0000, 0.0000, 0.0000, 0.0000,\n",
       "         0.0000, 0.0000, 0.0000, 0.0000, 0.0000, 0.0000, 0.0000, 0.0000, 0.0000,\n",
       "         0.0000, 0.0000, 0.0000, 0.0000, 0.0000, 0.0000, 0.0000, 0.0000, 0.0000,\n",
       "         0.0000, 0.0000, 0.0000, 0.0000, 0.0000, 0.0000, 0.0000, 0.0000, 0.0000,\n",
       "         0.0000, 0.0000, 0.0000, 0.0000, 0.0000, 0.0000, 0.0000, 0.0000, 0.0000,\n",
       "         0.0000, 0.0000, 0.0000, 0.0000, 0.0000, 0.0000, 0.0000, 0.0000, 0.0000,\n",
       "         0.0000, 0.0000, 0.0000, 0.0000, 0.0000, 0.0000, 0.0000, 0.0000, 0.0000,\n",
       "         0.0000, 0.0000, 0.0000, 0.0000, 0.0000, 0.0000, 0.0000, 0.0000, 0.0000,\n",
       "         0.0000, 0.0000, 0.0000, 0.0000, 0.0000, 0.0000, 0.0000, 0.0000, 0.0000,\n",
       "         0.0000, 0.0000, 0.0000, 0.0000, 0.0000, 0.0000, 0.0000, 0.0000, 0.0000,\n",
       "         0.0000, 0.0000, 0.0000, 0.0000, 0.0000, 0.0000, 0.0000, 0.0000, 0.0000,\n",
       "         0.0000, 0.0000, 0.0000, 0.0000, 0.0000, 0.0000, 0.0000, 0.0000, 0.0000,\n",
       "         0.0000, 0.0000, 0.0000, 0.0000, 0.0000, 0.0627, 0.2196, 0.2039, 0.0784,\n",
       "         0.1569, 0.2196, 0.0000, 0.0000, 0.0314, 0.0000, 0.0000, 0.0000, 0.0000,\n",
       "         0.0000, 0.0000, 0.0000, 0.0000, 0.0000, 0.0000, 0.0000, 0.0000, 0.0000,\n",
       "         0.0157, 0.0000, 0.0000, 0.0000, 0.0157, 0.0627, 0.3333, 0.5216, 0.4118,\n",
       "         0.2667, 0.2667, 0.4745, 0.0000, 0.0000, 0.0157, 0.0157, 0.0157, 0.0000,\n",
       "         0.0000, 0.0000, 0.0000, 0.0000, 0.0000, 0.0000, 0.0000, 0.0000, 0.0000,\n",
       "         0.0000, 0.0000, 0.0000, 0.0471, 0.2039, 0.3137, 0.3647, 0.0314, 0.0627,\n",
       "         0.2196, 0.1098, 0.3490, 1.0000, 0.0000, 0.0000, 0.0000, 0.0000, 0.0000,\n",
       "         0.0000, 0.6824, 0.1098, 0.0000, 0.0157, 0.0000, 0.0000, 0.0000, 0.0000,\n",
       "         0.0000, 0.0000, 0.1255, 0.2667, 0.3137, 0.2510, 0.1098, 0.0627, 0.1569,\n",
       "         0.1098, 0.0471, 0.1098, 0.0000, 0.4275, 0.6824, 0.2353, 0.0314, 0.0000,\n",
       "         0.0157, 0.4275, 0.6824, 0.1098, 0.0000, 0.0000, 0.0000, 0.0000, 0.0000,\n",
       "         0.0000, 0.1882, 0.2667, 0.1882, 0.0627, 0.1098, 0.0941, 0.0314, 0.0471,\n",
       "         0.0000, 0.0000, 0.0000, 0.1569, 0.8078, 0.0941, 0.0000, 0.1255, 0.6667,\n",
       "         0.6824, 0.6157, 0.6824, 0.6824, 0.2039, 0.0157, 0.1569, 0.1882, 0.2039,\n",
       "         0.1725, 0.3804, 0.1255, 0.0000, 0.1098, 0.1255, 0.0627, 0.0157, 0.0157,\n",
       "         0.0000, 0.0314, 0.3647, 0.6157, 0.5843, 0.7608, 0.8549, 0.4745, 0.1882,\n",
       "         0.7765, 0.6667, 0.4745, 0.6314, 0.6314, 0.4118, 0.2980, 0.4118, 0.1255,\n",
       "         0.0000, 0.1412, 0.5686, 0.0000, 0.2667, 0.1255, 0.0000, 0.0471, 0.1412,\n",
       "         0.1725, 0.3333, 0.5216, 0.7765, 0.9176, 0.8392, 0.7137, 0.8078, 0.8549,\n",
       "         0.6824, 0.8863, 0.6824, 0.3961, 0.5529, 0.6824, 0.4588, 0.2510, 0.2510,\n",
       "         0.3804, 0.2980, 0.3804, 0.5529, 0.2510, 0.4431, 0.2353, 0.1569, 0.0157,\n",
       "         0.1412, 0.3804, 0.8392, 0.7137, 0.6980, 0.6157, 0.4588, 0.4431, 0.5686,\n",
       "         0.7294, 0.6471, 0.7765, 0.7765, 0.5373, 0.5843, 0.6667, 0.4588, 0.4588,\n",
       "         0.4431, 0.3333, 0.2667, 0.2824, 0.3137, 0.3490, 0.3804, 0.3333, 0.3961,\n",
       "         0.3333, 0.2980, 0.3137, 0.2980, 0.2824, 0.2824, 0.2510, 0.2039, 0.2196,\n",
       "         0.2510, 0.2667, 0.3490, 0.3647, 0.3333, 0.2980, 0.2980, 0.3647, 0.4118,\n",
       "         0.1098, 0.2667, 0.4588, 0.5529, 0.4431, 0.4275, 0.3804, 0.3647, 0.3137,\n",
       "         0.3961, 0.4745, 0.4431, 0.4275, 0.3647, 0.3804, 0.3961, 0.4275, 0.4118,\n",
       "         0.3804, 0.3961, 0.3804, 0.3647, 0.3490, 0.3804, 0.4118, 0.3961, 0.3804,\n",
       "         0.4118, 0.0000, 0.0000, 0.0000, 0.1255, 0.3137, 0.2980, 0.3804, 0.3961,\n",
       "         0.4431, 0.4275, 0.3804, 0.3137, 0.3647, 0.4118, 0.3647, 0.3490, 0.3333,\n",
       "         0.3490, 0.3647, 0.3804, 0.3804, 0.3804, 0.3961, 0.4275, 0.4588, 0.3961,\n",
       "         0.4118, 0.3804, 0.0000, 0.0000, 0.0000, 0.0000, 0.0000, 0.0000, 0.0000,\n",
       "         0.0000, 0.0000, 0.0000, 0.0000, 0.0000, 0.0000, 0.0000, 0.0000, 0.0000,\n",
       "         0.0000, 0.0000, 0.0000, 0.0000, 0.0000, 0.0000, 0.0000, 0.0000, 0.0000,\n",
       "         0.0000, 0.0000, 0.0000, 0.0000, 0.0000, 0.0000, 0.0000, 0.0000, 0.0000,\n",
       "         0.0000, 0.0000, 0.0000, 0.0000, 0.0000, 0.0000, 0.0000, 0.0000, 0.0000,\n",
       "         0.0000, 0.0000, 0.0000, 0.0000, 0.0000, 0.0000, 0.0000, 0.0000, 0.0000,\n",
       "         0.0000, 0.0000, 0.0000, 0.0000, 0.0000, 0.0000, 0.0000, 0.0000, 0.0000,\n",
       "         0.0000, 0.0000, 0.0000, 0.0000, 0.0000, 0.0000, 0.0000, 0.0000, 0.0000,\n",
       "         0.0000, 0.0000, 0.0000, 0.0000, 0.0000, 0.0000, 0.0000, 0.0000, 0.0000,\n",
       "         0.0000, 0.0000, 0.0000, 0.0000, 0.0000, 0.0000, 0.0000, 0.0000, 0.0000,\n",
       "         0.0000, 0.0000, 0.0000, 0.0000, 0.0000, 0.0000, 0.0000, 0.0000, 0.0000,\n",
       "         0.0000, 0.0000, 0.0000, 0.0000, 0.0000, 0.0000, 0.0000, 0.0000, 0.0000,\n",
       "         0.0000, 0.0000, 0.0000, 0.0000, 0.0000, 0.0000, 0.0000, 0.0000, 0.0000,\n",
       "         0.0000, 0.0000, 0.0000, 0.0000, 0.0000, 0.0000, 0.0000, 0.0000, 0.0000,\n",
       "         0.0000, 0.0000, 0.0000, 0.0000, 0.0000, 0.0000, 0.0000, 0.0000, 0.0000,\n",
       "         0.0000, 0.0000, 0.0000, 0.0000, 0.0000, 0.0000, 0.0000, 0.0000, 0.0000,\n",
       "         0.0000, 0.0000, 0.0000, 0.0000, 0.0000, 0.0000, 0.0000, 0.0000, 0.0000,\n",
       "         0.0000, 0.0000, 0.0000, 0.0000, 0.0000, 0.0000, 0.0000, 0.0000, 0.0000,\n",
       "         0.0000, 0.0000, 0.0000, 0.0000, 0.0000, 0.0000, 0.0000, 0.0000, 0.0000,\n",
       "         0.0000, 0.0000, 0.0000, 0.0000, 0.0000, 0.0000, 0.0000, 0.0000, 0.0000,\n",
       "         0.0000, 0.0000, 0.0000, 0.0000, 0.0000, 0.0000, 0.0000, 0.0000, 0.0000,\n",
       "         0.0000, 0.0000, 0.0000, 0.0000, 0.0000, 0.0000, 0.0000, 0.0000, 0.0000,\n",
       "         0.0000, 0.0000, 0.0000, 0.0000, 0.0000, 0.0000, 0.0000, 0.0000, 0.0000,\n",
       "         0.0000, 0.0000, 0.0000, 0.0000, 0.0000, 0.0000, 0.0000, 0.0000, 0.0000,\n",
       "         0.0000, 0.0000, 0.0000, 0.0000, 0.0000, 0.0000, 0.0000, 0.0000, 0.0000,\n",
       "         0.0000]),\n",
       " tensor(7))"
      ]
     },
     "execution_count": 12,
     "metadata": {},
     "output_type": "execute_result"
    }
   ],
   "source": [
    "train_dataset[0]"
   ]
  },
  {
   "cell_type": "code",
   "execution_count": 13,
   "id": "e9e760af",
   "metadata": {
    "execution": {
     "iopub.execute_input": "2025-01-31T13:01:15.472636Z",
     "iopub.status.busy": "2025-01-31T13:01:15.472234Z",
     "iopub.status.idle": "2025-01-31T13:01:15.477377Z",
     "shell.execute_reply": "2025-01-31T13:01:15.476275Z"
    },
    "papermill": {
     "duration": 0.015974,
     "end_time": "2025-01-31T13:01:15.479313",
     "exception": false,
     "start_time": "2025-01-31T13:01:15.463339",
     "status": "completed"
    },
    "tags": []
   },
   "outputs": [],
   "source": [
    "test_dataset = CustomDataset(X_test, y_test)"
   ]
  },
  {
   "cell_type": "markdown",
   "id": "ec17fe71",
   "metadata": {
    "papermill": {
     "duration": 0.007751,
     "end_time": "2025-01-31T13:01:15.495553",
     "exception": false,
     "start_time": "2025-01-31T13:01:15.487802",
     "status": "completed"
    },
    "tags": []
   },
   "source": [
    "# Create train_dataloader and test_loader objects"
   ]
  },
  {
   "cell_type": "code",
   "execution_count": 14,
   "id": "329e7f13",
   "metadata": {
    "execution": {
     "iopub.execute_input": "2025-01-31T13:01:15.513236Z",
     "iopub.status.busy": "2025-01-31T13:01:15.512885Z",
     "iopub.status.idle": "2025-01-31T13:01:15.517987Z",
     "shell.execute_reply": "2025-01-31T13:01:15.516973Z"
    },
    "papermill": {
     "duration": 0.015975,
     "end_time": "2025-01-31T13:01:15.519627",
     "exception": false,
     "start_time": "2025-01-31T13:01:15.503652",
     "status": "completed"
    },
    "tags": []
   },
   "outputs": [],
   "source": [
    "train_loader = DataLoader(train_dataset, batch_size=32, shuffle=True)\n",
    "test_loader = DataLoader(test_dataset, batch_size=32, shuffle=False)"
   ]
  },
  {
   "cell_type": "markdown",
   "id": "9895a883",
   "metadata": {
    "papermill": {
     "duration": 0.008157,
     "end_time": "2025-01-31T13:01:15.536457",
     "exception": false,
     "start_time": "2025-01-31T13:01:15.528300",
     "status": "completed"
    },
    "tags": []
   },
   "source": [
    "# Define the ANN"
   ]
  },
  {
   "cell_type": "code",
   "execution_count": 15,
   "id": "cef233c2",
   "metadata": {
    "execution": {
     "iopub.execute_input": "2025-01-31T13:01:15.553777Z",
     "iopub.status.busy": "2025-01-31T13:01:15.553358Z",
     "iopub.status.idle": "2025-01-31T13:01:15.559315Z",
     "shell.execute_reply": "2025-01-31T13:01:15.558155Z"
    },
    "papermill": {
     "duration": 0.016897,
     "end_time": "2025-01-31T13:01:15.561358",
     "exception": false,
     "start_time": "2025-01-31T13:01:15.544461",
     "status": "completed"
    },
    "tags": []
   },
   "outputs": [],
   "source": [
    "class ANN(nn.Module):\n",
    "    \n",
    "    def __init__(self, num_features):\n",
    "        super().__init__()\n",
    "        self.model = nn.Sequential(\n",
    "            nn.Linear(num_features, 128),\n",
    "            nn.ReLU(),\n",
    "            nn.Linear(128, 64),\n",
    "            nn.ReLU(),\n",
    "            nn.Linear(64, 10)\n",
    "        )\n",
    "\n",
    "    def forward(self, X):\n",
    "        return self.model(X)"
   ]
  },
  {
   "cell_type": "markdown",
   "id": "4db43620",
   "metadata": {
    "papermill": {
     "duration": 0.007897,
     "end_time": "2025-01-31T13:01:15.577675",
     "exception": false,
     "start_time": "2025-01-31T13:01:15.569778",
     "status": "completed"
    },
    "tags": []
   },
   "source": [
    "# Setup hyperparameters"
   ]
  },
  {
   "cell_type": "code",
   "execution_count": 16,
   "id": "2d1ef7a8",
   "metadata": {
    "execution": {
     "iopub.execute_input": "2025-01-31T13:01:15.595033Z",
     "iopub.status.busy": "2025-01-31T13:01:15.594596Z",
     "iopub.status.idle": "2025-01-31T13:01:15.598931Z",
     "shell.execute_reply": "2025-01-31T13:01:15.597735Z"
    },
    "papermill": {
     "duration": 0.01505,
     "end_time": "2025-01-31T13:01:15.600709",
     "exception": false,
     "start_time": "2025-01-31T13:01:15.585659",
     "status": "completed"
    },
    "tags": []
   },
   "outputs": [],
   "source": [
    "epochs = 100\n",
    "learning_rate = 0.1"
   ]
  },
  {
   "cell_type": "markdown",
   "id": "67e695be",
   "metadata": {
    "papermill": {
     "duration": 0.008068,
     "end_time": "2025-01-31T13:01:15.616985",
     "exception": false,
     "start_time": "2025-01-31T13:01:15.608917",
     "status": "completed"
    },
    "tags": []
   },
   "source": [
    "# Instantiate model, loss function and optimizer"
   ]
  },
  {
   "cell_type": "code",
   "execution_count": 17,
   "id": "9fe40d64",
   "metadata": {
    "execution": {
     "iopub.execute_input": "2025-01-31T13:01:15.634527Z",
     "iopub.status.busy": "2025-01-31T13:01:15.634176Z",
     "iopub.status.idle": "2025-01-31T13:01:20.636827Z",
     "shell.execute_reply": "2025-01-31T13:01:20.635746Z"
    },
    "papermill": {
     "duration": 5.013688,
     "end_time": "2025-01-31T13:01:20.638889",
     "exception": false,
     "start_time": "2025-01-31T13:01:15.625201",
     "status": "completed"
    },
    "tags": []
   },
   "outputs": [],
   "source": [
    "model = ANN(X_train.shape[1])\n",
    "loss_function = nn.CrossEntropyLoss()\n",
    "optimizer = optim.SGD(model.parameters(), lr=learning_rate)"
   ]
  },
  {
   "cell_type": "markdown",
   "id": "8fc1a098",
   "metadata": {
    "papermill": {
     "duration": 0.007593,
     "end_time": "2025-01-31T13:01:20.654712",
     "exception": false,
     "start_time": "2025-01-31T13:01:20.647119",
     "status": "completed"
    },
    "tags": []
   },
   "source": [
    "# Training loop"
   ]
  },
  {
   "cell_type": "code",
   "execution_count": 18,
   "id": "3752a153",
   "metadata": {
    "execution": {
     "iopub.execute_input": "2025-01-31T13:01:20.672677Z",
     "iopub.status.busy": "2025-01-31T13:01:20.672090Z",
     "iopub.status.idle": "2025-01-31T13:01:44.404354Z",
     "shell.execute_reply": "2025-01-31T13:01:44.402988Z"
    },
    "papermill": {
     "duration": 23.743326,
     "end_time": "2025-01-31T13:01:44.406319",
     "exception": false,
     "start_time": "2025-01-31T13:01:20.662993",
     "status": "completed"
    },
    "tags": []
   },
   "outputs": [
    {
     "name": "stdout",
     "output_type": "stream",
     "text": [
      "Epoch: 1, Loss: 1.3216368428866068\n",
      "Epoch: 2, Loss: 0.7793365438779195\n",
      "Epoch: 3, Loss: 0.6427524642149607\n",
      "Epoch: 4, Loss: 0.575165742635727\n",
      "Epoch: 5, Loss: 0.5281801904241245\n",
      "Epoch: 6, Loss: 0.495287510852019\n",
      "Epoch: 7, Loss: 0.4602433051665624\n",
      "Epoch: 8, Loss: 0.435541773935159\n",
      "Epoch: 9, Loss: 0.4185749634106954\n",
      "Epoch: 10, Loss: 0.39913055901726086\n",
      "Epoch: 11, Loss: 0.38526923845211664\n",
      "Epoch: 12, Loss: 0.37294634282588957\n",
      "Epoch: 13, Loss: 0.3497817688186963\n",
      "Epoch: 14, Loss: 0.34788814852635064\n",
      "Epoch: 15, Loss: 0.31599848583340645\n",
      "Epoch: 16, Loss: 0.3118680293361346\n",
      "Epoch: 17, Loss: 0.2936834237227837\n",
      "Epoch: 18, Loss: 0.2892179740468661\n",
      "Epoch: 19, Loss: 0.2741353053599596\n",
      "Epoch: 20, Loss: 0.263867934991916\n",
      "Epoch: 21, Loss: 0.26546819786230724\n",
      "Epoch: 22, Loss: 0.24130918694039186\n",
      "Epoch: 23, Loss: 0.24161443116764228\n",
      "Epoch: 24, Loss: 0.22205657310783863\n",
      "Epoch: 25, Loss: 0.2275674522916476\n",
      "Epoch: 26, Loss: 0.20865238015850385\n",
      "Epoch: 27, Loss: 0.21778246896962325\n",
      "Epoch: 28, Loss: 0.20837314500162998\n",
      "Epoch: 29, Loss: 0.1845083862543106\n",
      "Epoch: 30, Loss: 0.1866714558005333\n",
      "Epoch: 31, Loss: 0.18845700535923243\n",
      "Epoch: 32, Loss: 0.1902016561726729\n",
      "Epoch: 33, Loss: 0.1752675390864412\n",
      "Epoch: 34, Loss: 0.17973395995795727\n",
      "Epoch: 35, Loss: 0.16764936887969573\n",
      "Epoch: 36, Loss: 0.17251370946566263\n",
      "Epoch: 37, Loss: 0.15069598357193173\n",
      "Epoch: 38, Loss: 0.14929336350411176\n",
      "Epoch: 39, Loss: 0.1436813353622953\n",
      "Epoch: 40, Loss: 0.13471348066426192\n",
      "Epoch: 41, Loss: 0.13420810061196486\n",
      "Epoch: 42, Loss: 0.13444519088603557\n",
      "Epoch: 43, Loss: 0.13466763965785503\n",
      "Epoch: 44, Loss: 0.11343815369531512\n",
      "Epoch: 45, Loss: 0.11215692398448786\n",
      "Epoch: 46, Loss: 0.12043849455192684\n",
      "Epoch: 47, Loss: 0.1107572793153425\n",
      "Epoch: 48, Loss: 0.12199391489227612\n",
      "Epoch: 49, Loss: 0.11268694255501031\n",
      "Epoch: 50, Loss: 0.09254678026462594\n",
      "Epoch: 51, Loss: 0.11444002446718514\n",
      "Epoch: 52, Loss: 0.09855982413205008\n",
      "Epoch: 53, Loss: 0.12179502638056874\n",
      "Epoch: 54, Loss: 0.08542105846883108\n",
      "Epoch: 55, Loss: 0.08723659887599448\n",
      "Epoch: 56, Loss: 0.07906296414944033\n",
      "Epoch: 57, Loss: 0.09166652364656329\n",
      "Epoch: 58, Loss: 0.08707208074008425\n",
      "Epoch: 59, Loss: 0.08759271029693384\n",
      "Epoch: 60, Loss: 0.08103749209394058\n",
      "Epoch: 61, Loss: 0.08805716049546997\n",
      "Epoch: 62, Loss: 0.06384834136503438\n",
      "Epoch: 63, Loss: 0.07574320272852977\n",
      "Epoch: 64, Loss: 0.07342455562825004\n",
      "Epoch: 65, Loss: 0.0667584692283223\n",
      "Epoch: 66, Loss: 0.049873136080180604\n",
      "Epoch: 67, Loss: 0.051239190413616596\n",
      "Epoch: 68, Loss: 0.06122376928261171\n",
      "Epoch: 69, Loss: 0.05025220764490465\n",
      "Epoch: 70, Loss: 0.06296464045221607\n",
      "Epoch: 71, Loss: 0.05525886859744787\n",
      "Epoch: 72, Loss: 0.05490078939590603\n",
      "Epoch: 73, Loss: 0.044150314683405065\n",
      "Epoch: 74, Loss: 0.04831322372425348\n",
      "Epoch: 75, Loss: 0.06609306954351875\n",
      "Epoch: 76, Loss: 0.06638803255278618\n",
      "Epoch: 77, Loss: 0.02842902879230678\n",
      "Epoch: 78, Loss: 0.09632735820642362\n",
      "Epoch: 79, Loss: 0.03440004325471818\n",
      "Epoch: 80, Loss: 0.03216924752293077\n",
      "Epoch: 81, Loss: 0.03915247826371342\n",
      "Epoch: 82, Loss: 0.0242410742607899\n",
      "Epoch: 83, Loss: 0.026763401962040613\n",
      "Epoch: 84, Loss: 0.026054778339651724\n",
      "Epoch: 85, Loss: 0.05983411722738917\n",
      "Epoch: 86, Loss: 0.028400028617276498\n",
      "Epoch: 87, Loss: 0.056154138092727714\n",
      "Epoch: 88, Loss: 0.04097771195539584\n",
      "Epoch: 89, Loss: 0.025921141841681674\n",
      "Epoch: 90, Loss: 0.06026110320119187\n",
      "Epoch: 91, Loss: 0.02892994572641328\n",
      "Epoch: 92, Loss: 0.02839715264039114\n",
      "Epoch: 93, Loss: 0.024345206480938943\n",
      "Epoch: 94, Loss: 0.01628412187700936\n",
      "Epoch: 95, Loss: 0.007656838078595077\n",
      "Epoch: 96, Loss: 0.012138765627945152\n",
      "Epoch: 97, Loss: 0.11126405518812438\n",
      "Epoch: 98, Loss: 0.041475099502519396\n",
      "Epoch: 99, Loss: 0.026551814538640126\n",
      "Epoch: 100, Loss: 0.011341988762530187\n"
     ]
    }
   ],
   "source": [
    "for epoch in range(epochs):\n",
    "    \n",
    "    total_epoch_loss = 0\n",
    "    \n",
    "    for batch_features, batch_labels in train_loader:\n",
    "        # forward pass\n",
    "        y_train_pred = model(batch_features)\n",
    "\n",
    "        # calculate loss\n",
    "        loss = loss_function(y_train_pred, batch_labels)\n",
    "\n",
    "        # backward pass\n",
    "        optimizer.zero_grad()\n",
    "        loss.backward()\n",
    "\n",
    "        # update grads\n",
    "        optimizer.step()\n",
    "\n",
    "        total_epoch_loss += loss.item()\n",
    "\n",
    "    average_epoch_loss = total_epoch_loss / len(train_loader)\n",
    "\n",
    "    print(f\"Epoch: {epoch + 1}, Loss: {average_epoch_loss}\")"
   ]
  },
  {
   "cell_type": "markdown",
   "id": "54cf741e",
   "metadata": {
    "papermill": {
     "duration": 0.013318,
     "end_time": "2025-01-31T13:01:44.433138",
     "exception": false,
     "start_time": "2025-01-31T13:01:44.419820",
     "status": "completed"
    },
    "tags": []
   },
   "source": [
    "# Evaluate"
   ]
  },
  {
   "cell_type": "code",
   "execution_count": 19,
   "id": "00b17bd0",
   "metadata": {
    "execution": {
     "iopub.execute_input": "2025-01-31T13:01:44.460810Z",
     "iopub.status.busy": "2025-01-31T13:01:44.460386Z",
     "iopub.status.idle": "2025-01-31T13:01:44.466913Z",
     "shell.execute_reply": "2025-01-31T13:01:44.465676Z"
    },
    "papermill": {
     "duration": 0.022399,
     "end_time": "2025-01-31T13:01:44.468785",
     "exception": false,
     "start_time": "2025-01-31T13:01:44.446386",
     "status": "completed"
    },
    "tags": []
   },
   "outputs": [
    {
     "data": {
      "text/plain": [
       "ANN(\n",
       "  (model): Sequential(\n",
       "    (0): Linear(in_features=784, out_features=128, bias=True)\n",
       "    (1): ReLU()\n",
       "    (2): Linear(in_features=128, out_features=64, bias=True)\n",
       "    (3): ReLU()\n",
       "    (4): Linear(in_features=64, out_features=10, bias=True)\n",
       "  )\n",
       ")"
      ]
     },
     "execution_count": 19,
     "metadata": {},
     "output_type": "execute_result"
    }
   ],
   "source": [
    "# set model to evaluation mode\n",
    "model.eval()"
   ]
  },
  {
   "cell_type": "code",
   "execution_count": 20,
   "id": "750c58a7",
   "metadata": {
    "execution": {
     "iopub.execute_input": "2025-01-31T13:01:44.497185Z",
     "iopub.status.busy": "2025-01-31T13:01:44.496829Z",
     "iopub.status.idle": "2025-01-31T13:01:44.537694Z",
     "shell.execute_reply": "2025-01-31T13:01:44.536553Z"
    },
    "papermill": {
     "duration": 0.057436,
     "end_time": "2025-01-31T13:01:44.540101",
     "exception": false,
     "start_time": "2025-01-31T13:01:44.482665",
     "status": "completed"
    },
    "tags": []
   },
   "outputs": [
    {
     "name": "stdout",
     "output_type": "stream",
     "text": [
      "Accuracy: 0.8241666666666667\n"
     ]
    }
   ],
   "source": [
    "total = 0\n",
    "correct = 0\n",
    "\n",
    "with torch.no_grad():\n",
    "    for batch_features, batch_labels in test_loader:\n",
    "        y_test_pred = model(batch_features)\n",
    "        y_test_pred = torch.argmax(y_test_pred, dim=1)\n",
    "        total += batch_labels.shape[0]\n",
    "        correct += (y_test_pred == batch_labels).sum().item()\n",
    "\n",
    "print(f\"Accuracy: {correct / total}\")        "
   ]
  },
  {
   "cell_type": "code",
   "execution_count": null,
   "id": "4396e925",
   "metadata": {
    "papermill": {
     "duration": 0.014015,
     "end_time": "2025-01-31T13:01:44.568653",
     "exception": false,
     "start_time": "2025-01-31T13:01:44.554638",
     "status": "completed"
    },
    "tags": []
   },
   "outputs": [],
   "source": []
  }
 ],
 "metadata": {
  "kaggle": {
   "accelerator": "none",
   "dataSources": [
    {
     "datasetId": 2243,
     "sourceId": 9243,
     "sourceType": "datasetVersion"
    },
    {
     "datasetId": 6579465,
     "sourceId": 10626548,
     "sourceType": "datasetVersion"
    }
   ],
   "dockerImageVersionId": 30839,
   "isGpuEnabled": false,
   "isInternetEnabled": true,
   "language": "python",
   "sourceType": "notebook"
  },
  "kernelspec": {
   "display_name": "Python 3",
   "language": "python",
   "name": "python3"
  },
  "language_info": {
   "codemirror_mode": {
    "name": "ipython",
    "version": 3
   },
   "file_extension": ".py",
   "mimetype": "text/x-python",
   "name": "python",
   "nbconvert_exporter": "python",
   "pygments_lexer": "ipython3",
   "version": "3.10.12"
  },
  "papermill": {
   "default_parameters": {},
   "duration": 43.558064,
   "end_time": "2025-01-31T13:01:46.708151",
   "environment_variables": {},
   "exception": null,
   "input_path": "__notebook__.ipynb",
   "output_path": "__notebook__.ipynb",
   "parameters": {},
   "start_time": "2025-01-31T13:01:03.150087",
   "version": "2.6.0"
  }
 },
 "nbformat": 4,
 "nbformat_minor": 5
}
