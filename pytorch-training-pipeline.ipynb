{
 "cells": [
  {
   "cell_type": "code",
   "execution_count": 1,
   "id": "967b4c35",
   "metadata": {
    "_cell_guid": "b1076dfc-b9ad-4769-8c92-a6c4dae69d19",
    "_uuid": "8f2839f25d086af736a60e9eeb907d3b93b6e0e5",
    "execution": {
     "iopub.execute_input": "2024-12-09T16:03:05.768197Z",
     "iopub.status.busy": "2024-12-09T16:03:05.767694Z",
     "iopub.status.idle": "2024-12-09T16:03:06.842718Z",
     "shell.execute_reply": "2024-12-09T16:03:06.841513Z"
    },
    "papermill": {
     "duration": 1.08641,
     "end_time": "2024-12-09T16:03:06.845486",
     "exception": false,
     "start_time": "2024-12-09T16:03:05.759076",
     "status": "completed"
    },
    "tags": []
   },
   "outputs": [],
   "source": [
    "# This Python 3 environment comes with many helpful analytics libraries installed\n",
    "# It is defined by the kaggle/python Docker image: https://github.com/kaggle/docker-python\n",
    "# For example, here's several helpful packages to load\n",
    "\n",
    "import numpy as np # linear algebra\n",
    "import pandas as pd # data processing, CSV file I/O (e.g. pd.read_csv)\n",
    "\n",
    "# Input data files are available in the read-only \"../input/\" directory\n",
    "# For example, running this (by clicking run or pressing Shift+Enter) will list all files under the input directory\n",
    "\n",
    "import os\n",
    "for dirname, _, filenames in os.walk('/kaggle/input'):\n",
    "    for filename in filenames:\n",
    "        print(os.path.join(dirname, filename))\n",
    "\n",
    "# You can write up to 20GB to the current directory (/kaggle/working/) that gets preserved as output when you create a version using \"Save & Run All\" \n",
    "# You can also write temporary files to /kaggle/temp/, but they won't be saved outside of the current session"
   ]
  },
  {
   "cell_type": "markdown",
   "id": "9241a718",
   "metadata": {
    "papermill": {
     "duration": 0.004831,
     "end_time": "2024-12-09T16:03:06.855668",
     "exception": false,
     "start_time": "2024-12-09T16:03:06.850837",
     "status": "completed"
    },
    "tags": []
   },
   "source": [
    "# A simple training pipeline\n",
    "This notebook is a demonstration of how to build a simple neural network from scratch and train it on a real life dataset and use the model to perform predictions"
   ]
  },
  {
   "cell_type": "markdown",
   "id": "10d791e7",
   "metadata": {
    "papermill": {
     "duration": 0.004768,
     "end_time": "2024-12-09T16:03:06.866064",
     "exception": false,
     "start_time": "2024-12-09T16:03:06.861296",
     "status": "completed"
    },
    "tags": []
   },
   "source": [
    "## Import tools"
   ]
  },
  {
   "cell_type": "code",
   "execution_count": 2,
   "id": "06b6451b",
   "metadata": {
    "execution": {
     "iopub.execute_input": "2024-12-09T16:03:06.879806Z",
     "iopub.status.busy": "2024-12-09T16:03:06.879253Z",
     "iopub.status.idle": "2024-12-09T16:03:11.936597Z",
     "shell.execute_reply": "2024-12-09T16:03:11.935585Z"
    },
    "papermill": {
     "duration": 5.06636,
     "end_time": "2024-12-09T16:03:11.939061",
     "exception": false,
     "start_time": "2024-12-09T16:03:06.872701",
     "status": "completed"
    },
    "tags": []
   },
   "outputs": [],
   "source": [
    "import numpy as np\n",
    "import pandas as pd\n",
    "import torch\n",
    "from sklearn.model_selection import train_test_split\n",
    "from sklearn.preprocessing import StandardScaler\n",
    "from sklearn.preprocessing import LabelEncoder"
   ]
  },
  {
   "cell_type": "markdown",
   "id": "f84562b4",
   "metadata": {
    "papermill": {
     "duration": 0.00477,
     "end_time": "2024-12-09T16:03:11.948997",
     "exception": false,
     "start_time": "2024-12-09T16:03:11.944227",
     "status": "completed"
    },
    "tags": []
   },
   "source": [
    "## Load the dataset"
   ]
  },
  {
   "cell_type": "code",
   "execution_count": 3,
   "id": "863de067",
   "metadata": {
    "execution": {
     "iopub.execute_input": "2024-12-09T16:03:11.961107Z",
     "iopub.status.busy": "2024-12-09T16:03:11.960524Z",
     "iopub.status.idle": "2024-12-09T16:03:12.172634Z",
     "shell.execute_reply": "2024-12-09T16:03:12.171253Z"
    },
    "papermill": {
     "duration": 0.220949,
     "end_time": "2024-12-09T16:03:12.175139",
     "exception": false,
     "start_time": "2024-12-09T16:03:11.954190",
     "status": "completed"
    },
    "tags": []
   },
   "outputs": [
    {
     "data": {
      "text/html": [
       "<div>\n",
       "<style scoped>\n",
       "    .dataframe tbody tr th:only-of-type {\n",
       "        vertical-align: middle;\n",
       "    }\n",
       "\n",
       "    .dataframe tbody tr th {\n",
       "        vertical-align: top;\n",
       "    }\n",
       "\n",
       "    .dataframe thead th {\n",
       "        text-align: right;\n",
       "    }\n",
       "</style>\n",
       "<table border=\"1\" class=\"dataframe\">\n",
       "  <thead>\n",
       "    <tr style=\"text-align: right;\">\n",
       "      <th></th>\n",
       "      <th>id</th>\n",
       "      <th>diagnosis</th>\n",
       "      <th>radius_mean</th>\n",
       "      <th>texture_mean</th>\n",
       "      <th>perimeter_mean</th>\n",
       "      <th>area_mean</th>\n",
       "      <th>smoothness_mean</th>\n",
       "      <th>compactness_mean</th>\n",
       "      <th>concavity_mean</th>\n",
       "      <th>concave points_mean</th>\n",
       "      <th>...</th>\n",
       "      <th>texture_worst</th>\n",
       "      <th>perimeter_worst</th>\n",
       "      <th>area_worst</th>\n",
       "      <th>smoothness_worst</th>\n",
       "      <th>compactness_worst</th>\n",
       "      <th>concavity_worst</th>\n",
       "      <th>concave points_worst</th>\n",
       "      <th>symmetry_worst</th>\n",
       "      <th>fractal_dimension_worst</th>\n",
       "      <th>Unnamed: 32</th>\n",
       "    </tr>\n",
       "  </thead>\n",
       "  <tbody>\n",
       "    <tr>\n",
       "      <th>0</th>\n",
       "      <td>842302</td>\n",
       "      <td>M</td>\n",
       "      <td>17.99</td>\n",
       "      <td>10.38</td>\n",
       "      <td>122.80</td>\n",
       "      <td>1001.0</td>\n",
       "      <td>0.11840</td>\n",
       "      <td>0.27760</td>\n",
       "      <td>0.3001</td>\n",
       "      <td>0.14710</td>\n",
       "      <td>...</td>\n",
       "      <td>17.33</td>\n",
       "      <td>184.60</td>\n",
       "      <td>2019.0</td>\n",
       "      <td>0.1622</td>\n",
       "      <td>0.6656</td>\n",
       "      <td>0.7119</td>\n",
       "      <td>0.2654</td>\n",
       "      <td>0.4601</td>\n",
       "      <td>0.11890</td>\n",
       "      <td>NaN</td>\n",
       "    </tr>\n",
       "    <tr>\n",
       "      <th>1</th>\n",
       "      <td>842517</td>\n",
       "      <td>M</td>\n",
       "      <td>20.57</td>\n",
       "      <td>17.77</td>\n",
       "      <td>132.90</td>\n",
       "      <td>1326.0</td>\n",
       "      <td>0.08474</td>\n",
       "      <td>0.07864</td>\n",
       "      <td>0.0869</td>\n",
       "      <td>0.07017</td>\n",
       "      <td>...</td>\n",
       "      <td>23.41</td>\n",
       "      <td>158.80</td>\n",
       "      <td>1956.0</td>\n",
       "      <td>0.1238</td>\n",
       "      <td>0.1866</td>\n",
       "      <td>0.2416</td>\n",
       "      <td>0.1860</td>\n",
       "      <td>0.2750</td>\n",
       "      <td>0.08902</td>\n",
       "      <td>NaN</td>\n",
       "    </tr>\n",
       "    <tr>\n",
       "      <th>2</th>\n",
       "      <td>84300903</td>\n",
       "      <td>M</td>\n",
       "      <td>19.69</td>\n",
       "      <td>21.25</td>\n",
       "      <td>130.00</td>\n",
       "      <td>1203.0</td>\n",
       "      <td>0.10960</td>\n",
       "      <td>0.15990</td>\n",
       "      <td>0.1974</td>\n",
       "      <td>0.12790</td>\n",
       "      <td>...</td>\n",
       "      <td>25.53</td>\n",
       "      <td>152.50</td>\n",
       "      <td>1709.0</td>\n",
       "      <td>0.1444</td>\n",
       "      <td>0.4245</td>\n",
       "      <td>0.4504</td>\n",
       "      <td>0.2430</td>\n",
       "      <td>0.3613</td>\n",
       "      <td>0.08758</td>\n",
       "      <td>NaN</td>\n",
       "    </tr>\n",
       "    <tr>\n",
       "      <th>3</th>\n",
       "      <td>84348301</td>\n",
       "      <td>M</td>\n",
       "      <td>11.42</td>\n",
       "      <td>20.38</td>\n",
       "      <td>77.58</td>\n",
       "      <td>386.1</td>\n",
       "      <td>0.14250</td>\n",
       "      <td>0.28390</td>\n",
       "      <td>0.2414</td>\n",
       "      <td>0.10520</td>\n",
       "      <td>...</td>\n",
       "      <td>26.50</td>\n",
       "      <td>98.87</td>\n",
       "      <td>567.7</td>\n",
       "      <td>0.2098</td>\n",
       "      <td>0.8663</td>\n",
       "      <td>0.6869</td>\n",
       "      <td>0.2575</td>\n",
       "      <td>0.6638</td>\n",
       "      <td>0.17300</td>\n",
       "      <td>NaN</td>\n",
       "    </tr>\n",
       "    <tr>\n",
       "      <th>4</th>\n",
       "      <td>84358402</td>\n",
       "      <td>M</td>\n",
       "      <td>20.29</td>\n",
       "      <td>14.34</td>\n",
       "      <td>135.10</td>\n",
       "      <td>1297.0</td>\n",
       "      <td>0.10030</td>\n",
       "      <td>0.13280</td>\n",
       "      <td>0.1980</td>\n",
       "      <td>0.10430</td>\n",
       "      <td>...</td>\n",
       "      <td>16.67</td>\n",
       "      <td>152.20</td>\n",
       "      <td>1575.0</td>\n",
       "      <td>0.1374</td>\n",
       "      <td>0.2050</td>\n",
       "      <td>0.4000</td>\n",
       "      <td>0.1625</td>\n",
       "      <td>0.2364</td>\n",
       "      <td>0.07678</td>\n",
       "      <td>NaN</td>\n",
       "    </tr>\n",
       "  </tbody>\n",
       "</table>\n",
       "<p>5 rows × 33 columns</p>\n",
       "</div>"
      ],
      "text/plain": [
       "         id diagnosis  radius_mean  texture_mean  perimeter_mean  area_mean  \\\n",
       "0    842302         M        17.99         10.38          122.80     1001.0   \n",
       "1    842517         M        20.57         17.77          132.90     1326.0   \n",
       "2  84300903         M        19.69         21.25          130.00     1203.0   \n",
       "3  84348301         M        11.42         20.38           77.58      386.1   \n",
       "4  84358402         M        20.29         14.34          135.10     1297.0   \n",
       "\n",
       "   smoothness_mean  compactness_mean  concavity_mean  concave points_mean  \\\n",
       "0          0.11840           0.27760          0.3001              0.14710   \n",
       "1          0.08474           0.07864          0.0869              0.07017   \n",
       "2          0.10960           0.15990          0.1974              0.12790   \n",
       "3          0.14250           0.28390          0.2414              0.10520   \n",
       "4          0.10030           0.13280          0.1980              0.10430   \n",
       "\n",
       "   ...  texture_worst  perimeter_worst  area_worst  smoothness_worst  \\\n",
       "0  ...          17.33           184.60      2019.0            0.1622   \n",
       "1  ...          23.41           158.80      1956.0            0.1238   \n",
       "2  ...          25.53           152.50      1709.0            0.1444   \n",
       "3  ...          26.50            98.87       567.7            0.2098   \n",
       "4  ...          16.67           152.20      1575.0            0.1374   \n",
       "\n",
       "   compactness_worst  concavity_worst  concave points_worst  symmetry_worst  \\\n",
       "0             0.6656           0.7119                0.2654          0.4601   \n",
       "1             0.1866           0.2416                0.1860          0.2750   \n",
       "2             0.4245           0.4504                0.2430          0.3613   \n",
       "3             0.8663           0.6869                0.2575          0.6638   \n",
       "4             0.2050           0.4000                0.1625          0.2364   \n",
       "\n",
       "   fractal_dimension_worst  Unnamed: 32  \n",
       "0                  0.11890          NaN  \n",
       "1                  0.08902          NaN  \n",
       "2                  0.08758          NaN  \n",
       "3                  0.17300          NaN  \n",
       "4                  0.07678          NaN  \n",
       "\n",
       "[5 rows x 33 columns]"
      ]
     },
     "execution_count": 3,
     "metadata": {},
     "output_type": "execute_result"
    }
   ],
   "source": [
    "df = pd.read_csv('https://raw.githubusercontent.com/gscdit/Breast-Cancer-Detection/refs/heads/master/data.csv')\n",
    "df.head()"
   ]
  },
  {
   "cell_type": "code",
   "execution_count": 4,
   "id": "040ecb11",
   "metadata": {
    "execution": {
     "iopub.execute_input": "2024-12-09T16:03:12.188111Z",
     "iopub.status.busy": "2024-12-09T16:03:12.187740Z",
     "iopub.status.idle": "2024-12-09T16:03:12.195007Z",
     "shell.execute_reply": "2024-12-09T16:03:12.193774Z"
    },
    "papermill": {
     "duration": 0.016435,
     "end_time": "2024-12-09T16:03:12.197361",
     "exception": false,
     "start_time": "2024-12-09T16:03:12.180926",
     "status": "completed"
    },
    "tags": []
   },
   "outputs": [
    {
     "data": {
      "text/plain": [
       "(569, 33)"
      ]
     },
     "execution_count": 4,
     "metadata": {},
     "output_type": "execute_result"
    }
   ],
   "source": [
    "df.shape"
   ]
  },
  {
   "cell_type": "code",
   "execution_count": 5,
   "id": "d1d73cd2",
   "metadata": {
    "execution": {
     "iopub.execute_input": "2024-12-09T16:03:12.212294Z",
     "iopub.status.busy": "2024-12-09T16:03:12.211902Z",
     "iopub.status.idle": "2024-12-09T16:03:12.218744Z",
     "shell.execute_reply": "2024-12-09T16:03:12.217586Z"
    },
    "papermill": {
     "duration": 0.0178,
     "end_time": "2024-12-09T16:03:12.220960",
     "exception": false,
     "start_time": "2024-12-09T16:03:12.203160",
     "status": "completed"
    },
    "tags": []
   },
   "outputs": [],
   "source": [
    "df.drop(columns=[\"id\", \"Unnamed: 32\"], inplace=True)"
   ]
  },
  {
   "cell_type": "code",
   "execution_count": 6,
   "id": "07c98070",
   "metadata": {
    "execution": {
     "iopub.execute_input": "2024-12-09T16:03:12.234081Z",
     "iopub.status.busy": "2024-12-09T16:03:12.233596Z",
     "iopub.status.idle": "2024-12-09T16:03:12.260378Z",
     "shell.execute_reply": "2024-12-09T16:03:12.259197Z"
    },
    "papermill": {
     "duration": 0.036128,
     "end_time": "2024-12-09T16:03:12.262703",
     "exception": false,
     "start_time": "2024-12-09T16:03:12.226575",
     "status": "completed"
    },
    "tags": []
   },
   "outputs": [
    {
     "data": {
      "text/html": [
       "<div>\n",
       "<style scoped>\n",
       "    .dataframe tbody tr th:only-of-type {\n",
       "        vertical-align: middle;\n",
       "    }\n",
       "\n",
       "    .dataframe tbody tr th {\n",
       "        vertical-align: top;\n",
       "    }\n",
       "\n",
       "    .dataframe thead th {\n",
       "        text-align: right;\n",
       "    }\n",
       "</style>\n",
       "<table border=\"1\" class=\"dataframe\">\n",
       "  <thead>\n",
       "    <tr style=\"text-align: right;\">\n",
       "      <th></th>\n",
       "      <th>diagnosis</th>\n",
       "      <th>radius_mean</th>\n",
       "      <th>texture_mean</th>\n",
       "      <th>perimeter_mean</th>\n",
       "      <th>area_mean</th>\n",
       "      <th>smoothness_mean</th>\n",
       "      <th>compactness_mean</th>\n",
       "      <th>concavity_mean</th>\n",
       "      <th>concave points_mean</th>\n",
       "      <th>symmetry_mean</th>\n",
       "      <th>...</th>\n",
       "      <th>radius_worst</th>\n",
       "      <th>texture_worst</th>\n",
       "      <th>perimeter_worst</th>\n",
       "      <th>area_worst</th>\n",
       "      <th>smoothness_worst</th>\n",
       "      <th>compactness_worst</th>\n",
       "      <th>concavity_worst</th>\n",
       "      <th>concave points_worst</th>\n",
       "      <th>symmetry_worst</th>\n",
       "      <th>fractal_dimension_worst</th>\n",
       "    </tr>\n",
       "  </thead>\n",
       "  <tbody>\n",
       "    <tr>\n",
       "      <th>0</th>\n",
       "      <td>M</td>\n",
       "      <td>17.99</td>\n",
       "      <td>10.38</td>\n",
       "      <td>122.80</td>\n",
       "      <td>1001.0</td>\n",
       "      <td>0.11840</td>\n",
       "      <td>0.27760</td>\n",
       "      <td>0.3001</td>\n",
       "      <td>0.14710</td>\n",
       "      <td>0.2419</td>\n",
       "      <td>...</td>\n",
       "      <td>25.38</td>\n",
       "      <td>17.33</td>\n",
       "      <td>184.60</td>\n",
       "      <td>2019.0</td>\n",
       "      <td>0.1622</td>\n",
       "      <td>0.6656</td>\n",
       "      <td>0.7119</td>\n",
       "      <td>0.2654</td>\n",
       "      <td>0.4601</td>\n",
       "      <td>0.11890</td>\n",
       "    </tr>\n",
       "    <tr>\n",
       "      <th>1</th>\n",
       "      <td>M</td>\n",
       "      <td>20.57</td>\n",
       "      <td>17.77</td>\n",
       "      <td>132.90</td>\n",
       "      <td>1326.0</td>\n",
       "      <td>0.08474</td>\n",
       "      <td>0.07864</td>\n",
       "      <td>0.0869</td>\n",
       "      <td>0.07017</td>\n",
       "      <td>0.1812</td>\n",
       "      <td>...</td>\n",
       "      <td>24.99</td>\n",
       "      <td>23.41</td>\n",
       "      <td>158.80</td>\n",
       "      <td>1956.0</td>\n",
       "      <td>0.1238</td>\n",
       "      <td>0.1866</td>\n",
       "      <td>0.2416</td>\n",
       "      <td>0.1860</td>\n",
       "      <td>0.2750</td>\n",
       "      <td>0.08902</td>\n",
       "    </tr>\n",
       "    <tr>\n",
       "      <th>2</th>\n",
       "      <td>M</td>\n",
       "      <td>19.69</td>\n",
       "      <td>21.25</td>\n",
       "      <td>130.00</td>\n",
       "      <td>1203.0</td>\n",
       "      <td>0.10960</td>\n",
       "      <td>0.15990</td>\n",
       "      <td>0.1974</td>\n",
       "      <td>0.12790</td>\n",
       "      <td>0.2069</td>\n",
       "      <td>...</td>\n",
       "      <td>23.57</td>\n",
       "      <td>25.53</td>\n",
       "      <td>152.50</td>\n",
       "      <td>1709.0</td>\n",
       "      <td>0.1444</td>\n",
       "      <td>0.4245</td>\n",
       "      <td>0.4504</td>\n",
       "      <td>0.2430</td>\n",
       "      <td>0.3613</td>\n",
       "      <td>0.08758</td>\n",
       "    </tr>\n",
       "    <tr>\n",
       "      <th>3</th>\n",
       "      <td>M</td>\n",
       "      <td>11.42</td>\n",
       "      <td>20.38</td>\n",
       "      <td>77.58</td>\n",
       "      <td>386.1</td>\n",
       "      <td>0.14250</td>\n",
       "      <td>0.28390</td>\n",
       "      <td>0.2414</td>\n",
       "      <td>0.10520</td>\n",
       "      <td>0.2597</td>\n",
       "      <td>...</td>\n",
       "      <td>14.91</td>\n",
       "      <td>26.50</td>\n",
       "      <td>98.87</td>\n",
       "      <td>567.7</td>\n",
       "      <td>0.2098</td>\n",
       "      <td>0.8663</td>\n",
       "      <td>0.6869</td>\n",
       "      <td>0.2575</td>\n",
       "      <td>0.6638</td>\n",
       "      <td>0.17300</td>\n",
       "    </tr>\n",
       "    <tr>\n",
       "      <th>4</th>\n",
       "      <td>M</td>\n",
       "      <td>20.29</td>\n",
       "      <td>14.34</td>\n",
       "      <td>135.10</td>\n",
       "      <td>1297.0</td>\n",
       "      <td>0.10030</td>\n",
       "      <td>0.13280</td>\n",
       "      <td>0.1980</td>\n",
       "      <td>0.10430</td>\n",
       "      <td>0.1809</td>\n",
       "      <td>...</td>\n",
       "      <td>22.54</td>\n",
       "      <td>16.67</td>\n",
       "      <td>152.20</td>\n",
       "      <td>1575.0</td>\n",
       "      <td>0.1374</td>\n",
       "      <td>0.2050</td>\n",
       "      <td>0.4000</td>\n",
       "      <td>0.1625</td>\n",
       "      <td>0.2364</td>\n",
       "      <td>0.07678</td>\n",
       "    </tr>\n",
       "  </tbody>\n",
       "</table>\n",
       "<p>5 rows × 31 columns</p>\n",
       "</div>"
      ],
      "text/plain": [
       "  diagnosis  radius_mean  texture_mean  perimeter_mean  area_mean  \\\n",
       "0         M        17.99         10.38          122.80     1001.0   \n",
       "1         M        20.57         17.77          132.90     1326.0   \n",
       "2         M        19.69         21.25          130.00     1203.0   \n",
       "3         M        11.42         20.38           77.58      386.1   \n",
       "4         M        20.29         14.34          135.10     1297.0   \n",
       "\n",
       "   smoothness_mean  compactness_mean  concavity_mean  concave points_mean  \\\n",
       "0          0.11840           0.27760          0.3001              0.14710   \n",
       "1          0.08474           0.07864          0.0869              0.07017   \n",
       "2          0.10960           0.15990          0.1974              0.12790   \n",
       "3          0.14250           0.28390          0.2414              0.10520   \n",
       "4          0.10030           0.13280          0.1980              0.10430   \n",
       "\n",
       "   symmetry_mean  ...  radius_worst  texture_worst  perimeter_worst  \\\n",
       "0         0.2419  ...         25.38          17.33           184.60   \n",
       "1         0.1812  ...         24.99          23.41           158.80   \n",
       "2         0.2069  ...         23.57          25.53           152.50   \n",
       "3         0.2597  ...         14.91          26.50            98.87   \n",
       "4         0.1809  ...         22.54          16.67           152.20   \n",
       "\n",
       "   area_worst  smoothness_worst  compactness_worst  concavity_worst  \\\n",
       "0      2019.0            0.1622             0.6656           0.7119   \n",
       "1      1956.0            0.1238             0.1866           0.2416   \n",
       "2      1709.0            0.1444             0.4245           0.4504   \n",
       "3       567.7            0.2098             0.8663           0.6869   \n",
       "4      1575.0            0.1374             0.2050           0.4000   \n",
       "\n",
       "   concave points_worst  symmetry_worst  fractal_dimension_worst  \n",
       "0                0.2654          0.4601                  0.11890  \n",
       "1                0.1860          0.2750                  0.08902  \n",
       "2                0.2430          0.3613                  0.08758  \n",
       "3                0.2575          0.6638                  0.17300  \n",
       "4                0.1625          0.2364                  0.07678  \n",
       "\n",
       "[5 rows x 31 columns]"
      ]
     },
     "execution_count": 6,
     "metadata": {},
     "output_type": "execute_result"
    }
   ],
   "source": [
    "# After dropping the `id` and `Unnamed: 32` columns\n",
    "df.head()"
   ]
  },
  {
   "cell_type": "markdown",
   "id": "315b3bc4",
   "metadata": {
    "papermill": {
     "duration": 0.005389,
     "end_time": "2024-12-09T16:03:12.273944",
     "exception": false,
     "start_time": "2024-12-09T16:03:12.268555",
     "status": "completed"
    },
    "tags": []
   },
   "source": [
    "## Train test split"
   ]
  },
  {
   "cell_type": "code",
   "execution_count": 7,
   "id": "d0184036",
   "metadata": {
    "execution": {
     "iopub.execute_input": "2024-12-09T16:03:12.287005Z",
     "iopub.status.busy": "2024-12-09T16:03:12.286597Z",
     "iopub.status.idle": "2024-12-09T16:03:12.297084Z",
     "shell.execute_reply": "2024-12-09T16:03:12.295865Z"
    },
    "papermill": {
     "duration": 0.020664,
     "end_time": "2024-12-09T16:03:12.300166",
     "exception": false,
     "start_time": "2024-12-09T16:03:12.279502",
     "status": "completed"
    },
    "tags": []
   },
   "outputs": [],
   "source": [
    "X_train, X_test, y_train, y_test = train_test_split(df.iloc[:, 1:], df.iloc[:, 0], test_size=0.2)"
   ]
  },
  {
   "cell_type": "markdown",
   "id": "6c484e7c",
   "metadata": {
    "papermill": {
     "duration": 0.005358,
     "end_time": "2024-12-09T16:03:12.311396",
     "exception": false,
     "start_time": "2024-12-09T16:03:12.306038",
     "status": "completed"
    },
    "tags": []
   },
   "source": [
    "## Scaling the data"
   ]
  },
  {
   "cell_type": "code",
   "execution_count": 8,
   "id": "0668d740",
   "metadata": {
    "execution": {
     "iopub.execute_input": "2024-12-09T16:03:12.324345Z",
     "iopub.status.busy": "2024-12-09T16:03:12.323959Z",
     "iopub.status.idle": "2024-12-09T16:03:12.335920Z",
     "shell.execute_reply": "2024-12-09T16:03:12.334954Z"
    },
    "papermill": {
     "duration": 0.021499,
     "end_time": "2024-12-09T16:03:12.338549",
     "exception": false,
     "start_time": "2024-12-09T16:03:12.317050",
     "status": "completed"
    },
    "tags": []
   },
   "outputs": [],
   "source": [
    "scaler = StandardScaler()\n",
    "X_train = scaler.fit_transform(X_train)\n",
    "X_test = scaler.transform(X_test)"
   ]
  },
  {
   "cell_type": "markdown",
   "id": "c75b2dc5",
   "metadata": {
    "papermill": {
     "duration": 0.005432,
     "end_time": "2024-12-09T16:03:12.349779",
     "exception": false,
     "start_time": "2024-12-09T16:03:12.344347",
     "status": "completed"
    },
    "tags": []
   },
   "source": [
    "## Label Encoding\n",
    "Since the output comprises of values `M` and `B`, we need to label encode it since our model would not understand letters"
   ]
  },
  {
   "cell_type": "code",
   "execution_count": 9,
   "id": "6760fdfc",
   "metadata": {
    "execution": {
     "iopub.execute_input": "2024-12-09T16:03:12.363267Z",
     "iopub.status.busy": "2024-12-09T16:03:12.362872Z",
     "iopub.status.idle": "2024-12-09T16:03:12.368847Z",
     "shell.execute_reply": "2024-12-09T16:03:12.367461Z"
    },
    "papermill": {
     "duration": 0.01522,
     "end_time": "2024-12-09T16:03:12.371038",
     "exception": false,
     "start_time": "2024-12-09T16:03:12.355818",
     "status": "completed"
    },
    "tags": []
   },
   "outputs": [],
   "source": [
    "encoder = LabelEncoder()\n",
    "y_train = encoder.fit_transform(y_train)\n",
    "y_test = encoder.transform(y_test)"
   ]
  },
  {
   "cell_type": "markdown",
   "id": "2fc22943",
   "metadata": {
    "papermill": {
     "duration": 0.0054,
     "end_time": "2024-12-09T16:03:12.382286",
     "exception": false,
     "start_time": "2024-12-09T16:03:12.376886",
     "status": "completed"
    },
    "tags": []
   },
   "source": [
    "## Numpy arrays to PyTorch tensors"
   ]
  },
  {
   "cell_type": "code",
   "execution_count": 10,
   "id": "48a8a2c7",
   "metadata": {
    "execution": {
     "iopub.execute_input": "2024-12-09T16:03:12.395287Z",
     "iopub.status.busy": "2024-12-09T16:03:12.394922Z",
     "iopub.status.idle": "2024-12-09T16:03:12.414046Z",
     "shell.execute_reply": "2024-12-09T16:03:12.412983Z"
    },
    "papermill": {
     "duration": 0.028399,
     "end_time": "2024-12-09T16:03:12.416326",
     "exception": false,
     "start_time": "2024-12-09T16:03:12.387927",
     "status": "completed"
    },
    "tags": []
   },
   "outputs": [],
   "source": [
    "X_train_tensor = torch.from_numpy(X_train)\n",
    "X_test_tensor = torch.from_numpy(X_test)\n",
    "y_train_tensor = torch.from_numpy(y_train)\n",
    "y_test_tensor = torch.from_numpy(y_test)"
   ]
  },
  {
   "cell_type": "markdown",
   "id": "c2404714",
   "metadata": {
    "papermill": {
     "duration": 0.005389,
     "end_time": "2024-12-09T16:03:12.427541",
     "exception": false,
     "start_time": "2024-12-09T16:03:12.422152",
     "status": "completed"
    },
    "tags": []
   },
   "source": [
    "## Defining the model"
   ]
  },
  {
   "cell_type": "markdown",
   "id": "193c8283",
   "metadata": {
    "papermill": {
     "duration": 0.005385,
     "end_time": "2024-12-09T16:03:12.439150",
     "exception": false,
     "start_time": "2024-12-09T16:03:12.433765",
     "status": "completed"
    },
    "tags": []
   },
   "source": [
    "### Important parameters\n",
    "Define the `learning_rate` and the number of `epochs` to train your model with"
   ]
  },
  {
   "cell_type": "code",
   "execution_count": 11,
   "id": "fb0275a2",
   "metadata": {
    "execution": {
     "iopub.execute_input": "2024-12-09T16:03:12.452897Z",
     "iopub.status.busy": "2024-12-09T16:03:12.452494Z",
     "iopub.status.idle": "2024-12-09T16:03:12.457665Z",
     "shell.execute_reply": "2024-12-09T16:03:12.456592Z"
    },
    "papermill": {
     "duration": 0.014335,
     "end_time": "2024-12-09T16:03:12.459824",
     "exception": false,
     "start_time": "2024-12-09T16:03:12.445489",
     "status": "completed"
    },
    "tags": []
   },
   "outputs": [],
   "source": [
    "learning_rate = 0.1\n",
    "epochs = 25"
   ]
  },
  {
   "cell_type": "code",
   "execution_count": 12,
   "id": "2a15c11a",
   "metadata": {
    "execution": {
     "iopub.execute_input": "2024-12-09T16:03:12.473730Z",
     "iopub.status.busy": "2024-12-09T16:03:12.472542Z",
     "iopub.status.idle": "2024-12-09T16:03:12.480789Z",
     "shell.execute_reply": "2024-12-09T16:03:12.479495Z"
    },
    "papermill": {
     "duration": 0.017417,
     "end_time": "2024-12-09T16:03:12.483122",
     "exception": false,
     "start_time": "2024-12-09T16:03:12.465705",
     "status": "completed"
    },
    "tags": []
   },
   "outputs": [],
   "source": [
    "class MySimpleNN():\n",
    "    \n",
    "    def __init__(self, X):\n",
    "        self.X = X\n",
    "        self.weights = torch.rand((X.shape[1], 1), dtype=torch.float64, requires_grad=True)\n",
    "        self.bias = torch.rand(1, dtype=torch.float64, requires_grad=True)\n",
    "\n",
    "    def forward(self, X):\n",
    "        z = torch.matmul(X, self.weights) + self.bias\n",
    "        y_pred = torch.sigmoid(z)\n",
    "        return y_pred\n",
    "\n",
    "    def loss(self, y_pred, y_train):\n",
    "        # clamp to prevent log(0)\n",
    "        EPSILON = 1e-7\n",
    "        y_pred = torch.clamp(y_pred, EPSILON, 1 - EPSILON)\n",
    "        loss = - (y_train * torch.log(y_pred) + (1 - y_train) * torch.log(y_pred)).mean()\n",
    "        return loss"
   ]
  },
  {
   "cell_type": "markdown",
   "id": "f713564f",
   "metadata": {
    "papermill": {
     "duration": 0.005769,
     "end_time": "2024-12-09T16:03:12.494760",
     "exception": false,
     "start_time": "2024-12-09T16:03:12.488991",
     "status": "completed"
    },
    "tags": []
   },
   "source": [
    "Training pipeline is defined as:\n",
    "```\n",
    "For loop from 1 to epochs:\n",
    "    Forward pass\n",
    "    Calculate loss\n",
    "    Backward pass\n",
    "    Update parameters\n",
    "```"
   ]
  },
  {
   "cell_type": "code",
   "execution_count": 13,
   "id": "c32e5cc9",
   "metadata": {
    "execution": {
     "iopub.execute_input": "2024-12-09T16:03:12.508690Z",
     "iopub.status.busy": "2024-12-09T16:03:12.507645Z",
     "iopub.status.idle": "2024-12-09T16:03:12.529793Z",
     "shell.execute_reply": "2024-12-09T16:03:12.528425Z"
    },
    "papermill": {
     "duration": 0.032084,
     "end_time": "2024-12-09T16:03:12.532374",
     "exception": false,
     "start_time": "2024-12-09T16:03:12.500290",
     "status": "completed"
    },
    "tags": []
   },
   "outputs": [],
   "source": [
    "model = MySimpleNN(X_train_tensor)"
   ]
  },
  {
   "cell_type": "code",
   "execution_count": 14,
   "id": "160b6578",
   "metadata": {
    "execution": {
     "iopub.execute_input": "2024-12-09T16:03:12.547598Z",
     "iopub.status.busy": "2024-12-09T16:03:12.546268Z",
     "iopub.status.idle": "2024-12-09T16:03:12.749140Z",
     "shell.execute_reply": "2024-12-09T16:03:12.747393Z"
    },
    "papermill": {
     "duration": 0.213491,
     "end_time": "2024-12-09T16:03:12.751684",
     "exception": false,
     "start_time": "2024-12-09T16:03:12.538193",
     "status": "completed"
    },
    "tags": []
   },
   "outputs": [
    {
     "name": "stdout",
     "output_type": "stream",
     "text": [
      "Epoch 1 / 25: Loss: 3.7822380490777663\n",
      "Epoch 2 / 25: Loss: 3.5329742018880226\n",
      "Epoch 3 / 25: Loss: 3.2863183715437683\n",
      "Epoch 4 / 25: Loss: 3.0427932974746374\n",
      "Epoch 5 / 25: Loss: 2.803046485259099\n",
      "Epoch 6 / 25: Loss: 2.5678849400901735\n",
      "Epoch 7 / 25: Loss: 2.338311749193117\n",
      "Epoch 8 / 25: Loss: 2.115553600768679\n",
      "Epoch 9 / 25: Loss: 1.901063054281565\n",
      "Epoch 10 / 25: Loss: 1.6964789740639798\n",
      "Epoch 11 / 25: Loss: 1.5035401927839132\n",
      "Epoch 12 / 25: Loss: 1.3239711249275534\n",
      "Epoch 13 / 25: Loss: 1.1593701253759763\n",
      "Epoch 14 / 25: Loss: 1.0111062625799458\n",
      "Epoch 15 / 25: Loss: 0.8801948039462978\n",
      "Epoch 16 / 25: Loss: 0.7671344149156374\n",
      "Epoch 17 / 25: Loss: 0.6717447012756144\n",
      "Epoch 18 / 25: Loss: 0.5930721181954979\n",
      "Epoch 19 / 25: Loss: 0.5294221041653434\n",
      "Epoch 20 / 25: Loss: 0.4785598442129671\n",
      "Epoch 21 / 25: Loss: 0.43805078072127934\n",
      "Epoch 22 / 25: Loss: 0.40559908980564113\n",
      "Epoch 23 / 25: Loss: 0.3792550739382833\n",
      "Epoch 24 / 25: Loss: 0.3574796441333978\n",
      "Epoch 25 / 25: Loss: 0.3391176662880667\n"
     ]
    }
   ],
   "source": [
    "for i in range(1, epochs + 1):\n",
    "\n",
    "    # forward pass\n",
    "    y_pred = model.forward(X_train_tensor)\n",
    "\n",
    "    # calculate loss\n",
    "    loss = model.loss(y_pred, y_train_tensor)\n",
    "\n",
    "    # backward pass\n",
    "    loss.backward()\n",
    "\n",
    "    # update parameters\n",
    "    with torch.no_grad():\n",
    "        model.weights -= learning_rate * model.weights.grad\n",
    "        model.bias -= learning_rate * model.bias.grad\n",
    "\n",
    "    # zero gradients\n",
    "    model.weights.grad.zero_()\n",
    "    model.bias.grad.zero_()\n",
    "\n",
    "    print(f\"Epoch {i} / {epochs}: Loss: {loss.item()}\")"
   ]
  },
  {
   "cell_type": "markdown",
   "id": "bbbb26ea",
   "metadata": {
    "papermill": {
     "duration": 0.006062,
     "end_time": "2024-12-09T16:03:12.765722",
     "exception": false,
     "start_time": "2024-12-09T16:03:12.759660",
     "status": "completed"
    },
    "tags": []
   },
   "source": [
    "## Evaluation"
   ]
  },
  {
   "cell_type": "code",
   "execution_count": 15,
   "id": "52bf5f0e",
   "metadata": {
    "execution": {
     "iopub.execute_input": "2024-12-09T16:03:12.779384Z",
     "iopub.status.busy": "2024-12-09T16:03:12.778996Z",
     "iopub.status.idle": "2024-12-09T16:03:12.789371Z",
     "shell.execute_reply": "2024-12-09T16:03:12.788246Z"
    },
    "papermill": {
     "duration": 0.019799,
     "end_time": "2024-12-09T16:03:12.791783",
     "exception": false,
     "start_time": "2024-12-09T16:03:12.771984",
     "status": "completed"
    },
    "tags": []
   },
   "outputs": [
    {
     "name": "stdout",
     "output_type": "stream",
     "text": [
      "Accuracy: 0.5775623321533203\n"
     ]
    }
   ],
   "source": [
    "with torch.no_grad():\n",
    "    y_pred_test = model.forward(X_test_tensor)\n",
    "    y_pred_test = (y_pred_test > 0.9).float()\n",
    "    accuracy = (y_pred_test == y_test_tensor).float().mean()\n",
    "    print(f\"Accuracy: {accuracy.item()}\")"
   ]
  },
  {
   "cell_type": "code",
   "execution_count": null,
   "id": "14654c28",
   "metadata": {
    "papermill": {
     "duration": 0.005922,
     "end_time": "2024-12-09T16:03:12.803511",
     "exception": false,
     "start_time": "2024-12-09T16:03:12.797589",
     "status": "completed"
    },
    "tags": []
   },
   "outputs": [],
   "source": []
  }
 ],
 "metadata": {
  "kaggle": {
   "accelerator": "none",
   "dataSources": [],
   "dockerImageVersionId": 30804,
   "isGpuEnabled": false,
   "isInternetEnabled": true,
   "language": "python",
   "sourceType": "notebook"
  },
  "kernelspec": {
   "display_name": "Python 3",
   "language": "python",
   "name": "python3"
  },
  "language_info": {
   "codemirror_mode": {
    "name": "ipython",
    "version": 3
   },
   "file_extension": ".py",
   "mimetype": "text/x-python",
   "name": "python",
   "nbconvert_exporter": "python",
   "pygments_lexer": "ipython3",
   "version": "3.10.14"
  },
  "papermill": {
   "default_parameters": {},
   "duration": 11.156169,
   "end_time": "2024-12-09T16:03:13.933999",
   "environment_variables": {},
   "exception": null,
   "input_path": "__notebook__.ipynb",
   "output_path": "__notebook__.ipynb",
   "parameters": {},
   "start_time": "2024-12-09T16:03:02.777830",
   "version": "2.6.0"
  }
 },
 "nbformat": 4,
 "nbformat_minor": 5
}
