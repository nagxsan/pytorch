{
 "cells": [
  {
   "cell_type": "code",
   "execution_count": 1,
   "id": "2523bb17",
   "metadata": {
    "_cell_guid": "b1076dfc-b9ad-4769-8c92-a6c4dae69d19",
    "_uuid": "8f2839f25d086af736a60e9eeb907d3b93b6e0e5",
    "execution": {
     "iopub.execute_input": "2024-12-07T07:23:46.027905Z",
     "iopub.status.busy": "2024-12-07T07:23:46.027528Z",
     "iopub.status.idle": "2024-12-07T07:23:46.879148Z",
     "shell.execute_reply": "2024-12-07T07:23:46.877821Z"
    },
    "papermill": {
     "duration": 0.864803,
     "end_time": "2024-12-07T07:23:46.882017",
     "exception": false,
     "start_time": "2024-12-07T07:23:46.017214",
     "status": "completed"
    },
    "tags": []
   },
   "outputs": [],
   "source": [
    "# This Python 3 environment comes with many helpful analytics libraries installed\n",
    "# It is defined by the kaggle/python Docker image: https://github.com/kaggle/docker-python\n",
    "# For example, here's several helpful packages to load\n",
    "\n",
    "import numpy as np # linear algebra\n",
    "import pandas as pd # data processing, CSV file I/O (e.g. pd.read_csv)\n",
    "\n",
    "# Input data files are available in the read-only \"../input/\" directory\n",
    "# For example, running this (by clicking run or pressing Shift+Enter) will list all files under the input directory\n",
    "\n",
    "import os\n",
    "for dirname, _, filenames in os.walk('/kaggle/input'):\n",
    "    for filename in filenames:\n",
    "        print(os.path.join(dirname, filename))\n",
    "\n",
    "# You can write up to 20GB to the current directory (/kaggle/working/) that gets preserved as output when you create a version using \"Save & Run All\" \n",
    "# You can also write temporary files to /kaggle/temp/, but they won't be saved outside of the current session"
   ]
  },
  {
   "cell_type": "markdown",
   "id": "6d1dab81",
   "metadata": {
    "papermill": {
     "duration": 0.008851,
     "end_time": "2024-12-07T07:23:46.899085",
     "exception": false,
     "start_time": "2024-12-07T07:23:46.890234",
     "status": "completed"
    },
    "tags": []
   },
   "source": [
    "# Autograd"
   ]
  },
  {
   "cell_type": "markdown",
   "id": "7b4269cd",
   "metadata": {
    "papermill": {
     "duration": 0.007441,
     "end_time": "2024-12-07T07:23:46.915512",
     "exception": false,
     "start_time": "2024-12-07T07:23:46.908071",
     "status": "completed"
    },
    "tags": []
   },
   "source": [
    "## Why is autograd important?\n",
    "As functions start becoming nested, computing the derivating becomes more and more complex and difficult.\n",
    "Nested functions like y = f(x), z = f(y), u = f(z) and we need to find du/dx \\\n",
    "For example:\n",
    "```\n",
    "Linear transformation: z = w.x + b\n",
    "Activation function: y_pred = sigmoid(z)\n",
    "Loss function: L = -(y_target * ln(y_pred) + (1 - y_target) * ln(1 - y_pred))\n",
    "```\n",
    "\n",
    "Neural networks are like nested functions and computing derivatives become extremely difficult manually. This is where PyTorch's Autograd module comes into picture"
   ]
  },
  {
   "cell_type": "markdown",
   "id": "39707daf",
   "metadata": {
    "papermill": {
     "duration": 0.007154,
     "end_time": "2024-12-07T07:23:46.930210",
     "exception": false,
     "start_time": "2024-12-07T07:23:46.923056",
     "status": "completed"
    },
    "tags": []
   },
   "source": [
    "***Definition:*** Autograd is a core component of PyTorch that provides automatic differentiation for tensor operations. It enables gradient computation which is essential for training machine learning and deep learning models using optimization algorithms such as gradient descent"
   ]
  },
  {
   "cell_type": "code",
   "execution_count": 2,
   "id": "ed33ee25",
   "metadata": {
    "execution": {
     "iopub.execute_input": "2024-12-07T07:23:46.946688Z",
     "iopub.status.busy": "2024-12-07T07:23:46.946142Z",
     "iopub.status.idle": "2024-12-07T07:23:58.621077Z",
     "shell.execute_reply": "2024-12-07T07:23:58.619614Z"
    },
    "papermill": {
     "duration": 11.686501,
     "end_time": "2024-12-07T07:23:58.624070",
     "exception": false,
     "start_time": "2024-12-07T07:23:46.937569",
     "status": "completed"
    },
    "tags": []
   },
   "outputs": [
    {
     "name": "stdout",
     "output_type": "stream",
     "text": [
      "Requirement already satisfied: torch in /opt/conda/lib/python3.10/site-packages (2.4.0+cpu)\r\n",
      "Requirement already satisfied: torchvision in /opt/conda/lib/python3.10/site-packages (0.19.0+cpu)\r\n",
      "Requirement already satisfied: filelock in /opt/conda/lib/python3.10/site-packages (from torch) (3.15.1)\r\n",
      "Requirement already satisfied: typing-extensions>=4.8.0 in /opt/conda/lib/python3.10/site-packages (from torch) (4.12.2)\r\n",
      "Requirement already satisfied: sympy in /opt/conda/lib/python3.10/site-packages (from torch) (1.13.1)\r\n",
      "Requirement already satisfied: networkx in /opt/conda/lib/python3.10/site-packages (from torch) (3.3)\r\n",
      "Requirement already satisfied: jinja2 in /opt/conda/lib/python3.10/site-packages (from torch) (3.1.4)\r\n",
      "Requirement already satisfied: fsspec in /opt/conda/lib/python3.10/site-packages (from torch) (2024.9.0)\r\n",
      "Requirement already satisfied: numpy in /opt/conda/lib/python3.10/site-packages (from torchvision) (1.26.4)\r\n",
      "Requirement already satisfied: pillow!=8.3.*,>=5.3.0 in /opt/conda/lib/python3.10/site-packages (from torchvision) (10.3.0)\r\n",
      "Requirement already satisfied: MarkupSafe>=2.0 in /opt/conda/lib/python3.10/site-packages (from jinja2->torch) (2.1.5)\r\n",
      "Requirement already satisfied: mpmath<1.4,>=1.1.0 in /opt/conda/lib/python3.10/site-packages (from sympy->torch) (1.3.0)\r\n"
     ]
    }
   ],
   "source": [
    "!pip3 install torch torchvision"
   ]
  },
  {
   "cell_type": "code",
   "execution_count": 3,
   "id": "afc4e572",
   "metadata": {
    "execution": {
     "iopub.execute_input": "2024-12-07T07:23:58.641831Z",
     "iopub.status.busy": "2024-12-07T07:23:58.641421Z",
     "iopub.status.idle": "2024-12-07T07:24:01.843027Z",
     "shell.execute_reply": "2024-12-07T07:24:01.841870Z"
    },
    "papermill": {
     "duration": 3.213557,
     "end_time": "2024-12-07T07:24:01.845658",
     "exception": false,
     "start_time": "2024-12-07T07:23:58.632101",
     "status": "completed"
    },
    "tags": []
   },
   "outputs": [
    {
     "data": {
      "text/plain": [
       "'2.4.0+cpu'"
      ]
     },
     "execution_count": 3,
     "metadata": {},
     "output_type": "execute_result"
    }
   ],
   "source": [
    "import torch\n",
    "torch.__version__"
   ]
  },
  {
   "cell_type": "markdown",
   "id": "04dca8b4",
   "metadata": {
    "papermill": {
     "duration": 0.008142,
     "end_time": "2024-12-07T07:24:01.862701",
     "exception": false,
     "start_time": "2024-12-07T07:24:01.854559",
     "status": "completed"
    },
    "tags": []
   },
   "source": [
    "# Example 1"
   ]
  },
  {
   "cell_type": "code",
   "execution_count": 4,
   "id": "44b82e60",
   "metadata": {
    "execution": {
     "iopub.execute_input": "2024-12-07T07:24:01.881957Z",
     "iopub.status.busy": "2024-12-07T07:24:01.881382Z",
     "iopub.status.idle": "2024-12-07T07:24:01.920445Z",
     "shell.execute_reply": "2024-12-07T07:24:01.919286Z"
    },
    "papermill": {
     "duration": 0.052334,
     "end_time": "2024-12-07T07:24:01.923281",
     "exception": false,
     "start_time": "2024-12-07T07:24:01.870947",
     "status": "completed"
    },
    "tags": []
   },
   "outputs": [],
   "source": [
    "x = torch.tensor(5.0, requires_grad=True)\n",
    "y = x ** 2"
   ]
  },
  {
   "cell_type": "code",
   "execution_count": 5,
   "id": "a40e1d31",
   "metadata": {
    "execution": {
     "iopub.execute_input": "2024-12-07T07:24:01.941661Z",
     "iopub.status.busy": "2024-12-07T07:24:01.941240Z",
     "iopub.status.idle": "2024-12-07T07:24:02.016607Z",
     "shell.execute_reply": "2024-12-07T07:24:02.015471Z"
    },
    "papermill": {
     "duration": 0.087471,
     "end_time": "2024-12-07T07:24:02.019054",
     "exception": false,
     "start_time": "2024-12-07T07:24:01.931583",
     "status": "completed"
    },
    "tags": []
   },
   "outputs": [
    {
     "data": {
      "text/plain": [
       "tensor(5., requires_grad=True)"
      ]
     },
     "execution_count": 5,
     "metadata": {},
     "output_type": "execute_result"
    }
   ],
   "source": [
    "x"
   ]
  },
  {
   "cell_type": "code",
   "execution_count": 6,
   "id": "60562fde",
   "metadata": {
    "execution": {
     "iopub.execute_input": "2024-12-07T07:24:02.037312Z",
     "iopub.status.busy": "2024-12-07T07:24:02.036893Z",
     "iopub.status.idle": "2024-12-07T07:24:02.045112Z",
     "shell.execute_reply": "2024-12-07T07:24:02.043923Z"
    },
    "papermill": {
     "duration": 0.020809,
     "end_time": "2024-12-07T07:24:02.048199",
     "exception": false,
     "start_time": "2024-12-07T07:24:02.027390",
     "status": "completed"
    },
    "tags": []
   },
   "outputs": [
    {
     "data": {
      "text/plain": [
       "tensor(25., grad_fn=<PowBackward0>)"
      ]
     },
     "execution_count": 6,
     "metadata": {},
     "output_type": "execute_result"
    }
   ],
   "source": [
    "y"
   ]
  },
  {
   "cell_type": "markdown",
   "id": "5645427c",
   "metadata": {
    "papermill": {
     "duration": 0.011625,
     "end_time": "2024-12-07T07:24:02.071218",
     "exception": false,
     "start_time": "2024-12-07T07:24:02.059593",
     "status": "completed"
    },
    "tags": []
   },
   "source": [
    "## What is `grad_fn=<PowBackward0>`\n",
    "During the forward pass PyTorch will track the operations if one of the involved tensors requires gradients (i.e. its `.requires_grad` attribute it set to True) and will create a computation graph from these operations. To be able to backpropagate through this computation graph and to calculate the gradients for all involved parameters, PyTorch will additionally store the corresponding \"gradient functions\" (or \"backward functions\") of the executed operations to the output tensor (stored as the `.grad_fn` attribute). Once the forward pass is done, you can then call the `.backward()` operation on the output (or loss) tensor, which will backpropagate through the computation graph using the functions stored in `.grad_fn`."
   ]
  },
  {
   "cell_type": "code",
   "execution_count": 7,
   "id": "eedd9185",
   "metadata": {
    "execution": {
     "iopub.execute_input": "2024-12-07T07:24:02.102513Z",
     "iopub.status.busy": "2024-12-07T07:24:02.102116Z",
     "iopub.status.idle": "2024-12-07T07:24:02.117643Z",
     "shell.execute_reply": "2024-12-07T07:24:02.116189Z"
    },
    "papermill": {
     "duration": 0.033075,
     "end_time": "2024-12-07T07:24:02.121902",
     "exception": false,
     "start_time": "2024-12-07T07:24:02.088827",
     "status": "completed"
    },
    "tags": []
   },
   "outputs": [],
   "source": [
    "y.backward()"
   ]
  },
  {
   "cell_type": "code",
   "execution_count": 8,
   "id": "7284b2e6",
   "metadata": {
    "execution": {
     "iopub.execute_input": "2024-12-07T07:24:02.150042Z",
     "iopub.status.busy": "2024-12-07T07:24:02.149600Z",
     "iopub.status.idle": "2024-12-07T07:24:02.158127Z",
     "shell.execute_reply": "2024-12-07T07:24:02.156919Z"
    },
    "papermill": {
     "duration": 0.023892,
     "end_time": "2024-12-07T07:24:02.160521",
     "exception": false,
     "start_time": "2024-12-07T07:24:02.136629",
     "status": "completed"
    },
    "tags": []
   },
   "outputs": [
    {
     "data": {
      "text/plain": [
       "tensor(10.)"
      ]
     },
     "execution_count": 8,
     "metadata": {},
     "output_type": "execute_result"
    }
   ],
   "source": [
    "x.grad # value of derivative of y w.r.t x at x"
   ]
  },
  {
   "cell_type": "markdown",
   "id": "3895252a",
   "metadata": {
    "papermill": {
     "duration": 0.007645,
     "end_time": "2024-12-07T07:24:02.176365",
     "exception": false,
     "start_time": "2024-12-07T07:24:02.168720",
     "status": "completed"
    },
    "tags": []
   },
   "source": [
    "# Example 2"
   ]
  },
  {
   "cell_type": "code",
   "execution_count": 9,
   "id": "cd0e6cfa",
   "metadata": {
    "execution": {
     "iopub.execute_input": "2024-12-07T07:24:02.194070Z",
     "iopub.status.busy": "2024-12-07T07:24:02.193672Z",
     "iopub.status.idle": "2024-12-07T07:24:02.205585Z",
     "shell.execute_reply": "2024-12-07T07:24:02.204758Z"
    },
    "papermill": {
     "duration": 0.023585,
     "end_time": "2024-12-07T07:24:02.207983",
     "exception": false,
     "start_time": "2024-12-07T07:24:02.184398",
     "status": "completed"
    },
    "tags": []
   },
   "outputs": [],
   "source": [
    "x = torch.tensor(10.5, requires_grad=True)\n",
    "y = x ** 4.5\n",
    "z = torch.sin(y)"
   ]
  },
  {
   "cell_type": "code",
   "execution_count": 10,
   "id": "d5c23119",
   "metadata": {
    "execution": {
     "iopub.execute_input": "2024-12-07T07:24:02.227093Z",
     "iopub.status.busy": "2024-12-07T07:24:02.225990Z",
     "iopub.status.idle": "2024-12-07T07:24:02.234117Z",
     "shell.execute_reply": "2024-12-07T07:24:02.232833Z"
    },
    "papermill": {
     "duration": 0.02033,
     "end_time": "2024-12-07T07:24:02.236603",
     "exception": false,
     "start_time": "2024-12-07T07:24:02.216273",
     "status": "completed"
    },
    "tags": []
   },
   "outputs": [
    {
     "data": {
      "text/plain": [
       "tensor(10.5000, requires_grad=True)"
      ]
     },
     "execution_count": 10,
     "metadata": {},
     "output_type": "execute_result"
    }
   ],
   "source": [
    "x"
   ]
  },
  {
   "cell_type": "code",
   "execution_count": 11,
   "id": "8751f5f8",
   "metadata": {
    "execution": {
     "iopub.execute_input": "2024-12-07T07:24:02.254318Z",
     "iopub.status.busy": "2024-12-07T07:24:02.253984Z",
     "iopub.status.idle": "2024-12-07T07:24:02.261825Z",
     "shell.execute_reply": "2024-12-07T07:24:02.260699Z"
    },
    "papermill": {
     "duration": 0.019286,
     "end_time": "2024-12-07T07:24:02.263998",
     "exception": false,
     "start_time": "2024-12-07T07:24:02.244712",
     "status": "completed"
    },
    "tags": []
   },
   "outputs": [
    {
     "data": {
      "text/plain": [
       "tensor(39386.9023, grad_fn=<PowBackward0>)"
      ]
     },
     "execution_count": 11,
     "metadata": {},
     "output_type": "execute_result"
    }
   ],
   "source": [
    "y"
   ]
  },
  {
   "cell_type": "code",
   "execution_count": 12,
   "id": "c0d772fb",
   "metadata": {
    "execution": {
     "iopub.execute_input": "2024-12-07T07:24:02.281629Z",
     "iopub.status.busy": "2024-12-07T07:24:02.281233Z",
     "iopub.status.idle": "2024-12-07T07:24:02.289412Z",
     "shell.execute_reply": "2024-12-07T07:24:02.288265Z"
    },
    "papermill": {
     "duration": 0.019356,
     "end_time": "2024-12-07T07:24:02.291321",
     "exception": false,
     "start_time": "2024-12-07T07:24:02.271965",
     "status": "completed"
    },
    "tags": []
   },
   "outputs": [
    {
     "data": {
      "text/plain": [
       "tensor(-0.6855, grad_fn=<SinBackward0>)"
      ]
     },
     "execution_count": 12,
     "metadata": {},
     "output_type": "execute_result"
    }
   ],
   "source": [
    "z"
   ]
  },
  {
   "cell_type": "code",
   "execution_count": 13,
   "id": "de1ca7ba",
   "metadata": {
    "execution": {
     "iopub.execute_input": "2024-12-07T07:24:02.309593Z",
     "iopub.status.busy": "2024-12-07T07:24:02.309118Z",
     "iopub.status.idle": "2024-12-07T07:24:02.319179Z",
     "shell.execute_reply": "2024-12-07T07:24:02.317990Z"
    },
    "papermill": {
     "duration": 0.02194,
     "end_time": "2024-12-07T07:24:02.321423",
     "exception": false,
     "start_time": "2024-12-07T07:24:02.299483",
     "status": "completed"
    },
    "tags": []
   },
   "outputs": [],
   "source": [
    "z.backward()"
   ]
  },
  {
   "cell_type": "code",
   "execution_count": 14,
   "id": "0740256f",
   "metadata": {
    "execution": {
     "iopub.execute_input": "2024-12-07T07:24:02.339971Z",
     "iopub.status.busy": "2024-12-07T07:24:02.339527Z",
     "iopub.status.idle": "2024-12-07T07:24:02.348374Z",
     "shell.execute_reply": "2024-12-07T07:24:02.347212Z"
    },
    "papermill": {
     "duration": 0.020699,
     "end_time": "2024-12-07T07:24:02.350661",
     "exception": false,
     "start_time": "2024-12-07T07:24:02.329962",
     "status": "completed"
    },
    "tags": []
   },
   "outputs": [
    {
     "data": {
      "text/plain": [
       "tensor(-12290.4551)"
      ]
     },
     "execution_count": 14,
     "metadata": {},
     "output_type": "execute_result"
    }
   ],
   "source": [
    "x.grad"
   ]
  },
  {
   "cell_type": "markdown",
   "id": "27e5afca",
   "metadata": {
    "papermill": {
     "duration": 0.00829,
     "end_time": "2024-12-07T07:24:02.367876",
     "exception": false,
     "start_time": "2024-12-07T07:24:02.359586",
     "status": "completed"
    },
    "tags": []
   },
   "source": [
    "## Error!\n",
    "y.grad fails\n",
    "This is so because the input tensors are the leaves, the output tensors are the root and the layers form the intermediate nodes in the computation graph. By default, the derivatives are computed w.r.t to the leaves and you can access .grad property for those tensors. You cannot access the intermediate node .grad by default"
   ]
  },
  {
   "cell_type": "markdown",
   "id": "9532938c",
   "metadata": {
    "papermill": {
     "duration": 0.008289,
     "end_time": "2024-12-07T07:24:02.384881",
     "exception": false,
     "start_time": "2024-12-07T07:24:02.376592",
     "status": "completed"
    },
    "tags": []
   },
   "source": [
    "# Example 3: A single layer perceptron"
   ]
  },
  {
   "cell_type": "code",
   "execution_count": 15,
   "id": "0119b9c8",
   "metadata": {
    "execution": {
     "iopub.execute_input": "2024-12-07T07:24:02.403966Z",
     "iopub.status.busy": "2024-12-07T07:24:02.403534Z",
     "iopub.status.idle": "2024-12-07T07:24:02.411849Z",
     "shell.execute_reply": "2024-12-07T07:24:02.410844Z"
    },
    "papermill": {
     "duration": 0.020787,
     "end_time": "2024-12-07T07:24:02.414232",
     "exception": false,
     "start_time": "2024-12-07T07:24:02.393445",
     "status": "completed"
    },
    "tags": []
   },
   "outputs": [],
   "source": [
    "x = torch.tensor(6.7) # input (CGPA)\n",
    "y = torch.tensor(0.0) # output (Placement yes(1)/no(0))\n",
    "\n",
    "w = torch.rand((), requires_grad=True) # weight\n",
    "b = torch.rand((), requires_grad=True) # bias"
   ]
  },
  {
   "cell_type": "code",
   "execution_count": 16,
   "id": "bd7b80bf",
   "metadata": {
    "execution": {
     "iopub.execute_input": "2024-12-07T07:24:02.432855Z",
     "iopub.status.busy": "2024-12-07T07:24:02.432388Z",
     "iopub.status.idle": "2024-12-07T07:24:02.438143Z",
     "shell.execute_reply": "2024-12-07T07:24:02.436969Z"
    },
    "papermill": {
     "duration": 0.017683,
     "end_time": "2024-12-07T07:24:02.440339",
     "exception": false,
     "start_time": "2024-12-07T07:24:02.422656",
     "status": "completed"
    },
    "tags": []
   },
   "outputs": [],
   "source": [
    "# Binary cross entropy loss for scalar\n",
    "def binary_cross_entropy_loss(prediction, target):\n",
    "    EPSILON = 1e-8\n",
    "    prediction = torch.clamp(prediction, EPSILON, 1-EPSILON) # to prevent log(0), we make sure prediction lies in a certain range\n",
    "    loss = - (target * torch.log(prediction) + (1 - target) * torch.log(1 - prediction))\n",
    "    return loss"
   ]
  },
  {
   "cell_type": "code",
   "execution_count": 17,
   "id": "504b173f",
   "metadata": {
    "execution": {
     "iopub.execute_input": "2024-12-07T07:24:02.460225Z",
     "iopub.status.busy": "2024-12-07T07:24:02.459312Z",
     "iopub.status.idle": "2024-12-07T07:24:02.476755Z",
     "shell.execute_reply": "2024-12-07T07:24:02.475368Z"
    },
    "papermill": {
     "duration": 0.030135,
     "end_time": "2024-12-07T07:24:02.479293",
     "exception": false,
     "start_time": "2024-12-07T07:24:02.449158",
     "status": "completed"
    },
    "tags": []
   },
   "outputs": [],
   "source": [
    "# Forward Pass\n",
    "# Linear transformation:\n",
    "z = w * x + b\n",
    "\n",
    "# Activaion Function:\n",
    "y_pred = torch.sigmoid(z)\n",
    "\n",
    "# Loss function:\n",
    "loss = binary_cross_entropy_loss(y_pred, y)"
   ]
  },
  {
   "cell_type": "code",
   "execution_count": 18,
   "id": "0bd75ab6",
   "metadata": {
    "execution": {
     "iopub.execute_input": "2024-12-07T07:24:02.498195Z",
     "iopub.status.busy": "2024-12-07T07:24:02.497745Z",
     "iopub.status.idle": "2024-12-07T07:24:02.505432Z",
     "shell.execute_reply": "2024-12-07T07:24:02.504454Z"
    },
    "papermill": {
     "duration": 0.020092,
     "end_time": "2024-12-07T07:24:02.508034",
     "exception": false,
     "start_time": "2024-12-07T07:24:02.487942",
     "status": "completed"
    },
    "tags": []
   },
   "outputs": [],
   "source": [
    "# Manual Backpropagation\n",
    "# 1. dL/d(y_pred): Loss with respect to the prediction (y_pred)\n",
    "dloss_dy_pred = (y_pred - y)/(y_pred*(1-y_pred))\n",
    "\n",
    "# 2. dy_pred/dz: Prediction (y_pred) with respect to z (sigmoid derivative)\n",
    "dy_pred_dz = y_pred * (1 - y_pred)\n",
    "\n",
    "# 3. dz/dw and dz/db: z with respect to w and b\n",
    "dz_dw = x  # dz/dw = x\n",
    "dz_db = 1  # dz/db = 1 (bias contributes directly to z)\n",
    "\n",
    "dL_dw = dloss_dy_pred * dy_pred_dz * dz_dw\n",
    "dL_db = dloss_dy_pred * dy_pred_dz * dz_db"
   ]
  },
  {
   "cell_type": "code",
   "execution_count": 19,
   "id": "22bcae30",
   "metadata": {
    "execution": {
     "iopub.execute_input": "2024-12-07T07:24:02.527605Z",
     "iopub.status.busy": "2024-12-07T07:24:02.527134Z",
     "iopub.status.idle": "2024-12-07T07:24:02.532966Z",
     "shell.execute_reply": "2024-12-07T07:24:02.531707Z"
    },
    "papermill": {
     "duration": 0.018718,
     "end_time": "2024-12-07T07:24:02.535587",
     "exception": false,
     "start_time": "2024-12-07T07:24:02.516869",
     "status": "completed"
    },
    "tags": []
   },
   "outputs": [
    {
     "name": "stdout",
     "output_type": "stream",
     "text": [
      "Manual Gradient of loss w.r.t weight (dw): 5.841495990753174\n",
      "Manual Gradient of loss w.r.t bias (db): 0.8718650937080383\n"
     ]
    }
   ],
   "source": [
    "print(f\"Manual Gradient of loss w.r.t weight (dw): {dL_dw}\")\n",
    "print(f\"Manual Gradient of loss w.r.t bias (db): {dL_db}\")"
   ]
  },
  {
   "cell_type": "code",
   "execution_count": 20,
   "id": "83548eb1",
   "metadata": {
    "execution": {
     "iopub.execute_input": "2024-12-07T07:24:02.555401Z",
     "iopub.status.busy": "2024-12-07T07:24:02.554537Z",
     "iopub.status.idle": "2024-12-07T07:24:02.566275Z",
     "shell.execute_reply": "2024-12-07T07:24:02.564882Z"
    },
    "papermill": {
     "duration": 0.024964,
     "end_time": "2024-12-07T07:24:02.569273",
     "exception": false,
     "start_time": "2024-12-07T07:24:02.544309",
     "status": "completed"
    },
    "tags": []
   },
   "outputs": [
    {
     "name": "stdout",
     "output_type": "stream",
     "text": [
      "Autograd gradient of loss w.r.t weight (dw): 5.841495990753174\n",
      "Autograd gradient of loss w.r.t bias (db): 0.8718650937080383\n"
     ]
    }
   ],
   "source": [
    "# Autograd\n",
    "loss.backward()\n",
    "\n",
    "print(f\"Autograd gradient of loss w.r.t weight (dw): {w.grad}\")\n",
    "print(f\"Autograd gradient of loss w.r.t bias (db): {b.grad}\")"
   ]
  },
  {
   "cell_type": "markdown",
   "id": "4bd8bcac",
   "metadata": {
    "papermill": {
     "duration": 0.008734,
     "end_time": "2024-12-07T07:24:02.587049",
     "exception": false,
     "start_time": "2024-12-07T07:24:02.578315",
     "status": "completed"
    },
    "tags": []
   },
   "source": [
    "# Clearing gradients\n",
    "If you run backprop once and get some gradients, they do not clear on their own. Running the same backprop again would cause accumulation of gradients. For instance if `y = x ** 2` and if let's say `x.grad == 4.0`, and we run `y.backward()` and `x.grad` again, it will result in `x.grad == 8.0`, which is wrong."
   ]
  },
  {
   "cell_type": "code",
   "execution_count": 21,
   "id": "e3c2fd37",
   "metadata": {
    "execution": {
     "iopub.execute_input": "2024-12-07T07:24:02.606615Z",
     "iopub.status.busy": "2024-12-07T07:24:02.606156Z",
     "iopub.status.idle": "2024-12-07T07:24:02.611884Z",
     "shell.execute_reply": "2024-12-07T07:24:02.610730Z"
    },
    "papermill": {
     "duration": 0.01828,
     "end_time": "2024-12-07T07:24:02.614116",
     "exception": false,
     "start_time": "2024-12-07T07:24:02.595836",
     "status": "completed"
    },
    "tags": []
   },
   "outputs": [],
   "source": [
    "x = torch.tensor(2.0, requires_grad=True)"
   ]
  },
  {
   "cell_type": "code",
   "execution_count": 22,
   "id": "28708096",
   "metadata": {
    "execution": {
     "iopub.execute_input": "2024-12-07T07:24:02.634633Z",
     "iopub.status.busy": "2024-12-07T07:24:02.633292Z",
     "iopub.status.idle": "2024-12-07T07:24:02.641702Z",
     "shell.execute_reply": "2024-12-07T07:24:02.640551Z"
    },
    "papermill": {
     "duration": 0.021054,
     "end_time": "2024-12-07T07:24:02.643936",
     "exception": false,
     "start_time": "2024-12-07T07:24:02.622882",
     "status": "completed"
    },
    "tags": []
   },
   "outputs": [
    {
     "data": {
      "text/plain": [
       "tensor(4., grad_fn=<PowBackward0>)"
      ]
     },
     "execution_count": 22,
     "metadata": {},
     "output_type": "execute_result"
    }
   ],
   "source": [
    "# Run from this cell till x.grad again to view accumulation of grads\n",
    "y = x ** 2\n",
    "y"
   ]
  },
  {
   "cell_type": "code",
   "execution_count": 23,
   "id": "63af951d",
   "metadata": {
    "execution": {
     "iopub.execute_input": "2024-12-07T07:24:02.663174Z",
     "iopub.status.busy": "2024-12-07T07:24:02.662798Z",
     "iopub.status.idle": "2024-12-07T07:24:02.668292Z",
     "shell.execute_reply": "2024-12-07T07:24:02.667278Z"
    },
    "papermill": {
     "duration": 0.017942,
     "end_time": "2024-12-07T07:24:02.670744",
     "exception": false,
     "start_time": "2024-12-07T07:24:02.652802",
     "status": "completed"
    },
    "tags": []
   },
   "outputs": [],
   "source": [
    "y.backward()"
   ]
  },
  {
   "cell_type": "code",
   "execution_count": 24,
   "id": "908f504b",
   "metadata": {
    "execution": {
     "iopub.execute_input": "2024-12-07T07:24:02.690483Z",
     "iopub.status.busy": "2024-12-07T07:24:02.690011Z",
     "iopub.status.idle": "2024-12-07T07:24:02.698695Z",
     "shell.execute_reply": "2024-12-07T07:24:02.697646Z"
    },
    "papermill": {
     "duration": 0.021067,
     "end_time": "2024-12-07T07:24:02.700701",
     "exception": false,
     "start_time": "2024-12-07T07:24:02.679634",
     "status": "completed"
    },
    "tags": []
   },
   "outputs": [
    {
     "data": {
      "text/plain": [
       "tensor(4.)"
      ]
     },
     "execution_count": 24,
     "metadata": {},
     "output_type": "execute_result"
    }
   ],
   "source": [
    "x.grad"
   ]
  },
  {
   "cell_type": "code",
   "execution_count": 25,
   "id": "e9d2dd5b",
   "metadata": {
    "execution": {
     "iopub.execute_input": "2024-12-07T07:24:02.721103Z",
     "iopub.status.busy": "2024-12-07T07:24:02.719870Z",
     "iopub.status.idle": "2024-12-07T07:24:02.728887Z",
     "shell.execute_reply": "2024-12-07T07:24:02.727655Z"
    },
    "papermill": {
     "duration": 0.021411,
     "end_time": "2024-12-07T07:24:02.731096",
     "exception": false,
     "start_time": "2024-12-07T07:24:02.709685",
     "status": "completed"
    },
    "tags": []
   },
   "outputs": [
    {
     "data": {
      "text/plain": [
       "tensor(0.)"
      ]
     },
     "execution_count": 25,
     "metadata": {},
     "output_type": "execute_result"
    }
   ],
   "source": [
    "x.grad.zero_() # this would clear the gradient variable and now repeating the same cycle would always give the correct grad"
   ]
  },
  {
   "cell_type": "markdown",
   "id": "13ca935a",
   "metadata": {
    "papermill": {
     "duration": 0.00891,
     "end_time": "2024-12-07T07:24:02.748977",
     "exception": false,
     "start_time": "2024-12-07T07:24:02.740067",
     "status": "completed"
    },
    "tags": []
   },
   "source": [
    "# Disabling gradient tracking\n",
    "The idea of using autograd is only necessary when training the neural network models since we need to calculate the derivatives and perform backward passes to update the weights and biases. However, once we have performed the training of the neural network and we want to perform predictions using the model, we do not need the backward pass, we only need forward pass. In such a scenario, we can disable gradient tracking. We can disable gradient tracking with the following three options:\n",
    "- requires_grad_(False)\n",
    "- detach()\n",
    "- torch.no_grad()"
   ]
  },
  {
   "cell_type": "markdown",
   "id": "6ab9e74d",
   "metadata": {
    "papermill": {
     "duration": 0.008809,
     "end_time": "2024-12-07T07:24:02.766887",
     "exception": false,
     "start_time": "2024-12-07T07:24:02.758078",
     "status": "completed"
    },
    "tags": []
   },
   "source": [
    "## requires_grad_(False)"
   ]
  },
  {
   "cell_type": "code",
   "execution_count": 26,
   "id": "9305b7f3",
   "metadata": {
    "execution": {
     "iopub.execute_input": "2024-12-07T07:24:02.787340Z",
     "iopub.status.busy": "2024-12-07T07:24:02.786524Z",
     "iopub.status.idle": "2024-12-07T07:24:02.795010Z",
     "shell.execute_reply": "2024-12-07T07:24:02.793824Z"
    },
    "papermill": {
     "duration": 0.02089,
     "end_time": "2024-12-07T07:24:02.797098",
     "exception": false,
     "start_time": "2024-12-07T07:24:02.776208",
     "status": "completed"
    },
    "tags": []
   },
   "outputs": [
    {
     "data": {
      "text/plain": [
       "tensor(2.)"
      ]
     },
     "execution_count": 26,
     "metadata": {},
     "output_type": "execute_result"
    }
   ],
   "source": [
    "x.requires_grad_(False) # in place disabling requires_grad"
   ]
  },
  {
   "cell_type": "code",
   "execution_count": 27,
   "id": "604ed27a",
   "metadata": {
    "execution": {
     "iopub.execute_input": "2024-12-07T07:24:02.816925Z",
     "iopub.status.busy": "2024-12-07T07:24:02.816548Z",
     "iopub.status.idle": "2024-12-07T07:24:02.824705Z",
     "shell.execute_reply": "2024-12-07T07:24:02.823533Z"
    },
    "papermill": {
     "duration": 0.020641,
     "end_time": "2024-12-07T07:24:02.826840",
     "exception": false,
     "start_time": "2024-12-07T07:24:02.806199",
     "status": "completed"
    },
    "tags": []
   },
   "outputs": [
    {
     "data": {
      "text/plain": [
       "tensor(4.)"
      ]
     },
     "execution_count": 27,
     "metadata": {},
     "output_type": "execute_result"
    }
   ],
   "source": [
    "y = x ** 2\n",
    "y\n",
    "\n",
    "# here y.backward() would fail since there is no grad_fn"
   ]
  },
  {
   "cell_type": "markdown",
   "id": "7828e23c",
   "metadata": {
    "papermill": {
     "duration": 0.009446,
     "end_time": "2024-12-07T07:24:02.845689",
     "exception": false,
     "start_time": "2024-12-07T07:24:02.836243",
     "status": "completed"
    },
    "tags": []
   },
   "source": [
    "## detach()"
   ]
  },
  {
   "cell_type": "code",
   "execution_count": 28,
   "id": "c6c0ac16",
   "metadata": {
    "execution": {
     "iopub.execute_input": "2024-12-07T07:24:02.866254Z",
     "iopub.status.busy": "2024-12-07T07:24:02.865849Z",
     "iopub.status.idle": "2024-12-07T07:24:02.873733Z",
     "shell.execute_reply": "2024-12-07T07:24:02.872701Z"
    },
    "papermill": {
     "duration": 0.020909,
     "end_time": "2024-12-07T07:24:02.876014",
     "exception": false,
     "start_time": "2024-12-07T07:24:02.855105",
     "status": "completed"
    },
    "tags": []
   },
   "outputs": [
    {
     "data": {
      "text/plain": [
       "tensor(4., grad_fn=<PowBackward0>)"
      ]
     },
     "execution_count": 28,
     "metadata": {},
     "output_type": "execute_result"
    }
   ],
   "source": [
    "x = torch.tensor(2.0, requires_grad=True)\n",
    "y = x ** 2\n",
    "y"
   ]
  },
  {
   "cell_type": "code",
   "execution_count": 29,
   "id": "6fd29afa",
   "metadata": {
    "execution": {
     "iopub.execute_input": "2024-12-07T07:24:02.899626Z",
     "iopub.status.busy": "2024-12-07T07:24:02.898579Z",
     "iopub.status.idle": "2024-12-07T07:24:02.906802Z",
     "shell.execute_reply": "2024-12-07T07:24:02.905663Z"
    },
    "papermill": {
     "duration": 0.023018,
     "end_time": "2024-12-07T07:24:02.909307",
     "exception": false,
     "start_time": "2024-12-07T07:24:02.886289",
     "status": "completed"
    },
    "tags": []
   },
   "outputs": [
    {
     "data": {
      "text/plain": [
       "tensor(4.)"
      ]
     },
     "execution_count": 29,
     "metadata": {},
     "output_type": "execute_result"
    }
   ],
   "source": [
    "z = x.detach() # exact same as x but without the gradient tracking\n",
    "y1 = z ** 2\n",
    "y1"
   ]
  },
  {
   "cell_type": "markdown",
   "id": "800a72c6",
   "metadata": {
    "papermill": {
     "duration": 0.008854,
     "end_time": "2024-12-07T07:24:02.928246",
     "exception": false,
     "start_time": "2024-12-07T07:24:02.919392",
     "status": "completed"
    },
    "tags": []
   },
   "source": [
    "## torch.no_grad()"
   ]
  },
  {
   "cell_type": "code",
   "execution_count": 30,
   "id": "d23913a1",
   "metadata": {
    "execution": {
     "iopub.execute_input": "2024-12-07T07:24:02.948147Z",
     "iopub.status.busy": "2024-12-07T07:24:02.947775Z",
     "iopub.status.idle": "2024-12-07T07:24:02.956461Z",
     "shell.execute_reply": "2024-12-07T07:24:02.955213Z"
    },
    "papermill": {
     "duration": 0.021209,
     "end_time": "2024-12-07T07:24:02.958578",
     "exception": false,
     "start_time": "2024-12-07T07:24:02.937369",
     "status": "completed"
    },
    "tags": []
   },
   "outputs": [
    {
     "data": {
      "text/plain": [
       "tensor(2., requires_grad=True)"
      ]
     },
     "execution_count": 30,
     "metadata": {},
     "output_type": "execute_result"
    }
   ],
   "source": [
    "x = torch.tensor(2.0, requires_grad=True)\n",
    "x"
   ]
  },
  {
   "cell_type": "code",
   "execution_count": 31,
   "id": "12348d4f",
   "metadata": {
    "execution": {
     "iopub.execute_input": "2024-12-07T07:24:02.981095Z",
     "iopub.status.busy": "2024-12-07T07:24:02.980650Z",
     "iopub.status.idle": "2024-12-07T07:24:02.989515Z",
     "shell.execute_reply": "2024-12-07T07:24:02.988184Z"
    },
    "papermill": {
     "duration": 0.022114,
     "end_time": "2024-12-07T07:24:02.991815",
     "exception": false,
     "start_time": "2024-12-07T07:24:02.969701",
     "status": "completed"
    },
    "tags": []
   },
   "outputs": [
    {
     "data": {
      "text/plain": [
       "tensor(4.)"
      ]
     },
     "execution_count": 31,
     "metadata": {},
     "output_type": "execute_result"
    }
   ],
   "source": [
    "with torch.no_grad():\n",
    "    y = x ** 2\n",
    "y\n",
    "# here again y.backward() would not work.\n",
    "# if we remove `with torch.no_grad()`, then again gradient tracking is enabled"
   ]
  },
  {
   "cell_type": "code",
   "execution_count": null,
   "id": "794dbd04",
   "metadata": {
    "papermill": {
     "duration": 0.009814,
     "end_time": "2024-12-07T07:24:03.013065",
     "exception": false,
     "start_time": "2024-12-07T07:24:03.003251",
     "status": "completed"
    },
    "tags": []
   },
   "outputs": [],
   "source": []
  }
 ],
 "metadata": {
  "kaggle": {
   "accelerator": "none",
   "dataSources": [],
   "dockerImageVersionId": 30804,
   "isGpuEnabled": false,
   "isInternetEnabled": true,
   "language": "python",
   "sourceType": "notebook"
  },
  "kernelspec": {
   "display_name": "Python 3",
   "language": "python",
   "name": "python3"
  },
  "language_info": {
   "codemirror_mode": {
    "name": "ipython",
    "version": 3
   },
   "file_extension": ".py",
   "mimetype": "text/x-python",
   "name": "python",
   "nbconvert_exporter": "python",
   "pygments_lexer": "ipython3",
   "version": "3.10.14"
  },
  "papermill": {
   "default_parameters": {},
   "duration": 20.679794,
   "end_time": "2024-12-07T07:24:04.050671",
   "environment_variables": {},
   "exception": null,
   "input_path": "__notebook__.ipynb",
   "output_path": "__notebook__.ipynb",
   "parameters": {},
   "start_time": "2024-12-07T07:23:43.370877",
   "version": "2.6.0"
  }
 },
 "nbformat": 4,
 "nbformat_minor": 5
}
