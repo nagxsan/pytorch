{
 "cells": [
  {
   "cell_type": "code",
   "execution_count": 1,
   "id": "fcc228a2",
   "metadata": {
    "_cell_guid": "b1076dfc-b9ad-4769-8c92-a6c4dae69d19",
    "_uuid": "8f2839f25d086af736a60e9eeb907d3b93b6e0e5",
    "execution": {
     "iopub.execute_input": "2025-01-31T07:48:25.094336Z",
     "iopub.status.busy": "2025-01-31T07:48:25.093831Z",
     "iopub.status.idle": "2025-01-31T07:48:26.180965Z",
     "shell.execute_reply": "2025-01-31T07:48:26.179861Z"
    },
    "papermill": {
     "duration": 1.098813,
     "end_time": "2025-01-31T07:48:26.183366",
     "exception": false,
     "start_time": "2025-01-31T07:48:25.084553",
     "status": "completed"
    },
    "tags": []
   },
   "outputs": [],
   "source": [
    "# This Python 3 environment comes with many helpful analytics libraries installed\n",
    "# It is defined by the kaggle/python Docker image: https://github.com/kaggle/docker-python\n",
    "# For example, here's several helpful packages to load\n",
    "\n",
    "import numpy as np # linear algebra\n",
    "import pandas as pd # data processing, CSV file I/O (e.g. pd.read_csv)\n",
    "\n",
    "# Input data files are available in the read-only \"../input/\" directory\n",
    "# For example, running this (by clicking run or pressing Shift+Enter) will list all files under the input directory\n",
    "\n",
    "import os\n",
    "for dirname, _, filenames in os.walk('/kaggle/input'):\n",
    "    for filename in filenames:\n",
    "        print(os.path.join(dirname, filename))\n",
    "\n",
    "# You can write up to 20GB to the current directory (/kaggle/working/) that gets preserved as output when you create a version using \"Save & Run All\" \n",
    "# You can also write temporary files to /kaggle/temp/, but they won't be saved outside of the current session"
   ]
  },
  {
   "cell_type": "markdown",
   "id": "f55a6a70",
   "metadata": {
    "papermill": {
     "duration": 0.00701,
     "end_time": "2025-01-31T07:48:26.198197",
     "exception": false,
     "start_time": "2025-01-31T07:48:26.191187",
     "status": "completed"
    },
    "tags": []
   },
   "source": [
    "# Create dummy dataset"
   ]
  },
  {
   "cell_type": "code",
   "execution_count": 2,
   "id": "28c52be4",
   "metadata": {
    "execution": {
     "iopub.execute_input": "2025-01-31T07:48:26.210564Z",
     "iopub.status.busy": "2025-01-31T07:48:26.210054Z",
     "iopub.status.idle": "2025-01-31T07:48:32.145466Z",
     "shell.execute_reply": "2025-01-31T07:48:32.144282Z"
    },
    "papermill": {
     "duration": 5.943152,
     "end_time": "2025-01-31T07:48:32.147741",
     "exception": false,
     "start_time": "2025-01-31T07:48:26.204589",
     "status": "completed"
    },
    "tags": []
   },
   "outputs": [],
   "source": [
    "from sklearn.datasets import make_classification\n",
    "import torch"
   ]
  },
  {
   "cell_type": "code",
   "execution_count": 3,
   "id": "a7c0fc64",
   "metadata": {
    "execution": {
     "iopub.execute_input": "2025-01-31T07:48:32.157610Z",
     "iopub.status.busy": "2025-01-31T07:48:32.157109Z",
     "iopub.status.idle": "2025-01-31T07:48:32.177352Z",
     "shell.execute_reply": "2025-01-31T07:48:32.176221Z"
    },
    "papermill": {
     "duration": 0.027181,
     "end_time": "2025-01-31T07:48:32.179322",
     "exception": false,
     "start_time": "2025-01-31T07:48:32.152141",
     "status": "completed"
    },
    "tags": []
   },
   "outputs": [],
   "source": [
    "X, y = make_classification(\n",
    "    n_samples=10,\n",
    "    n_features=2,\n",
    "    n_informative=2,\n",
    "    n_redundant=0,\n",
    "    n_classes=2,\n",
    "    random_state=42\n",
    ")"
   ]
  },
  {
   "cell_type": "code",
   "execution_count": 4,
   "id": "f5331d04",
   "metadata": {
    "execution": {
     "iopub.execute_input": "2025-01-31T07:48:32.188749Z",
     "iopub.status.busy": "2025-01-31T07:48:32.188319Z",
     "iopub.status.idle": "2025-01-31T07:48:32.195599Z",
     "shell.execute_reply": "2025-01-31T07:48:32.194467Z"
    },
    "papermill": {
     "duration": 0.01394,
     "end_time": "2025-01-31T07:48:32.197478",
     "exception": false,
     "start_time": "2025-01-31T07:48:32.183538",
     "status": "completed"
    },
    "tags": []
   },
   "outputs": [
    {
     "data": {
      "text/plain": [
       "array([[ 1.06833894, -0.97007347],\n",
       "       [-1.14021544, -0.83879234],\n",
       "       [-2.8953973 ,  1.97686236],\n",
       "       [-0.72063436, -0.96059253],\n",
       "       [-1.96287438, -0.99225135],\n",
       "       [-0.9382051 , -0.54304815],\n",
       "       [ 1.72725924, -1.18582677],\n",
       "       [ 1.77736657,  1.51157598],\n",
       "       [ 1.89969252,  0.83444483],\n",
       "       [-0.58723065, -1.97171753]])"
      ]
     },
     "execution_count": 4,
     "metadata": {},
     "output_type": "execute_result"
    }
   ],
   "source": [
    "X"
   ]
  },
  {
   "cell_type": "code",
   "execution_count": 5,
   "id": "2c730065",
   "metadata": {
    "execution": {
     "iopub.execute_input": "2025-01-31T07:48:32.207991Z",
     "iopub.status.busy": "2025-01-31T07:48:32.207577Z",
     "iopub.status.idle": "2025-01-31T07:48:32.213937Z",
     "shell.execute_reply": "2025-01-31T07:48:32.212820Z"
    },
    "papermill": {
     "duration": 0.013433,
     "end_time": "2025-01-31T07:48:32.215630",
     "exception": false,
     "start_time": "2025-01-31T07:48:32.202197",
     "status": "completed"
    },
    "tags": []
   },
   "outputs": [
    {
     "data": {
      "text/plain": [
       "(10, 2)"
      ]
     },
     "execution_count": 5,
     "metadata": {},
     "output_type": "execute_result"
    }
   ],
   "source": [
    "X.shape"
   ]
  },
  {
   "cell_type": "code",
   "execution_count": 6,
   "id": "47ce4daa",
   "metadata": {
    "execution": {
     "iopub.execute_input": "2025-01-31T07:48:32.225875Z",
     "iopub.status.busy": "2025-01-31T07:48:32.225462Z",
     "iopub.status.idle": "2025-01-31T07:48:32.233034Z",
     "shell.execute_reply": "2025-01-31T07:48:32.231872Z"
    },
    "papermill": {
     "duration": 0.014592,
     "end_time": "2025-01-31T07:48:32.234708",
     "exception": false,
     "start_time": "2025-01-31T07:48:32.220116",
     "status": "completed"
    },
    "tags": []
   },
   "outputs": [
    {
     "data": {
      "text/plain": [
       "array([1, 0, 0, 0, 0, 1, 1, 1, 1, 0])"
      ]
     },
     "execution_count": 6,
     "metadata": {},
     "output_type": "execute_result"
    }
   ],
   "source": [
    "y"
   ]
  },
  {
   "cell_type": "code",
   "execution_count": 7,
   "id": "fd5e22d4",
   "metadata": {
    "execution": {
     "iopub.execute_input": "2025-01-31T07:48:32.244705Z",
     "iopub.status.busy": "2025-01-31T07:48:32.244365Z",
     "iopub.status.idle": "2025-01-31T07:48:32.249932Z",
     "shell.execute_reply": "2025-01-31T07:48:32.248846Z"
    },
    "papermill": {
     "duration": 0.012333,
     "end_time": "2025-01-31T07:48:32.251471",
     "exception": false,
     "start_time": "2025-01-31T07:48:32.239138",
     "status": "completed"
    },
    "tags": []
   },
   "outputs": [
    {
     "data": {
      "text/plain": [
       "(10,)"
      ]
     },
     "execution_count": 7,
     "metadata": {},
     "output_type": "execute_result"
    }
   ],
   "source": [
    "y.shape"
   ]
  },
  {
   "cell_type": "code",
   "execution_count": 8,
   "id": "2f2ebbb7",
   "metadata": {
    "execution": {
     "iopub.execute_input": "2025-01-31T07:48:32.261424Z",
     "iopub.status.busy": "2025-01-31T07:48:32.261053Z",
     "iopub.status.idle": "2025-01-31T07:48:32.299054Z",
     "shell.execute_reply": "2025-01-31T07:48:32.297886Z"
    },
    "papermill": {
     "duration": 0.044947,
     "end_time": "2025-01-31T07:48:32.300917",
     "exception": false,
     "start_time": "2025-01-31T07:48:32.255970",
     "status": "completed"
    },
    "tags": []
   },
   "outputs": [],
   "source": [
    "# Convert to PyTorch tensors\n",
    "X = torch.tensor(X, dtype=torch.float32)\n",
    "y = torch.tensor(y, dtype=torch.long)"
   ]
  },
  {
   "cell_type": "markdown",
   "id": "6ad3f3db",
   "metadata": {
    "papermill": {
     "duration": 0.004129,
     "end_time": "2025-01-31T07:48:32.309468",
     "exception": false,
     "start_time": "2025-01-31T07:48:32.305339",
     "status": "completed"
    },
    "tags": []
   },
   "source": [
    "# Using Dataset and DataLoader"
   ]
  },
  {
   "cell_type": "code",
   "execution_count": 9,
   "id": "f307b5c7",
   "metadata": {
    "execution": {
     "iopub.execute_input": "2025-01-31T07:48:32.319522Z",
     "iopub.status.busy": "2025-01-31T07:48:32.319124Z",
     "iopub.status.idle": "2025-01-31T07:48:32.323852Z",
     "shell.execute_reply": "2025-01-31T07:48:32.322776Z"
    },
    "papermill": {
     "duration": 0.011716,
     "end_time": "2025-01-31T07:48:32.325526",
     "exception": false,
     "start_time": "2025-01-31T07:48:32.313810",
     "status": "completed"
    },
    "tags": []
   },
   "outputs": [],
   "source": [
    "from torch.utils.data import Dataset, DataLoader"
   ]
  },
  {
   "cell_type": "code",
   "execution_count": 10,
   "id": "6c06b268",
   "metadata": {
    "execution": {
     "iopub.execute_input": "2025-01-31T07:48:32.335703Z",
     "iopub.status.busy": "2025-01-31T07:48:32.335359Z",
     "iopub.status.idle": "2025-01-31T07:48:32.340909Z",
     "shell.execute_reply": "2025-01-31T07:48:32.339678Z"
    },
    "papermill": {
     "duration": 0.012696,
     "end_time": "2025-01-31T07:48:32.342808",
     "exception": false,
     "start_time": "2025-01-31T07:48:32.330112",
     "status": "completed"
    },
    "tags": []
   },
   "outputs": [],
   "source": [
    "# create custom dataset class\n",
    "class CustomDataset(Dataset):\n",
    "    def __init__(self, features, labels):\n",
    "        super().__init__()\n",
    "        self.features = features\n",
    "        self.labels = labels\n",
    "    def __len__(self):\n",
    "        return self.features.shape[0]\n",
    "    def __getitem__(self, index):\n",
    "        return (self.features[index], self.labels[index])"
   ]
  },
  {
   "cell_type": "code",
   "execution_count": 11,
   "id": "f83af3f6",
   "metadata": {
    "execution": {
     "iopub.execute_input": "2025-01-31T07:48:32.352996Z",
     "iopub.status.busy": "2025-01-31T07:48:32.352572Z",
     "iopub.status.idle": "2025-01-31T07:48:32.356869Z",
     "shell.execute_reply": "2025-01-31T07:48:32.355955Z"
    },
    "papermill": {
     "duration": 0.011134,
     "end_time": "2025-01-31T07:48:32.358422",
     "exception": false,
     "start_time": "2025-01-31T07:48:32.347288",
     "status": "completed"
    },
    "tags": []
   },
   "outputs": [],
   "source": [
    "dataset = CustomDataset(X, y)"
   ]
  },
  {
   "cell_type": "code",
   "execution_count": 12,
   "id": "d0fef0e7",
   "metadata": {
    "execution": {
     "iopub.execute_input": "2025-01-31T07:48:32.368681Z",
     "iopub.status.busy": "2025-01-31T07:48:32.368339Z",
     "iopub.status.idle": "2025-01-31T07:48:32.374039Z",
     "shell.execute_reply": "2025-01-31T07:48:32.373090Z"
    },
    "papermill": {
     "duration": 0.012576,
     "end_time": "2025-01-31T07:48:32.375590",
     "exception": false,
     "start_time": "2025-01-31T07:48:32.363014",
     "status": "completed"
    },
    "tags": []
   },
   "outputs": [
    {
     "data": {
      "text/plain": [
       "10"
      ]
     },
     "execution_count": 12,
     "metadata": {},
     "output_type": "execute_result"
    }
   ],
   "source": [
    "len(dataset) # uses __len__ method"
   ]
  },
  {
   "cell_type": "code",
   "execution_count": 13,
   "id": "b4427f5f",
   "metadata": {
    "execution": {
     "iopub.execute_input": "2025-01-31T07:48:32.386063Z",
     "iopub.status.busy": "2025-01-31T07:48:32.385684Z",
     "iopub.status.idle": "2025-01-31T07:48:32.459850Z",
     "shell.execute_reply": "2025-01-31T07:48:32.458824Z"
    },
    "papermill": {
     "duration": 0.081323,
     "end_time": "2025-01-31T07:48:32.461575",
     "exception": false,
     "start_time": "2025-01-31T07:48:32.380252",
     "status": "completed"
    },
    "tags": []
   },
   "outputs": [
    {
     "data": {
      "text/plain": [
       "(tensor([-2.8954,  1.9769]), tensor(0))"
      ]
     },
     "execution_count": 13,
     "metadata": {},
     "output_type": "execute_result"
    }
   ],
   "source": [
    "dataset[2] # uses __getitem__ method"
   ]
  },
  {
   "cell_type": "code",
   "execution_count": 14,
   "id": "7891baf0",
   "metadata": {
    "execution": {
     "iopub.execute_input": "2025-01-31T07:48:32.472505Z",
     "iopub.status.busy": "2025-01-31T07:48:32.472128Z",
     "iopub.status.idle": "2025-01-31T07:48:32.476828Z",
     "shell.execute_reply": "2025-01-31T07:48:32.475789Z"
    },
    "papermill": {
     "duration": 0.012049,
     "end_time": "2025-01-31T07:48:32.478598",
     "exception": false,
     "start_time": "2025-01-31T07:48:32.466549",
     "status": "completed"
    },
    "tags": []
   },
   "outputs": [],
   "source": [
    "dataloader = DataLoader(dataset, batch_size=2, shuffle=True)"
   ]
  },
  {
   "cell_type": "code",
   "execution_count": 15,
   "id": "c3d6df2e",
   "metadata": {
    "execution": {
     "iopub.execute_input": "2025-01-31T07:48:32.489139Z",
     "iopub.status.busy": "2025-01-31T07:48:32.488708Z",
     "iopub.status.idle": "2025-01-31T07:48:32.527505Z",
     "shell.execute_reply": "2025-01-31T07:48:32.526281Z"
    },
    "papermill": {
     "duration": 0.046288,
     "end_time": "2025-01-31T07:48:32.529542",
     "exception": false,
     "start_time": "2025-01-31T07:48:32.483254",
     "status": "completed"
    },
    "tags": []
   },
   "outputs": [
    {
     "name": "stdout",
     "output_type": "stream",
     "text": [
      "tensor([[-1.1402, -0.8388],\n",
      "        [ 1.0683, -0.9701]])\n",
      "tensor([0, 1])\n",
      "--------------------------------------------------\n",
      "tensor([[-0.7206, -0.9606],\n",
      "        [ 1.8997,  0.8344]])\n",
      "tensor([0, 1])\n",
      "--------------------------------------------------\n",
      "tensor([[ 1.7774,  1.5116],\n",
      "        [-1.9629, -0.9923]])\n",
      "tensor([1, 0])\n",
      "--------------------------------------------------\n",
      "tensor([[-0.5872, -1.9717],\n",
      "        [ 1.7273, -1.1858]])\n",
      "tensor([0, 1])\n",
      "--------------------------------------------------\n",
      "tensor([[-0.9382, -0.5430],\n",
      "        [-2.8954,  1.9769]])\n",
      "tensor([1, 0])\n",
      "--------------------------------------------------\n"
     ]
    }
   ],
   "source": [
    "for batch_features, batch_labels in dataloader:\n",
    "    print(batch_features)\n",
    "    print(batch_labels)\n",
    "    print(\"-\"*50)"
   ]
  },
  {
   "cell_type": "code",
   "execution_count": null,
   "id": "9fc6cf46",
   "metadata": {
    "papermill": {
     "duration": 0.004869,
     "end_time": "2025-01-31T07:48:32.539251",
     "exception": false,
     "start_time": "2025-01-31T07:48:32.534382",
     "status": "completed"
    },
    "tags": []
   },
   "outputs": [],
   "source": []
  }
 ],
 "metadata": {
  "kaggle": {
   "accelerator": "none",
   "dataSources": [],
   "dockerImageVersionId": 30839,
   "isGpuEnabled": false,
   "isInternetEnabled": true,
   "language": "python",
   "sourceType": "notebook"
  },
  "kernelspec": {
   "display_name": "Python 3",
   "language": "python",
   "name": "python3"
  },
  "language_info": {
   "codemirror_mode": {
    "name": "ipython",
    "version": 3
   },
   "file_extension": ".py",
   "mimetype": "text/x-python",
   "name": "python",
   "nbconvert_exporter": "python",
   "pygments_lexer": "ipython3",
   "version": "3.10.12"
  },
  "papermill": {
   "default_parameters": {},
   "duration": 12.265378,
   "end_time": "2025-01-31T07:48:34.269208",
   "environment_variables": {},
   "exception": null,
   "input_path": "__notebook__.ipynb",
   "output_path": "__notebook__.ipynb",
   "parameters": {},
   "start_time": "2025-01-31T07:48:22.003830",
   "version": "2.6.0"
  }
 },
 "nbformat": 4,
 "nbformat_minor": 5
}
